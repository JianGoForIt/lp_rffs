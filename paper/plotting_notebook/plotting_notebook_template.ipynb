{
 "cells": [
  {
   "cell_type": "code",
   "execution_count": 1,
   "metadata": {
    "collapsed": true
   },
   "outputs": [],
   "source": [
    "%matplotlib inline\n",
    "from matplotlib import pyplot as plt\n",
    "import numpy as np\n",
    "import csv\n",
    "import os, sys\n",
    "from latexifypaper import *\n",
    "from csv_plot import *\n",
    "plt.rc('text', usetex=True)\n",
    "plt.rc('font', family='serif')\n",
    "from matplotlib import gridspec"
   ]
  },
  {
   "cell_type": "code",
   "execution_count": 2,
   "metadata": {
    "collapsed": false
   },
   "outputs": [],
   "source": [
    "def csv_to_table(file_name, delimiter=',', row_headers=True):\n",
    "    with open(file_name, 'r') as csv_file:  \n",
    "        csv_reader = csv.reader(csv_file, delimiter=delimiter)\n",
    "        groups = next(csv_reader)[1:]\n",
    "        names = []\n",
    "        data = []\n",
    "        for row in csv_reader:\n",
    "            if row_headers:\n",
    "                names.append(row[0])\n",
    "                # print([type(x) for x in row[1:] ])\n",
    "                #print(row)\n",
    "                #print()\n",
    "                row2 = []\n",
    "                for r in row[1:]:\n",
    "                    if r == '':\n",
    "                        row2.append(float('nan'))\n",
    "                    else:\n",
    "                        row2.append(float(r))\n",
    "                data.append(list(row2))\n",
    "                #data.append(list(map(lambda x: float(x), row[1:])))\n",
    "            else:\n",
    "                data.append(list(map(lambda x: float(x), row)))\n",
    "    return groups, names, np.array(data)"
   ]
  },
  {
   "cell_type": "code",
   "execution_count": 3,
   "metadata": {
    "collapsed": true
   },
   "outputs": [],
   "source": [
    "# def plot_figure_with_error_bar(names, data, color_list):\n",
    "#     '''\n",
    "#     each column of data is a line\n",
    "#     the name follows the pattern like ['fp Nystrom-x', 'fp Nystrom-y', 'fp Nystrom-y_std', 'fp RFF-x', 'fp RFF-y', 'fp RFF-y_std']\n",
    "#     '''\n",
    "#     marker_list = ['o', 'v', '^', 's', 'h']\n",
    "#     for i in range(data.shape[1] // 3):\n",
    "#         idx = i * 3\n",
    "#         label = names[idx].split(\"-\")[0]\n",
    "#         print \"label \", names[idx], label\n",
    "#         x = data[:, idx]\n",
    "#         average_y = data[:, idx + 1]\n",
    "#         std_y = data[:, idx + 2]\n",
    "# #         print x, average_y, std_y   \n",
    "#         plt.errorbar(x, average_y, yerr=std_y, label=label, marker=marker_list[i], markeredgecolor=colors[i % len(color_list)], fmt=\"-o\", linewidth=1, capsize=3.5, capthick=1, color=colors[i % len(color_list)])"
   ]
  },
  {
   "cell_type": "code",
   "execution_count": 4,
   "metadata": {
    "collapsed": true
   },
   "outputs": [],
   "source": [
    "# def set_fig_xtick(values, labels, fontsize):\n",
    "#     ax = plt.gca()\n",
    "#     ax.set_xticks(values)\n",
    "#     ax.set_xticklabels(labels)\n",
    "#     ax.tick_params(axis='both', which='major', labelsize=fontsize)\n",
    "#     ax.tick_params(axis='both', which='minor', labelsize=fontsize)\n",
    "    \n",
    "# def set_fig_ytick(values, labels, fontsize):\n",
    "#     ax = plt.gca()\n",
    "#     ax.set_yticks(values)\n",
    "#     ax.set_yticklabels(labels)\n",
    "#     ax.tick_params(axis='both', which='major', labelsize=fontsize)\n",
    "#     ax.tick_params(axis='both', which='minor', labelsize=fontsize)"
   ]
  },
  {
   "cell_type": "code",
   "execution_count": 5,
   "metadata": {
    "collapsed": true
   },
   "outputs": [],
   "source": [
    "csv_file_name = \"/Users/Jian/Data/research/lp_kernel/lp_kernel/paper/data_for_plot/regression_l2_vs_mem.csv\""
   ]
  },
  {
   "cell_type": "code",
   "execution_count": 6,
   "metadata": {
    "collapsed": false
   },
   "outputs": [
    {
     "name": "stdout",
     "output_type": "stream",
     "text": [
      "['fp Nystrom-x', 'fp Nystrom-y', 'fp Nystrom-y_std', 'fp RFF-x', 'fp RFF-y', 'fp RFF-y_std', 'lp cir. RFF 8 bits-x', 'lp cir. RFF 8 bits-y', 'lp cir. RFF 8 bits-y_std', 'lp cir. RFF 4 bits-x', 'lp cir. RFF 4 bits-y', 'lp cir. RFF 4 bits-y_std']\n",
      "['1', '2', '3', '4', '5', '6', '7']\n"
     ]
    }
   ],
   "source": [
    "groups, names, data = csv_to_table(csv_file_name)\n",
    "names = names[1:]\n",
    "print groups\n",
    "print names\n",
    "# print data.shape\n",
    "# print data[:, 0], data[:, 1], data[:, 2]"
   ]
  },
  {
   "cell_type": "code",
   "execution_count": 7,
   "metadata": {
    "collapsed": true
   },
   "outputs": [],
   "source": [
    "label_font=12\n",
    "legend_font = 10"
   ]
  },
  {
   "cell_type": "code",
   "execution_count": 8,
   "metadata": {
    "collapsed": false
   },
   "outputs": [
    {
     "name": "stdout",
     "output_type": "stream",
     "text": [
      "label  fp Nystrom-x fp Nystrom\n"
     ]
    },
    {
     "ename": "NameError",
     "evalue": "global name 'colors' is not defined",
     "output_type": "error",
     "traceback": [
      "\u001b[0;31m---------------------------------------------------------------------------\u001b[0m",
      "\u001b[0;31mNameError\u001b[0m                                 Traceback (most recent call last)",
      "\u001b[0;32m<ipython-input-8-378ae511ca6c>\u001b[0m in \u001b[0;36m<module>\u001b[0;34m()\u001b[0m\n\u001b[1;32m      5\u001b[0m \u001b[0mfig\u001b[0m \u001b[0;34m=\u001b[0m \u001b[0mplt\u001b[0m\u001b[0;34m.\u001b[0m\u001b[0mfigure\u001b[0m\u001b[0;34m(\u001b[0m\u001b[0mfigsize\u001b[0m\u001b[0;34m=\u001b[0m\u001b[0;34m[\u001b[0m\u001b[0;36m3.3\u001b[0m\u001b[0;34m,\u001b[0m \u001b[0;36m2.6\u001b[0m\u001b[0;34m]\u001b[0m\u001b[0;34m)\u001b[0m\u001b[0;34m\u001b[0m\u001b[0m\n\u001b[1;32m      6\u001b[0m \u001b[0max\u001b[0m \u001b[0;34m=\u001b[0m \u001b[0mplt\u001b[0m\u001b[0;34m.\u001b[0m\u001b[0msubplot\u001b[0m\u001b[0;34m(\u001b[0m\u001b[0;36m111\u001b[0m\u001b[0;34m)\u001b[0m\u001b[0;34m\u001b[0m\u001b[0m\n\u001b[0;32m----> 7\u001b[0;31m \u001b[0mplot_figure_with_error_bar\u001b[0m\u001b[0;34m(\u001b[0m\u001b[0mgroups\u001b[0m\u001b[0;34m,\u001b[0m \u001b[0mdata\u001b[0m\u001b[0;34m[\u001b[0m\u001b[0;34m:\u001b[0m\u001b[0;34m,\u001b[0m \u001b[0;34m:\u001b[0m\u001b[0;36m12\u001b[0m\u001b[0;34m]\u001b[0m\u001b[0;34m,\u001b[0m \u001b[0mcolors\u001b[0m\u001b[0;34m)\u001b[0m\u001b[0;34m\u001b[0m\u001b[0m\n\u001b[0m\u001b[1;32m      8\u001b[0m \u001b[0mplt\u001b[0m\u001b[0;34m.\u001b[0m\u001b[0mgrid\u001b[0m\u001b[0;34m(\u001b[0m\u001b[0;34m)\u001b[0m\u001b[0;34m\u001b[0m\u001b[0m\n\u001b[1;32m      9\u001b[0m \u001b[0mplt\u001b[0m\u001b[0;34m.\u001b[0m\u001b[0myscale\u001b[0m\u001b[0;34m(\u001b[0m\u001b[0;34m\"log\"\u001b[0m\u001b[0;34m)\u001b[0m\u001b[0;34m\u001b[0m\u001b[0m\n",
      "\u001b[0;32m/Users/Jian/Data/research/lp_kernel/lp_kernel/paper/plotting_notebook/csv_plot.py\u001b[0m in \u001b[0;36mplot_figure_with_error_bar\u001b[0;34m(names, data, color_list)\u001b[0m\n\u001b[1;32m     18\u001b[0m         \u001b[0mstd_y\u001b[0m \u001b[0;34m=\u001b[0m \u001b[0mdata\u001b[0m\u001b[0;34m[\u001b[0m\u001b[0;34m:\u001b[0m\u001b[0;34m,\u001b[0m \u001b[0midx\u001b[0m \u001b[0;34m+\u001b[0m \u001b[0;36m2\u001b[0m\u001b[0;34m]\u001b[0m\u001b[0;34m\u001b[0m\u001b[0m\n\u001b[1;32m     19\u001b[0m \u001b[0;31m#         print x, average_y, std_y\u001b[0m\u001b[0;34m\u001b[0m\u001b[0;34m\u001b[0m\u001b[0m\n\u001b[0;32m---> 20\u001b[0;31m         \u001b[0mplt\u001b[0m\u001b[0;34m.\u001b[0m\u001b[0merrorbar\u001b[0m\u001b[0;34m(\u001b[0m\u001b[0mx\u001b[0m\u001b[0;34m,\u001b[0m \u001b[0maverage_y\u001b[0m\u001b[0;34m,\u001b[0m \u001b[0myerr\u001b[0m\u001b[0;34m=\u001b[0m\u001b[0mstd_y\u001b[0m\u001b[0;34m,\u001b[0m \u001b[0mlabel\u001b[0m\u001b[0;34m=\u001b[0m\u001b[0mlabel\u001b[0m\u001b[0;34m,\u001b[0m \u001b[0mmarker\u001b[0m\u001b[0;34m=\u001b[0m\u001b[0mmarker_list\u001b[0m\u001b[0;34m[\u001b[0m\u001b[0mi\u001b[0m\u001b[0;34m]\u001b[0m\u001b[0;34m,\u001b[0m \u001b[0mmarkeredgecolor\u001b[0m\u001b[0;34m=\u001b[0m\u001b[0mcolors\u001b[0m\u001b[0;34m[\u001b[0m\u001b[0mi\u001b[0m \u001b[0;34m%\u001b[0m \u001b[0mlen\u001b[0m\u001b[0;34m(\u001b[0m\u001b[0mcolor_list\u001b[0m\u001b[0;34m)\u001b[0m\u001b[0;34m]\u001b[0m\u001b[0;34m,\u001b[0m \u001b[0mfmt\u001b[0m\u001b[0;34m=\u001b[0m\u001b[0;34m\"-o\"\u001b[0m\u001b[0;34m,\u001b[0m \u001b[0mlinewidth\u001b[0m\u001b[0;34m=\u001b[0m\u001b[0;36m1\u001b[0m\u001b[0;34m,\u001b[0m \u001b[0mcapsize\u001b[0m\u001b[0;34m=\u001b[0m\u001b[0;36m3.5\u001b[0m\u001b[0;34m,\u001b[0m \u001b[0mcapthick\u001b[0m\u001b[0;34m=\u001b[0m\u001b[0;36m1\u001b[0m\u001b[0;34m,\u001b[0m \u001b[0mcolor\u001b[0m\u001b[0;34m=\u001b[0m\u001b[0mcolors\u001b[0m\u001b[0;34m[\u001b[0m\u001b[0mi\u001b[0m \u001b[0;34m%\u001b[0m \u001b[0mlen\u001b[0m\u001b[0;34m(\u001b[0m\u001b[0mcolor_list\u001b[0m\u001b[0;34m)\u001b[0m\u001b[0;34m]\u001b[0m\u001b[0;34m)\u001b[0m\u001b[0;34m\u001b[0m\u001b[0m\n\u001b[0m\u001b[1;32m     21\u001b[0m \u001b[0;34m\u001b[0m\u001b[0m\n\u001b[1;32m     22\u001b[0m \u001b[0;32mdef\u001b[0m \u001b[0mset_fig_xtick\u001b[0m\u001b[0;34m(\u001b[0m\u001b[0mvalues\u001b[0m\u001b[0;34m,\u001b[0m \u001b[0mlabels\u001b[0m\u001b[0;34m,\u001b[0m \u001b[0mfontsize\u001b[0m\u001b[0;34m)\u001b[0m\u001b[0;34m:\u001b[0m\u001b[0;34m\u001b[0m\u001b[0m\n",
      "\u001b[0;31mNameError\u001b[0m: global name 'colors' is not defined"
     ]
    },
    {
     "data": {
      "text/plain": [
       "<matplotlib.figure.Figure at 0x108138490>"
      ]
     },
     "metadata": {},
     "output_type": "display_data"
    },
    {
     "data": {
      "image/png": "[encoded data removed]",
      "text/plain": [
       "<matplotlib.figure.Figure at 0x108138510>"
      ]
     },
     "metadata": {},
     "output_type": "display_data"
    }
   ],
   "source": [
    "prop_cycle = plt.rcParams['axes.prop_cycle']\n",
    "colors = prop_cycle.by_key()['color']\n",
    "latexify(columns=1)\n",
    "plt.figure()\n",
    "fig = plt.figure(figsize=[3.3, 2.6])\n",
    "ax = plt.subplot(111)\n",
    "plot_figure_with_error_bar(groups, data[:, :12], colors)\n",
    "plt.grid()\n",
    "plt.yscale(\"log\")\n",
    "plt.xscale(\"log\")\n",
    "plt.ylim([2.5e7, 1e8])\n",
    "# set_fig_xtick(np.arange(0, 60001, 10000) / float(250), [str(int(num/1000)) + \"k\" for num in range(0, 60001, 10000)], 18),\n",
    "set_fig_ytick([2.5e7, 1e8], [r\"$2.5e^7$\", \"$1e^8$\"], label_font)\n",
    "plt.xlabel(\"Memory (bits)\", fontsize=label_font)\n",
    "plt.ylabel(\"Heldout MSE\", fontsize=label_font)\n",
    "leg=plt.legend(framealpha=0.8, fontsize=legend_font)\n",
    "leg.get_frame().set_linewidth(0.0)\n",
    "format_axes(ax)\n",
    "plt.tight_layout()\n",
    "plt.show()"
   ]
  },
  {
   "cell_type": "code",
   "execution_count": null,
   "metadata": {
    "collapsed": true
   },
   "outputs": [],
   "source": []
  },
  {
   "cell_type": "code",
   "execution_count": null,
   "metadata": {
    "collapsed": true
   },
   "outputs": [],
   "source": []
  }
 ],
 "metadata": {
  "anaconda-cloud": {},
  "kernelspec": {
   "display_name": "Python [default]",
   "language": "python",
   "name": "python2"
  },
  "language_info": {
   "codemirror_mode": {
    "name": "ipython",
    "version": 2
   },
   "file_extension": ".py",
   "mimetype": "text/x-python",
   "name": "python",
   "nbconvert_exporter": "python",
   "pygments_lexer": "ipython2",
   "version": "2.7.12"
  }
 },
 "nbformat": 4,
 "nbformat_minor": 1
}
