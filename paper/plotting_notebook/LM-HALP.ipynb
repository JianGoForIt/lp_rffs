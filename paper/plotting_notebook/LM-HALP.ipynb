{
 "cells": [
  {
   "cell_type": "code",
   "execution_count": 8,
   "metadata": {
    "collapsed": true
   },
   "outputs": [],
   "source": [
    "%matplotlib inline\n",
    "from matplotlib import pyplot as plt\n",
    "import numpy as np\n",
    "import csv\n",
    "import os, sys\n",
    "from latexifypaper import *\n",
    "from csv_plot import *\n",
    "plt.rc('text', usetex=True)\n",
    "plt.rc('font', family='serif')\n",
    "from matplotlib import gridspec"
   ]
  },
  {
   "cell_type": "code",
   "execution_count": 9,
   "metadata": {
    "collapsed": true
   },
   "outputs": [],
   "source": [
    "def plot_figure_with_error_bar(names, data, color_list):\n",
    "    '''\n",
    "    each column of data is a line\n",
    "    the name follows the pattern like ['fp Nystrom-x', 'fp Nystrom-y', 'fp Nystrom-y_std', 'fp RFF-x', 'fp RFF-y', 'fp RFF-y_std']\n",
    "    '''\n",
    "    marker_list = ['o', 'v', '^', 's', 'h', 'd', '+']\n",
    "    for i in range(data.shape[1] // 3):\n",
    "        idx = i * 3\n",
    "        label = names[idx].split(\"|\")[0]\n",
    "        print \"label \", names[idx], label\n",
    "        x = data[:, idx]\n",
    "        average_y = data[:, idx + 1]\n",
    "        std_y = data[:, idx + 2]\n",
    "#         print x, average_y, std_y\n",
    "        plt.errorbar(x, average_y, yerr=std_y, label=label, marker=marker_list[i], markeredgecolor=color_list[i % len(color_list)], fmt=\"-o\", linewidth=1, capsize=3.5, capthick=1, color=color_list[i % len(color_list)])"
   ]
  },
  {
   "cell_type": "code",
   "execution_count": 10,
   "metadata": {
    "collapsed": false
   },
   "outputs": [],
   "source": [
    "csv_file_name = \"/Users/Jian/Data/research/lp_kernel/lp_kernel/paper/data_for_plot/timit_error_vs_n_feat_lm_halp.csv\""
   ]
  },
  {
   "cell_type": "code",
   "execution_count": 11,
   "metadata": {
    "collapsed": false
   },
   "outputs": [
    {
     "name": "stdout",
     "output_type": "stream",
     "text": [
      "['FP-SGD|x', 'FP-SGD|y', 'FP-SGD|y_std', '8-bit LM-HALP|x', '8-bit LM-HALP|y', '8-bit LM-HALP|y_std']\n",
      "['1', '2', '3', '4', '5', '6', '7', '8']\n"
     ]
    }
   ],
   "source": [
    "groups, names, data = csv_to_table(csv_file_name)\n",
    "names = names[1:]\n",
    "print groups\n",
    "print names\n",
    "# print data.shape\n",
    "# print data[:, 0], data[:, 1], data[:, 2]"
   ]
  },
  {
   "cell_type": "code",
   "execution_count": 12,
   "metadata": {
    "collapsed": true
   },
   "outputs": [],
   "source": [
    "label_font=14\n",
    "legend_font = 13"
   ]
  },
  {
   "cell_type": "code",
   "execution_count": 13,
   "metadata": {
    "collapsed": true
   },
   "outputs": [],
   "source": [
    "def plot_figure_with_error_bar(names, data, color_list):\n",
    "    '''\n",
    "    each column of data is a line\n",
    "    the name follows the pattern like ['fp Nystrom-x', 'fp Nystrom-y', 'fp Nystrom-y_std', 'fp RFF-x', 'fp RFF-y', 'fp RFF-y_std']\n",
    "    '''\n",
    "    marker_list = ['s', 'o', 'o', 's', '+', 'v', 'h']    \n",
    "    for i in range(data.shape[1] // 3):\n",
    "        idx = i * 3\n",
    "        label = names[idx].split(\"|\")[0]\n",
    "        print \"label \", names[idx], label\n",
    "        x = data[:, idx]\n",
    "        average_y = data[:, idx + 1]\n",
    "        std_y = data[:, idx + 2]\n",
    "#         print x, average_y, std_y\n",
    "#         plt.errorbar(x, average_y, yerr=std_y, label=label, marker=marker_list[i], markeredgecolor=color_list[i % len(color_list)], fmt=\"-o\", linewidth=1, capsize=3.5, capthick=1, color=color_list[i % len(color_list)])\n",
    "        if \"LM\" in label:\n",
    "#             plt.plot(x, average_y, \"--\", markerfacecolor=\"none\", markersize=8, markeredgewidth=1.5, label=r\"$\\lambda$=\"+label, marker=marker_list[i], markeredgecolor=color_list[i % len(color_list)], fmt=\"-o\", linewidth=1, capsize=5, capthick=1, color=color_list[i % len(color_list)])\n",
    "            plt.plot(x, average_y, \"--\", label=label, markerfacecolor=\"none\", markeredgewidth=1.5, marker=marker_list[i], markeredgecolor=color_list[i % len(color_list)], linewidth=1, color=color_list[i % len(color_list)])\n",
    "        else:\n",
    "            plt.plot(x, average_y, \"-\", label=label, markerfacecolor=\"none\", markeredgewidth=1.5, marker=marker_list[i], markeredgecolor=color_list[i % len(color_list)], linewidth=1, color=color_list[i % len(color_list)])"
   ]
  },
  {
   "cell_type": "code",
   "execution_count": 14,
   "metadata": {
    "collapsed": false
   },
   "outputs": [
    {
     "name": "stdout",
     "output_type": "stream",
     "text": [
      "label  FP-SGD|x FP-SGD\n",
      "label  8-bit LM-HALP|x 8-bit LM-HALP\n"
     ]
    },
    {
     "data": {
      "text/plain": [
       "<matplotlib.figure.Figure at 0x1080f5a50>"
      ]
     },
     "metadata": {},
     "output_type": "display_data"
    },
    {
     "data": {
      "image/png": "[encoded data removed]",
      "text/plain": [
       "<matplotlib.figure.Figure at 0x1080f5990>"
      ]
     },
     "metadata": {},
     "output_type": "display_data"
    }
   ],
   "source": [
    "prop_cycle = plt.rcParams['axes.prop_cycle']\n",
    "colors = prop_cycle.by_key()['color']\n",
    "latexify(columns=1)\n",
    "plt.figure()\n",
    "fig = plt.figure(figsize=[3.6, 2.3])\n",
    "ax = plt.subplot(111)\n",
    "plot_figure_with_error_bar(groups, data[:, :12], colors)\n",
    "plt.grid()\n",
    "# plt.yscale(\"log\")\n",
    "plt.xscale(\"log\")\n",
    "# plt.xlim([None, 4e1])\n",
    "plt.xlabel(\"\\# of features\", fontsize=label_font)\n",
    "plt.ylabel(\"Heldout error\", fontsize=label_font)\n",
    "leg=plt.legend(framealpha=0.2, fontsize=legend_font)\n",
    "leg.get_frame().set_linewidth(0.0)\n",
    "format_axes(ax)\n",
    "plt.tight_layout()\n",
    "plt.savefig(\"../figures/timit_error_vs_n_feat_lm_halp.pdf\")\n",
    "plt.show()"
   ]
  },
  {
   "cell_type": "code",
   "execution_count": null,
   "metadata": {
    "collapsed": true
   },
   "outputs": [],
   "source": []
  },
  {
   "cell_type": "code",
   "execution_count": null,
   "metadata": {
    "collapsed": true
   },
   "outputs": [],
   "source": []
  },
  {
   "cell_type": "code",
   "execution_count": null,
   "metadata": {
    "collapsed": true
   },
   "outputs": [],
   "source": []
  }
 ],
 "metadata": {
  "anaconda-cloud": {},
  "kernelspec": {
   "display_name": "Python [default]",
   "language": "python",
   "name": "python2"
  },
  "language_info": {
   "codemirror_mode": {
    "name": "ipython",
    "version": 2
   },
   "file_extension": ".py",
   "mimetype": "text/x-python",
   "name": "python",
   "nbconvert_exporter": "python",
   "pygments_lexer": "ipython2",
   "version": "2.7.12"
  }
 },
 "nbformat": 4,
 "nbformat_minor": 1
}
