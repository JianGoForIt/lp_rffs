{
 "cells": [
  {
   "cell_type": "code",
   "execution_count": 10,
   "metadata": {
    "collapsed": true
   },
   "outputs": [],
   "source": [
    "%matplotlib inline\n",
    "from matplotlib import pyplot as plt\n",
    "import numpy as np\n",
    "import csv\n",
    "import os, sys\n",
    "from latexifypaper import *\n",
    "from csv_plot import *\n",
    "plt.rc('text', usetex=True)\n",
    "plt.rc('font', family='serif')\n",
    "from matplotlib import gridspec"
   ]
  },
  {
   "cell_type": "code",
   "execution_count": 11,
   "metadata": {
    "collapsed": false
   },
   "outputs": [],
   "source": [
    "def plot_figure_with_error_bar(names, data, color_list):\n",
    "    '''\n",
    "    each column of data is a line\n",
    "    the name follows the pattern like ['fp Nystrom-x', 'fp Nystrom-y', 'fp Nystrom-y_std', 'fp RFF-x', 'fp RFF-y', 'fp RFF-y_std']\n",
    "    '''\n",
    "    marker_list = ['v', 'd', 'o', 's', '+', 'v', 'h']    \n",
    "    for i in range(data.shape[1] // 3):\n",
    "        idx = i * 3\n",
    "        label = names[idx].split(\"|\")[0]\n",
    "        print \"label \", names[idx], label\n",
    "        x = data[:, idx]\n",
    "        average_y = data[:, idx + 1]\n",
    "        std_y = data[:, idx + 2]\n",
    "#         print x, average_y, std_y\n",
    "        plt.errorbar(x, average_y, yerr=std_y, markerfacecolor=\"none\", markersize=8, markeredgewidth=1.5, label=r\"$\\lambda$=\"+label, marker=marker_list[i], markeredgecolor=color_list[i % len(color_list)], fmt=\"-o\", linewidth=1, capsize=5, capthick=1, color=color_list[i % len(color_list)])"
   ]
  },
  {
   "cell_type": "code",
   "execution_count": 12,
   "metadata": {
    "collapsed": false
   },
   "outputs": [],
   "source": [
    "csv_file_name = \"/Users/Jian/Data/research/lp_kernel/lp_kernel/paper/data_for_plot/theory_fixed_n_feat.csv\""
   ]
  },
  {
   "cell_type": "code",
   "execution_count": 13,
   "metadata": {
    "collapsed": false
   },
   "outputs": [
    {
     "name": "stdout",
     "output_type": "stream",
     "text": [
      "['0.0001|x', '0.0001|y', '0.0001|y_std', '1.0|x', '1.0|y', '1.0|y_std', '10000.0|x', '10000.0|y', '10000.0|y_std']\n",
      "['1', '2', '3', '4', '5']\n"
     ]
    }
   ],
   "source": [
    "groups, names, data = csv_to_table(csv_file_name)\n",
    "names = names[1:]\n",
    "print groups\n",
    "print names\n",
    "# print data.shape\n",
    "# print data[:, 0], data[:, 1], data[:, 2]"
   ]
  },
  {
   "cell_type": "code",
   "execution_count": 14,
   "metadata": {
    "collapsed": true
   },
   "outputs": [],
   "source": [
    "label_font=14\n",
    "legend_font = 13\n",
    "tick_font = 11"
   ]
  },
  {
   "cell_type": "code",
   "execution_count": 15,
   "metadata": {
    "collapsed": false
   },
   "outputs": [
    {
     "name": "stdout",
     "output_type": "stream",
     "text": [
      "label  0.0001|x 0.0001\n",
      "label  1.0|x 1.0\n",
      "label  10000.0|x 10000.0\n"
     ]
    },
    {
     "data": {
      "text/plain": [
       "<matplotlib.figure.Figure at 0x108510a90>"
      ]
     },
     "metadata": {},
     "output_type": "display_data"
    },
    {
     "data": {
      "image/png": "[encoded data removed]",
      "text/plain": [
       "<matplotlib.figure.Figure at 0x108510f90>"
      ]
     },
     "metadata": {},
     "output_type": "display_data"
    }
   ],
   "source": [
    "prop_cycle = plt.rcParams['axes.prop_cycle']\n",
    "colors = prop_cycle.by_key()['color']\n",
    "latexify(columns=1)\n",
    "plt.figure()\n",
    "fig = plt.figure(figsize=[4, 2.4])\n",
    "ax = plt.subplot(111)\n",
    "plot_figure_with_error_bar(groups, data[:, :12], colors)\n",
    "plt.grid()\n",
    "plt.yscale(\"log\")\n",
    "plt.xscale(\"log\")\n",
    "plt.xlim([1, 32])\n",
    "plt.xlabel(\"\\# of bits\", fontsize=label_font)\n",
    "plt.ylabel(\"MSE\", fontsize=label_font)\n",
    "ax = plt.gca()\n",
    "ax.set_xticks([1,2,4,8,16,32])\n",
    "ax.set_xticklabels(['1','2','4','8','16','32'])\n",
    "ax.tick_params(axis='both', which='major', labelsize=tick_font)\n",
    "ax.tick_params(axis='both', which='minor', labelsize=tick_font)\n",
    "# set_fig_xtick([1,2,4,8,16,32], ['1','2','4','8','16','32'], 11)\n",
    "# set_fig_xtick([0.76, 0.8, 0.85], [\"0.76\", \"0.8\", \"0.85\"], 18),\n",
    "# set_fig_ytick=lambda: set_fig_ytick([0.75, 0.8, 0.85], [\"0.75\", \"0.8\", \"0.85\"], 18),\n",
    "# set_fig_ytick=lambda: set_fig_ytick([0.76, 0.8, 0.85], [\"0.76\", \"0.8\", \"0.85\"], 11),\n",
    "# leg=plt.legend(framealpha=0.5, fontsize=legend_font, loc=\"upper left\")\n",
    "# leg.get_frame().set_linewidth(0.0)\n",
    "format_axes(ax)\n",
    "plt.tight_layout()\n",
    "plt.savefig(\"../figures/theory_fixed_n_feat.pdf\")\n",
    "plt.show()"
   ]
  },
  {
   "cell_type": "code",
   "execution_count": 16,
   "metadata": {
    "collapsed": false
   },
   "outputs": [],
   "source": [
    "csv_file_name = \"/Users/Jian/Data/research/lp_kernel/lp_kernel/paper/data_for_plot/theory_fixed_memory.csv\""
   ]
  },
  {
   "cell_type": "code",
   "execution_count": 17,
   "metadata": {
    "collapsed": false
   },
   "outputs": [
    {
     "name": "stdout",
     "output_type": "stream",
     "text": [
      "['0.0001|x', '0.0001|y', '0.0001|y_std', '1.0|x', '1.0|y', '1.0|y_std', '10000.0|x', '10000.0|y', '10000.0|y_std']\n",
      "['1', '2', '3', '4', '5']\n"
     ]
    }
   ],
   "source": [
    "groups, names, data = csv_to_table(csv_file_name)\n",
    "names = names[1:]\n",
    "print groups\n",
    "print names\n",
    "# print data.shape\n",
    "# print data[:, 0], data[:, 1], data[:, 2]"
   ]
  },
  {
   "cell_type": "code",
   "execution_count": 18,
   "metadata": {
    "collapsed": false
   },
   "outputs": [
    {
     "name": "stdout",
     "output_type": "stream",
     "text": [
      "label  0.0001|x 0.0001\n",
      "label  1.0|x 1.0\n",
      "label  10000.0|x 10000.0\n"
     ]
    },
    {
     "data": {
      "text/plain": [
       "<matplotlib.figure.Figure at 0x108e231d0>"
      ]
     },
     "metadata": {},
     "output_type": "display_data"
    },
    {
     "data": {
      "image/png": "[encoded data removed]",
      "text/plain": [
       "<matplotlib.figure.Figure at 0x108e232d0>"
      ]
     },
     "metadata": {},
     "output_type": "display_data"
    }
   ],
   "source": [
    "prop_cycle = plt.rcParams['axes.prop_cycle']\n",
    "colors = prop_cycle.by_key()['color']\n",
    "latexify(columns=1)\n",
    "plt.figure()\n",
    "fig = plt.figure(figsize=[4, 2.4])\n",
    "ax = plt.subplot(111)\n",
    "plot_figure_with_error_bar(groups, data[:, :12], colors)\n",
    "plt.grid()\n",
    "plt.yscale(\"log\")\n",
    "plt.xscale(\"log\")\n",
    "plt.xlim([None, 4e1])\n",
    "plt.xlabel(\"\\# of bits\", fontsize=label_font)\n",
    "plt.ylabel(\"MSE\", fontsize=label_font)\n",
    "ax = plt.gca()\n",
    "ax.set_xticks([1,2,4,8,16,32])\n",
    "ax.set_xticklabels(['1','2','4','8','16','32'])\n",
    "ax.tick_params(axis='both', which='major', labelsize=tick_font)\n",
    "ax.tick_params(axis='both', which='minor', labelsize=tick_font)\n",
    "# leg=plt.legend(framealpha=0.3, fontsize=legend_font, loc=\"upper left\")\n",
    "leg=plt.legend(framealpha=0.3, fontsize=legend_font, bbox_to_anchor=(1.6,0.75) )\n",
    "leg.get_frame().set_linewidth(0.0)\n",
    "format_axes(ax)\n",
    "plt.tight_layout()\n",
    "plt.savefig(\"../figures/theory_fixed_memory.pdf\", bbox_extra_artists=(leg,), bbox_inches='tight')\n",
    "plt.show()"
   ]
  },
  {
   "cell_type": "code",
   "execution_count": null,
   "metadata": {
    "collapsed": true
   },
   "outputs": [],
   "source": []
  },
  {
   "cell_type": "code",
   "execution_count": null,
   "metadata": {
    "collapsed": true
   },
   "outputs": [],
   "source": []
  },
  {
   "cell_type": "code",
   "execution_count": null,
   "metadata": {
    "collapsed": true
   },
   "outputs": [],
   "source": []
  },
  {
   "cell_type": "code",
   "execution_count": null,
   "metadata": {
    "collapsed": true
   },
   "outputs": [],
   "source": []
  }
 ],
 "metadata": {
  "anaconda-cloud": {},
  "kernelspec": {
   "display_name": "Python [default]",
   "language": "python",
   "name": "python2"
  },
  "language_info": {
   "codemirror_mode": {
    "name": "ipython",
    "version": 2
   },
   "file_extension": ".py",
   "mimetype": "text/x-python",
   "name": "python",
   "nbconvert_exporter": "python",
   "pygments_lexer": "ipython2",
   "version": "2.7.12"
  }
 },
 "nbformat": 4,
 "nbformat_minor": 1
}
