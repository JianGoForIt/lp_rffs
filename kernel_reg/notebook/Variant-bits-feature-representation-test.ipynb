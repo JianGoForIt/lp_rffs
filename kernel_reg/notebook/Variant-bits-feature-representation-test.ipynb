{
 "cells": [
  {
   "cell_type": "code",
   "execution_count": 77,
   "metadata": {
    "collapsed": true
   },
   "outputs": [],
   "source": [
    "%matplotlib inline\n",
    "import matplotlib.pyplot as plt\n",
    "import numpy as np"
   ]
  },
  {
   "cell_type": "code",
   "execution_count": 78,
   "metadata": {
    "collapsed": false
   },
   "outputs": [
    {
     "name": "stdout",
     "output_type": "stream",
     "text": [
      "[  1.45426358e+04   3.08469761e+02   2.33630567e+02 ...,   4.61121465e-07\n",
      "   4.58831976e-07   4.53135714e-07] 8192\n"
     ]
    }
   ],
   "source": [
    "file_name = \"../multi_seed_results/spectrum/s_8192_feat_fp_64b_svd_ind_full_dataset.npy\"\n",
    "with open(file_name, \"rb\") as f:\n",
    "    spectrum = np.load(f) \n",
    "spectrum = spectrum[:int(file_name.split(\"/\")[-1].split(\"_\")[1] ) ]\n",
    "print spectrum, spectrum.size"
   ]
  },
  {
   "cell_type": "markdown",
   "metadata": {},
   "source": [
    "# binary continuous rounding approach "
   ]
  },
  {
   "cell_type": "code",
   "execution_count": 129,
   "metadata": {
    "collapsed": false
   },
   "outputs": [],
   "source": [
    "def get_bits(spectrum, s, upper_bound=None):\n",
    "    assert type(upper_bound) == int\n",
    "    nbits = np.maximum(np.log2(spectrum) + s, np.zeros(spectrum.size) )\n",
    "    if upper_bound != None:\n",
    "        nbits = np.minimum(nbits, upper_bound * np.ones(spectrum.size) )\n",
    "    nbits[nbits!=0] = 2**(np.floor(np.log2(nbits[nbits!=0] ) ) )\n",
    "#     return 2**(np.floor(np.log2(nbits) ) ).astype(np.int)\n",
    "#     return np.exp(np.log2(nbits) ).astype(np.int)\n",
    "#     return np.floor(nbits)\n",
    "    return nbits.astype(np.int)\n",
    "    \n",
    "def get_n_fp_feat(spectrum, s, upper_bound=None):\n",
    "    nbits = get_bits(spectrum, s, upper_bound)\n",
    "    n_fp_feat = nbits.astype(np.float) / 32.0\n",
    "    return np.sum(n_fp_feat), nbits    "
   ]
  },
  {
   "cell_type": "code",
   "execution_count": 163,
   "metadata": {
    "collapsed": false
   },
   "outputs": [],
   "source": [
    "def binary_search_bits_assignment(spectrum, n_fp_feat_budget, left=-100.0, right=100.0, tolerance=1e-6, upper_bound=None):\n",
    "    # upper_bound is the upper bound of number of bits\n",
    "    n_fp_feat = 0\n",
    "    best_n_fp_feat = 0\n",
    "    best_sol = None\n",
    "    while right - left >= tolerance:\n",
    "        middle = (left + right) / 2.0\n",
    "        n_fp_feat, nbits = get_n_fp_feat(spectrum, middle, upper_bound)\n",
    "        if n_fp_feat == n_fp_feat_budget:\n",
    "            print(\"found exact assignment plan\", nbits)\n",
    "            best_sol = nbits\n",
    "            best_n_fp_feat = n_fp_feat\n",
    "            break\n",
    "        elif n_fp_feat < n_fp_feat_budget:\n",
    "            left = middle\n",
    "        else:\n",
    "            right = middle\n",
    "        if best_n_fp_feat < n_fp_feat and n_fp_feat < n_fp_feat_budget:\n",
    "            best_sol = nbits\n",
    "            best_n_fp_feat = n_fp_feat\n",
    "#         print(\"testing middle = \", middle, \" n_fp_feat \", n_fp_feat)\n",
    "    print(\"best solution, memory budget \", best_n_fp_feat, \" / \", n_fp_feat_budget)\n",
    "    return best_sol"
   ]
  },
  {
   "cell_type": "markdown",
   "metadata": {},
   "source": [
    "### sanity check full budget + full precision results"
   ]
  },
  {
   "cell_type": "code",
   "execution_count": 164,
   "metadata": {
    "collapsed": true
   },
   "outputs": [],
   "source": [
    "n_fp_feat_budget=8192\n",
    "search_left = -200.0\n",
    "search_right = 200.0\n",
    "tolerance=1e-6\n",
    "upper_bound = 32"
   ]
  },
  {
   "cell_type": "code",
   "execution_count": 165,
   "metadata": {
    "collapsed": false
   },
   "outputs": [
    {
     "name": "stdout",
     "output_type": "stream",
     "text": [
      "('found exact assignment plan', array([32, 32, 32, ..., 32, 32, 32]))\n",
      "('best solution, memory budget ', 8192.0, ' / ', 8192)\n"
     ]
    }
   ],
   "source": [
    "nbits = binary_search_bits_assignment(spectrum, n_fp_feat_budget, \n",
    "                                      search_left, search_right,\n",
    "                                      tolerance, upper_bound)\n",
    "assert np.max(nbits) == upper_bound\n",
    "assert np.min(nbits) == upper_bound"
   ]
  },
  {
   "cell_type": "code",
   "execution_count": 166,
   "metadata": {
    "collapsed": false
   },
   "outputs": [],
   "source": [
    "# _ = plt.hist(nbits, bins=32)"
   ]
  },
  {
   "cell_type": "markdown",
   "metadata": {},
   "source": [
    "### sanity check full "
   ]
  },
  {
   "cell_type": "code",
   "execution_count": 167,
   "metadata": {
    "collapsed": true
   },
   "outputs": [],
   "source": [
    "n_fp_feat_budget=1024\n",
    "search_left = -200.0\n",
    "search_right = 200.0\n",
    "tolerance=1e-6\n",
    "upper_bound = 32"
   ]
  },
  {
   "cell_type": "code",
   "execution_count": 168,
   "metadata": {
    "collapsed": false
   },
   "outputs": [
    {
     "name": "stdout",
     "output_type": "stream",
     "text": [
      "('best solution, memory budget ', 1023.9375, ' / ', 1024)\n",
      "[32 16 16 ...,  0  0  0] 1023.9375\n"
     ]
    }
   ],
   "source": [
    "nbits = binary_search_bits_assignment(spectrum, n_fp_feat_budget, \n",
    "                                      search_left, search_right,\n",
    "                                      tolerance, upper_bound)\n",
    "print nbits, np.sum(nbits) / 32.0\n",
    "assert np.sum(nbits) / 32.0 <= n_fp_feat_budget"
   ]
  },
  {
   "cell_type": "code",
   "execution_count": 169,
   "metadata": {
    "collapsed": false
   },
   "outputs": [
    {
     "data": {
      "image/png": "[encoded data removed]",
      "text/plain": [
       "<matplotlib.figure.Figure at 0x1117288d0>"
      ]
     },
     "metadata": {},
     "output_type": "display_data"
    }
   ],
   "source": [
    "_ = plt.hist(np.log2(nbits[nbits!=0]), bins=32)"
   ]
  },
  {
   "cell_type": "code",
   "execution_count": null,
   "metadata": {
    "collapsed": true
   },
   "outputs": [],
   "source": []
  },
  {
   "cell_type": "code",
   "execution_count": null,
   "metadata": {
    "collapsed": true
   },
   "outputs": [],
   "source": []
  },
  {
   "cell_type": "markdown",
   "metadata": {},
   "source": [
    "# submodular optimization under cardinality constraints"
   ]
  },
  {
   "cell_type": "code",
   "execution_count": null,
   "metadata": {
    "collapsed": true
   },
   "outputs": [],
   "source": []
  },
  {
   "cell_type": "code",
   "execution_count": null,
   "metadata": {
    "collapsed": true
   },
   "outputs": [],
   "source": []
  }
 ],
 "metadata": {
  "kernelspec": {
   "display_name": "Python [conda env:pytorch_2.0]",
   "language": "python",
   "name": "conda-env-pytorch_2.0-py"
  },
  "language_info": {
   "codemirror_mode": {
    "name": "ipython",
    "version": 2
   },
   "file_extension": ".py",
   "mimetype": "text/x-python",
   "name": "python",
   "nbconvert_exporter": "python",
   "pygments_lexer": "ipython2",
   "version": "2.7.13"
  }
 },
 "nbformat": 4,
 "nbformat_minor": 1
}
