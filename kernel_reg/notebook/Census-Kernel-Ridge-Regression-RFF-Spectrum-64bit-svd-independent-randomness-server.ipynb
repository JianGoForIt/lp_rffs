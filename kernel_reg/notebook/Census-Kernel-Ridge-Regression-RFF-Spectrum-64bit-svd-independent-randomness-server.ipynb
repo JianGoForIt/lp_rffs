{
 "cells": [
  {
   "cell_type": "code",
   "execution_count": 1,
   "metadata": {},
   "outputs": [],
   "source": [
    "%matplotlib inline\n",
    "import matplotlib.pyplot as plt\n",
    "import argparse\n",
    "import numpy as np\n",
    "import torch\n",
    "import cPickle as cp\n",
    "import sys, os\n",
    "sys.path.append(\"../../utils\")\n",
    "sys.path.append(\"../\")\n",
    "\n",
    "from data_loader import load_census_data\n",
    "from rff import GaussianKernel, RFF\n",
    "from kernel_regressor import Quantizer, KernelRidgeRegression"
   ]
  },
  {
   "cell_type": "code",
   "execution_count": 2,
   "metadata": {
    "collapsed": true
   },
   "outputs": [],
   "source": [
    "class Args(object):\n",
    "    def __init__(self, n_fp_rff, n_bit, \n",
    "                 exact_kernel, reg_lambda, \n",
    "                 sigma, random_seed, data_path,\n",
    "                 do_fp, test_var_reduce=False):\n",
    "        self.n_fp_rff = n_fp_rff\n",
    "        self.n_bit = n_bit\n",
    "        self.exact_kernel = exact_kernel\n",
    "        self.reg_lambda = reg_lambda\n",
    "        self.sigma = sigma\n",
    "        self.random_seed = random_seed\n",
    "        self.data_path = data_path\n",
    "        self.do_fp = do_fp\n",
    "        self.test_var_reduce = test_var_reduce"
   ]
  },
  {
   "cell_type": "code",
   "execution_count": 3,
   "metadata": {
    "collapsed": true
   },
   "outputs": [],
   "source": [
    "def load_census_data(path):\n",
    "    X_test = np.load(path + \"X_ho.npy\")\n",
    "    X_train = np.load(path + \"X_tr.npy\")\n",
    "    Y_test = np.load(path + \"Y_ho.npy\")\n",
    "    Y_train = np.load(path + \"Y_tr.npy\")\n",
    "    X_test = X_test.item()['X_ho']\n",
    "    X_train = X_train.item()['X_tr']\n",
    "    Y_test = Y_test.item()['Y_ho']\n",
    "    Y_train = Y_train.item()['Y_tr']\n",
    "    s = np.arange(X_train.shape[0] )\n",
    "    np.random.shuffle(s)\n",
    "    X_train = X_train[s, :]\n",
    "    Y_train = Y_train[s]\n",
    "#     # DEBUG\n",
    "#     X_train, Y_train, X_test, Y_test = \\\n",
    "#       X_train[::3, :], Y_train[::3], X_test[::3, :], Y_test[::3]\n",
    "#     X_train, Y_train, X_test, Y_test = \\\n",
    "#       X_train[::3, :], Y_train[::3], X_test[::3, :], Y_test[::3]\n",
    "    return X_train, X_test, Y_train, Y_test"
   ]
  },
  {
   "cell_type": "code",
   "execution_count": 4,
   "metadata": {},
   "outputs": [],
   "source": [
    "data_path = \"../../../data/census/\""
   ]
  },
  {
   "cell_type": "code",
   "execution_count": 5,
   "metadata": {
    "collapsed": true
   },
   "outputs": [],
   "source": [
    "class QuantizerIndependentQuant(object):\n",
    "    def __init__(self, nbit, min_val, max_val, scale=None, rand_seed=1):\n",
    "        self.nbit = nbit\n",
    "        self.min_val = min_val\n",
    "        self.max_val = max_val\n",
    "        if scale == None:\n",
    "            self.scale = (max_val - min_val) / float(2**self.nbit - 1)\n",
    "        self.rand_seed = rand_seed\n",
    "\n",
    "    def quantize_random(self, value):\n",
    "        value = torch.clamp(value, self.min_val, self.max_val)\n",
    "        floor_val = self.min_val + torch.floor( (value - self.min_val) / self.scale) * self.scale\n",
    "        ceil_val = self.min_val + torch.ceil( (value - self.min_val) / self.scale) * self.scale\n",
    "        # print(\"test in the middle \", torch.min(floor_val), torch.max(ceil_val), self.min_val, self.max_val)\n",
    "        # exit(0)\n",
    "        floor_prob = (ceil_val - value) / self.scale\n",
    "        ceil_prob = (value - floor_val) / self.scale\n",
    "        \n",
    "#         print(\"test f prob \", floor_prob.size(), self.max_val, self.min_val, self.scale)\n",
    "        \n",
    "        # sanity check\n",
    "        # np.testing.assert_array_almost_equal(floor_prob.cpu().numpy(), \n",
    "        #   1 - ceil_prob.cpu().numpy(), decimal=6)\n",
    "        print(\" test quantizer using random seed\", self.rand_seed)\n",
    "        self.rand_seed += 1\n",
    "        np.random.seed(self.rand_seed)\n",
    "        sample = torch.DoubleTensor(np.random.uniform(size=list(value.size() ) ) )\n",
    "           \n",
    "#         print(\"test sample \", sample[:20])\n",
    "#         raw_input()\n",
    "    \n",
    "        # quant_val = floor_val * (sample < floor_prob).float() \\\n",
    "        #   + ceil_val * (sample >= floor_prob).float()\n",
    "        quant_val = floor_val * (sample < floor_prob).double() \\\n",
    "          + ceil_val * (sample >= floor_prob).double()\n",
    "            \n",
    "#         print(\"test quant \", quant_val[:20])\n",
    "#         raw_input()\n",
    "            \n",
    "        return quant_val\n",
    "\n",
    "    def quantize(self, value):\n",
    "        # TODO update if we have other quantization schemes\n",
    "        return self.quantize_random(value)"
   ]
  },
  {
   "cell_type": "code",
   "execution_count": 6,
   "metadata": {
    "collapsed": true
   },
   "outputs": [],
   "source": [
    "class KernelRidgeRegressionIndependentQuant(object):\n",
    "    def __init__(self, kernel, reg_lambda):\n",
    "        '''\n",
    "        reg_lambda is the strength of the regression regularizor\n",
    "        kernel matrix is a Pytorch Tensor\n",
    "        '''\n",
    "        # self.kernel_mat = kernel_mat\n",
    "        self.reg_lambda = reg_lambda\n",
    "        self.kernel = kernel\n",
    "\n",
    "    def fit(self, X_train=None, Y_train=None, kernel_mat=None, quantizer=None):\n",
    "        self.X_train, self.Y_train = X_train, Y_train\n",
    "        self.kernel_mat = self.kernel.get_kernel_matrix(X_train, X_train, quantizer, quantizer)\n",
    "        n_sample = self.kernel_mat.size(0)\n",
    "        \n",
    "#         # Sanity check\n",
    "#         print torch.sum(self.kernel.rff_x1)\n",
    "#         print torch.sum(self.kernel.rff_x2)\n",
    "#         print self.kernel.rff_x1\n",
    "#         print self.kernel.rff_x2\n",
    "#         raw_input()\n",
    "        \n",
    "        # # DEBUG\n",
    "        # print(\"start timing \", self.kernel_mat.size() )\n",
    "        # test = (self.kernel_mat + self.reg_lambda * torch.eye(n_sample) )\n",
    "        # test = test.cpu().numpy()\n",
    "        # start_time = time()\n",
    "        # np.linalg.inv(test)\n",
    "        # end_time = time()\n",
    "        # print(\"numpy inverse time \", end_time - start_time)\n",
    "\n",
    "        # # test = (self.kernel_mat + self.reg_lambda * torch.eye(n_sample) )[0:5000, 0:5000]\n",
    "        # # start_time = time()\n",
    "        # # torch.inverse(test)\n",
    "        # # end_time = time()\n",
    "        # # print(\"pytorch inverse time \", end_time - start_time)\n",
    "        # exit(0)\n",
    "\n",
    "        # pytorch is super slow in inverse, so we finish this operation in numpy\n",
    "        print(\"using regularior strength \", self.reg_lambda)\n",
    "#         self.alpha = torch.DoubleTensor( \\\n",
    "#           np.dot(np.linalg.inv( (self.kernel_mat + self.reg_lambda * torch.eye(n_sample).double() ).cpu().numpy() ), Y_train) )\n",
    "        # self.alpha = torch.mm(torch.inverse(self.kernel_mat + self.reg_lambda * torch.eye(n_sample) ), \n",
    "        #   torch.DoubleTensor(Y_train) )\n",
    "\n",
    "    def get_train_error(self):\n",
    "        prediction = torch.mm(self.kernel_mat, self.alpha)\n",
    "        error = prediction - torch.DoubleTensor(self.Y_train)\n",
    "        return torch.mean(error**2)\n",
    "\n",
    "    def predict(self, X_test, quantizer_train=None, quantizer_test=None):\n",
    "        # quantizer 1 for test data, quantizer 2 for train data\n",
    "        self.X_test = X_test\n",
    "        self.kernel_mat_pred = \\\n",
    "          self.kernel.get_kernel_matrix(self.X_test, self.X_train, quantizer_test, quantizer_train)\n",
    "        self.prediction = torch.mm(self.kernel_mat_pred, self.alpha)\n",
    "        return self.prediction.clone()\n",
    "\n",
    "    def get_test_error(self, Y_test):\n",
    "        # should only be called right after the predict function\n",
    "        self.Y_test = Y_test\n",
    "        error = self.prediction - torch.DoubleTensor(self.Y_test)\n",
    "        return torch.mean(error**2)\n"
   ]
  },
  {
   "cell_type": "code",
   "execution_count": 7,
   "metadata": {},
   "outputs": [],
   "source": [
    "def get_spectrum(args):\n",
    "    X_train, X_test, Y_train, Y_test = load_census_data(args.data_path)\n",
    "    kernel = GaussianKernel(sigma=args.sigma)\n",
    "    kernel_mat_exact_train = kernel.get_kernel_matrix(X_train, X_train)\n",
    "    kernel_mat_exact_test = kernel.get_kernel_matrix(X_test, X_train)\n",
    "    n_input_feat = X_train.shape[1]\n",
    "    assert X_train.shape[1] == X_test.shape[1]\n",
    "    if args.exact_kernel:\n",
    "        print \"exact kernel\"\n",
    "        kernel = kernel\n",
    "        quantizer_train = None\n",
    "        quantizer_test = None\n",
    "        config_name = \"exact_kernel_lambda_\" + str(args.reg_lambda) + \"_sigma_\" + str(args.sigma)\n",
    "    elif args.do_fp:\n",
    "        print \"full precision rff\"\n",
    "        kernel = RFF(args.n_fp_rff, n_input_feat, kernel, rand_seed=args.random_seed)\n",
    "        quantizer_train = None\n",
    "        quantizer_test = None\n",
    "        config_name = \"fp_rff_lambda_\" + str(args.reg_lambda) + \"_sigma_\" \\\n",
    "          + str(args.sigma) + \"_n_fp_rff_\" + str(args.n_fp_rff)\n",
    "    else:\n",
    "        print \"low precsion rff with nbit = \", args.n_bit\n",
    "        n_quantized_rff = int(np.floor(args.n_fp_rff / float(args.n_bit) * 32.0) )\n",
    "        min_val = -np.sqrt(2.0/float(n_quantized_rff) )\n",
    "        max_val = np.sqrt(2.0/float(n_quantized_rff) )\n",
    "        quantizer_train = QuantizerIndependentQuant(args.n_bit, min_val, max_val, rand_seed=args.random_seed)\n",
    "        if not args.test_var_reduce:\n",
    "            quantizer_test = quantizer_train\n",
    "        else:\n",
    "            quantizer_test = None\n",
    "        kernel = RFF(n_quantized_rff, n_input_feat, kernel, rand_seed=args.random_seed)\n",
    "        config_name = \"lp_rff_lambda_\" + str(args.reg_lambda) + \"_sigma_\" \\\n",
    "          + str(args.sigma) + \"_n_fp_rff_\" + str(args.n_fp_rff) + \"_nbit_\" + str(args.n_bit) \n",
    "\n",
    "#     regressor = KernelRidgeRegression(kernel, reg_lambda=args.reg_lambda)\n",
    "    regressor = KernelRidgeRegressionIndependentQuant(kernel, reg_lambda=args.reg_lambda)\n",
    "    print(\"start to do regression!\")\n",
    "    # print(\"test quantizer\", quantizer)\n",
    "    regressor.fit(X_train, Y_train, quantizer=quantizer_train)\n",
    "    print(\"finish regression!\")\n",
    "    \n",
    "    kernel_mat = regressor.kernel_mat\n",
    "    _, s, _ = np.linalg.svd(kernel_mat.cpu().numpy().astype(np.float64), full_matrices=True)\n",
    "    return s, kernel_mat.cpu().numpy().astype(np.float64)"
   ]
  },
  {
   "cell_type": "code",
   "execution_count": 8,
   "metadata": {},
   "outputs": [],
   "source": [
    "# args = Args(n_fp_rff=1024, n_bit=1, \n",
    "#             exact_kernel=False, reg_lambda=1e-3, \n",
    "#             sigma=30.0, random_seed=1, \n",
    "#             data_path=data_path, do_fp=False)\n",
    "# s_8 = get_spectrum(args)\n",
    "# # with open(\"../multi_seed_results/spectrum/s_1024_feat_8_bit_64b_svd.npy\", \"wb\") as f:\n",
    "# #     np.save(f, s_8)\n",
    "# # print s_fp"
   ]
  },
  {
   "cell_type": "markdown",
   "metadata": {},
   "source": [
    "### exact kernel"
   ]
  },
  {
   "cell_type": "code",
   "execution_count": null,
   "metadata": {},
   "outputs": [
    {
     "name": "stdout",
     "output_type": "stream",
     "text": [
      "('using sigma ', 30.0)\n",
      "('using sigma ', 30.0)\n",
      "exact kernel\n",
      "start to do regression!\n",
      "('using sigma ', 30.0)\n",
      "('using regularior strength ', 0.001)\n",
      "finish regression!\n"
     ]
    }
   ],
   "source": [
    "args = Args(n_fp_rff=1024, n_bit=8, \n",
    "            exact_kernel=True, reg_lambda=1e-3, \n",
    "            sigma=30.0, random_seed=1, \n",
    "            data_path=data_path, do_fp=False)\n",
    "s_exact, k_exact = get_spectrum(args)\n",
    "with open(\"../multi_seed_results/spectrum/s_exact_64b_svd_ind_full_dataset.npy\", \"wb\") as f:\n",
    "    np.save(f, s_exact)\n",
    "# print s_exact"
   ]
  },
  {
   "cell_type": "markdown",
   "metadata": {},
   "source": [
    "### 1024 feature full precision"
   ]
  },
  {
   "cell_type": "code",
   "execution_count": 10,
   "metadata": {},
   "outputs": [
    {
     "name": "stdout",
     "output_type": "stream",
     "text": [
      "('using sigma ', 30.0)\n",
      "('using sigma ', 30.0)\n",
      "full precision rff\n",
      "('using sigma ', 0.03333333333333333, 'using rand seed ', 1)\n",
      "('using n rff features ', 1024)\n",
      "start to do regression!\n",
      "('using regularior strength ', 0.001)\n",
      "finish regression!\n",
      "0.0\n"
     ]
    }
   ],
   "source": [
    "args = Args(n_fp_rff=1024, n_bit=8, \n",
    "            exact_kernel=False, reg_lambda=1e-3, \n",
    "            sigma=30.0, random_seed=1, \n",
    "            data_path=data_path, do_fp=True)\n",
    "s_fp, k_fp = get_spectrum(args)\n",
    "with open(\"../multi_seed_results/spectrum/s_1024_feat_fp_64b_svd_ind.npy\", \"wb\") as f:\n",
    "    np.save(f, s_fp)\n",
    "with open(\"../multi_seed_results/spectrum/s_1024_feat_fp_64b_svd_ind.npy\", \"rb\") as f:\n",
    "    test = np.load(f)\n",
    "print np.sum(s_fp - test)"
   ]
  },
  {
   "cell_type": "markdown",
   "metadata": {},
   "source": [
    "### 1024 feature 8 --> 1 bit"
   ]
  },
  {
   "cell_type": "code",
   "execution_count": 11,
   "metadata": {},
   "outputs": [
    {
     "name": "stdout",
     "output_type": "stream",
     "text": [
      "('using sigma ', 30.0)\n",
      "('using sigma ', 30.0)\n",
      "low precsion rff with nbit =  8\n",
      "('using sigma ', 0.03333333333333333, 'using rand seed ', 1)\n",
      "('using n rff features ', 4096)\n",
      "start to do regression!\n",
      "('quantization 1 activated ', (5456, 119))\n",
      "('quantizer 1 bits', 8)\n",
      "('quantizer 1 scale', 0.00017331048558493812)\n",
      "(' test quantizer using random seed', 1)\n",
      "('quantization 2 activated ', (5456, 119))\n",
      "('quantizer 2 bits', 8)\n",
      "('quantizer 2 scale', 0.00017331048558493812)\n",
      "(' test quantizer using random seed', 2)\n",
      "('using regularior strength ', 0.001)\n",
      "finish regression!\n"
     ]
    }
   ],
   "source": [
    "# args = Args(n_fp_rff=1024, n_bit=8, \n",
    "#             exact_kernel=False, reg_lambda=1e-3, \n",
    "#             sigma=30.0, random_seed=1, \n",
    "#             data_path=data_path, do_fp=False)\n",
    "# s_8, k_8 = get_spectrum(args)\n",
    "# with open(\"../multi_seed_results/spectrum/s_1024_feat_8_bit_64b_svd_ind.npy\", \"wb\") as f:\n",
    "#     np.save(f, s_8)\n",
    "# # print s_fp"
   ]
  },
  {
   "cell_type": "code",
   "execution_count": null,
   "metadata": {},
   "outputs": [
    {
     "name": "stdout",
     "output_type": "stream",
     "text": [
      "('using sigma ', 30.0)\n",
      "('using sigma ', 30.0)\n",
      "low precsion rff with nbit =  4\n",
      "('using sigma ', 0.03333333333333333, 'using rand seed ', 1)\n",
      "('using n rff features ', 8192)\n",
      "start to do regression!\n",
      "('quantization 1 activated ', (16367, 119))\n",
      "('quantizer 1 bits', 4)\n",
      "('quantizer 1 scale', 0.0020833333333333333)\n",
      "(' test quantizer using random seed', 1)\n",
      "('quantization 2 activated ', (16367, 119))\n",
      "('quantizer 2 bits', 4)\n",
      "('quantizer 2 scale', 0.0020833333333333333)\n",
      "(' test quantizer using random seed', 2)\n",
      "('using regularior strength ', 0.001)\n",
      "finish regression!\n"
     ]
    }
   ],
   "source": [
    "args = Args(n_fp_rff=1024, n_bit=4, \n",
    "            exact_kernel=False, reg_lambda=1e-3, \n",
    "            sigma=30.0, random_seed=1, \n",
    "            data_path=data_path, do_fp=False)\n",
    "s_4, k_4 = get_spectrum(args)\n",
    "with open(\"../multi_seed_results/spectrum/s_1024_feat_4_bit_64b_svd_ind_full_dataset.npy\", \"wb\") as f:\n",
    "    np.save(f, s_4)\n",
    "# print s_fp"
   ]
  },
  {
   "cell_type": "code",
   "execution_count": null,
   "metadata": {
    "scrolled": true
   },
   "outputs": [],
   "source": [
    "args = Args(n_fp_rff=1024, n_bit=2, \n",
    "            exact_kernel=False, reg_lambda=1e-3, \n",
    "            sigma=30.0, random_seed=1, \n",
    "            data_path=data_path, do_fp=False)\n",
    "s_2, k_2 = get_spectrum(args)\n",
    "with open(\"../multi_seed_results/spectrum/s_1024_feat_2_bit_64b_svd_ind_full_dataset.npy\", \"wb\") as f:\n",
    "    np.save(f, s_2)\n",
    "# print s_fp"
   ]
  },
  {
   "cell_type": "code",
   "execution_count": null,
   "metadata": {},
   "outputs": [],
   "source": [
    "args = Args(n_fp_rff=1024, n_bit=1, \n",
    "            exact_kernel=False, reg_lambda=1e-3, \n",
    "            sigma=30.0, random_seed=1, \n",
    "            data_path=data_path, do_fp=False)\n",
    "s_1, k_1 = get_spectrum(args)\n",
    "with open(\"../multi_seed_results/spectrum/s_1024_feat_1_bit_64b_svd_ind_full_dataset.npy\", \"wb\") as f:\n",
    "    np.save(f, s_1)\n",
    "# # print s_fp"
   ]
  },
  {
   "cell_type": "code",
   "execution_count": null,
   "metadata": {},
   "outputs": [],
   "source": [
    "args = Args(n_fp_rff=2048, n_bit=4, \n",
    "            exact_kernel=False, reg_lambda=1e-3, \n",
    "            sigma=30.0, random_seed=1, \n",
    "            data_path=data_path, do_fp=False)\n",
    "s_4, k_4 = get_spectrum(args)\n",
    "with open(\"../multi_seed_results/spectrum/s_2048_feat_4_bit_64b_svd_ind_full_dataset.npy\", \"wb\") as f:\n",
    "    np.save(f, s_4)\n",
    "# print s_fp"
   ]
  },
  {
   "cell_type": "code",
   "execution_count": null,
   "metadata": {
    "scrolled": true
   },
   "outputs": [],
   "source": [
    "args = Args(n_fp_rff=2048, n_bit=2, \n",
    "            exact_kernel=False, reg_lambda=1e-3, \n",
    "            sigma=30.0, random_seed=1, \n",
    "            data_path=data_path, do_fp=False)\n",
    "s_2, k_2 = get_spectrum(args)\n",
    "with open(\"../multi_seed_results/spectrum/s_2048_feat_2_bit_64b_svd_ind_full_dataset.npy\", \"wb\") as f:\n",
    "    np.save(f, s_2)\n",
    "# print s_fp"
   ]
  },
  {
   "cell_type": "code",
   "execution_count": null,
   "metadata": {},
   "outputs": [],
   "source": [
    "args = Args(n_fp_rff=2048, n_bit=1, \n",
    "            exact_kernel=False, reg_lambda=1e-3, \n",
    "            sigma=30.0, random_seed=1, \n",
    "            data_path=data_path, do_fp=False)\n",
    "s_1, k_1 = get_spectrum(args)\n",
    "with open(\"../multi_seed_results/spectrum/s_2048_feat_1_bit_64b_svd_ind_full_dataset.npy\", \"wb\") as f:\n",
    "    np.save(f, s_1)\n",
    "# # print s_fp"
   ]
  },
  {
   "cell_type": "code",
   "execution_count": null,
   "metadata": {
    "collapsed": true
   },
   "outputs": [],
   "source": []
  },
  {
   "cell_type": "code",
   "execution_count": null,
   "metadata": {
    "collapsed": true
   },
   "outputs": [],
   "source": [
    "args = Args(n_fp_rff=4096, n_bit=4, \n",
    "            exact_kernel=False, reg_lambda=1e-3, \n",
    "            sigma=30.0, random_seed=1, \n",
    "            data_path=data_path, do_fp=False)\n",
    "s_4, k_4 = get_spectrum(args)\n",
    "with open(\"../multi_seed_results/spectrum/s_4096_feat_4_bit_64b_svd_ind_full_dataset.npy\", \"wb\") as f:\n",
    "    np.save(f, s_4)\n",
    "# print s_fp"
   ]
  },
  {
   "cell_type": "code",
   "execution_count": null,
   "metadata": {
    "collapsed": true,
    "scrolled": true
   },
   "outputs": [],
   "source": [
    "args = Args(n_fp_rff=4096, n_bit=2, \n",
    "            exact_kernel=False, reg_lambda=1e-3, \n",
    "            sigma=30.0, random_seed=1, \n",
    "            data_path=data_path, do_fp=False)\n",
    "s_2, k_2 = get_spectrum(args)\n",
    "with open(\"../multi_seed_results/spectrum/s_4096_feat_2_bit_64b_svd_ind_full_dataset.npy\", \"wb\") as f:\n",
    "    np.save(f, s_2)\n",
    "# print s_fp"
   ]
  },
  {
   "cell_type": "code",
   "execution_count": null,
   "metadata": {
    "collapsed": true
   },
   "outputs": [],
   "source": [
    "args = Args(n_fp_rff=4096, n_bit=1, \n",
    "            exact_kernel=False, reg_lambda=1e-3, \n",
    "            sigma=30.0, random_seed=1, \n",
    "            data_path=data_path, do_fp=False)\n",
    "s_1, k_1 = get_spectrum(args)\n",
    "with open(\"../multi_seed_results/spectrum/s_4096_feat_1_bit_64b_svd_ind_full_dataset.npy\", \"wb\") as f:\n",
    "    np.save(f, s_1)\n",
    "# # print s_fp"
   ]
  },
  {
   "cell_type": "code",
   "execution_count": null,
   "metadata": {
    "collapsed": true
   },
   "outputs": [],
   "source": []
  },
  {
   "cell_type": "code",
   "execution_count": null,
   "metadata": {
    "collapsed": true
   },
   "outputs": [],
   "source": [
    "args = Args(n_fp_rff=8192, n_bit=4, \n",
    "            exact_kernel=False, reg_lambda=1e-3, \n",
    "            sigma=30.0, random_seed=1, \n",
    "            data_path=data_path, do_fp=False)\n",
    "s_4, k_4 = get_spectrum(args)\n",
    "with open(\"../multi_seed_results/spectrum/s_8192_feat_4_bit_64b_svd_ind_full_dataset.npy\", \"wb\") as f:\n",
    "    np.save(f, s_4)\n",
    "# print s_fp"
   ]
  },
  {
   "cell_type": "code",
   "execution_count": null,
   "metadata": {
    "collapsed": true,
    "scrolled": true
   },
   "outputs": [],
   "source": [
    "args = Args(n_fp_rff=8192, n_bit=2, \n",
    "            exact_kernel=False, reg_lambda=1e-3, \n",
    "            sigma=30.0, random_seed=1, \n",
    "            data_path=data_path, do_fp=False)\n",
    "s_2, k_2 = get_spectrum(args)\n",
    "with open(\"../multi_seed_results/spectrum/s_8192_feat_2_bit_64b_svd_ind_full_dataset.npy\", \"wb\") as f:\n",
    "    np.save(f, s_2)\n",
    "# print s_fp"
   ]
  },
  {
   "cell_type": "code",
   "execution_count": null,
   "metadata": {
    "collapsed": true
   },
   "outputs": [],
   "source": [
    "args = Args(n_fp_rff=8192, n_bit=1, \n",
    "            exact_kernel=False, reg_lambda=1e-3, \n",
    "            sigma=30.0, random_seed=1, \n",
    "            data_path=data_path, do_fp=False)\n",
    "s_1, k_1 = get_spectrum(args)\n",
    "with open(\"../multi_seed_results/spectrum/s_8192_feat_1_bit_64b_svd_ind_full_dataset.npy\", \"wb\") as f:\n",
    "    np.save(f, s_1)\n",
    "# # print s_fp"
   ]
  },
  {
   "cell_type": "code",
   "execution_count": null,
   "metadata": {
    "collapsed": true
   },
   "outputs": [],
   "source": []
  },
  {
   "cell_type": "code",
   "execution_count": 15,
   "metadata": {},
   "outputs": [
    {
     "name": "stdout",
     "output_type": "stream",
     "text": [
      "[  4.86647875e+03   1.02861342e+02   7.78494278e+01 ...,   1.69865660e-07\n",
      "   1.50478971e-07   1.45085974e-07]\n"
     ]
    },
    {
     "data": {
      "image/png": "[encoded data removed]",
      "text/plain": [
       "<matplotlib.figure.Figure at 0x11493f650>"
      ]
     },
     "metadata": {},
     "output_type": "display_data"
    }
   ],
   "source": [
    "print s_exact\n",
    "plt.figure()\n",
    "_ = plt.hist(np.diag(k_2),bins=100)\n",
    "plt.show()"
   ]
  },
  {
   "cell_type": "code",
   "execution_count": null,
   "metadata": {},
   "outputs": [],
   "source": [
    "# args = Args(n_fp_rff=1024, n_bit=2, \n",
    "#             exact_kernel=False, reg_lambda=1e-3, \n",
    "#             sigma=30.0, random_seed=1, \n",
    "#             data_path=data_path, do_fp=False)\n",
    "# s_2, kernel_2 = get_spectrum(args)\n",
    "# # with open(\"../multi_seed_results/spectrum/s_1024_feat_1_bit_64b_svd_ind.npy\", \"wb\") as f:\n",
    "# #     np.save(f, s_1)\n",
    "# # print s_fp"
   ]
  },
  {
   "cell_type": "code",
   "execution_count": 16,
   "metadata": {},
   "outputs": [
    {
     "name": "stdout",
     "output_type": "stream",
     "text": [
      "[  4.86647875e+03   1.02861342e+02   7.78494278e+01 ...,   1.69865660e-07\n",
      "   1.50478971e-07   1.45085974e-07]\n"
     ]
    },
    {
     "data": {
      "image/png": "[encoded data removed]",
      "text/plain": [
       "<matplotlib.figure.Figure at 0x115483450>"
      ]
     },
     "metadata": {},
     "output_type": "display_data"
    }
   ],
   "source": [
    "print s_exact\n",
    "plt.figure()\n",
    "_ = plt.hist(np.diag(k_1),bins=100)\n",
    "plt.show()"
   ]
  },
  {
   "cell_type": "code",
   "execution_count": null,
   "metadata": {
    "collapsed": true
   },
   "outputs": [],
   "source": []
  },
  {
   "cell_type": "code",
   "execution_count": 17,
   "metadata": {},
   "outputs": [
    {
     "name": "stdout",
     "output_type": "stream",
     "text": [
      "('using sigma ', 30.0)\n",
      "('using sigma ', 30.0)\n",
      "low precsion rff with nbit =  16\n",
      "('using sigma ', 0.03333333333333333, 'using rand seed ', 1)\n",
      "('using n rff features ', 2048)\n",
      "start to do regression!\n",
      "('quantization 1 activated ', (5456, 119))\n",
      "('quantizer 1 bits', 16)\n",
      "('quantizer 1 scale', 9.5368886854352636e-07)\n",
      "(' test quantizer using random seed', 1)\n",
      "('quantization 2 activated ', (5456, 119))\n",
      "('quantizer 2 bits', 16)\n",
      "('quantizer 2 scale', 9.5368886854352636e-07)\n",
      "(' test quantizer using random seed', 2)\n",
      "('using regularior strength ', 0.001)\n",
      "finish regression!\n"
     ]
    }
   ],
   "source": [
    "args = Args(n_fp_rff=1024, n_bit=16, \n",
    "            exact_kernel=False, reg_lambda=1e-3, \n",
    "            sigma=30.0, random_seed=1, \n",
    "            data_path=data_path, do_fp=False)\n",
    "s_16, k_16 = get_spectrum(args)\n",
    "with open(\"../multi_seed_results/spectrum/s_1024_feat_16_bit_64b_svd_ind.npy\", \"wb\") as f:\n",
    "    np.save(f, s_16)\n",
    "# print s_fp"
   ]
  },
  {
   "cell_type": "code",
   "execution_count": 18,
   "metadata": {
    "scrolled": true
   },
   "outputs": [
    {
     "name": "stdout",
     "output_type": "stream",
     "text": [
      "('using sigma ', 30.0)\n",
      "('using sigma ', 30.0)\n",
      "low precsion rff with nbit =  32\n",
      "('using sigma ', 0.03333333333333333, 'using rand seed ', 1)\n",
      "('using n rff features ', 1024)\n",
      "start to do regression!\n",
      "('quantization 1 activated ', (5456, 119))\n",
      "('quantizer 1 bits', 32)\n",
      "('quantizer 1 scale', 2.0579515879251518e-11)\n",
      "(' test quantizer using random seed', 1)\n",
      "('quantization 2 activated ', (5456, 119))\n",
      "('quantizer 2 bits', 32)\n",
      "('quantizer 2 scale', 2.0579515879251518e-11)\n",
      "(' test quantizer using random seed', 2)\n",
      "('using regularior strength ', 0.001)\n",
      "finish regression!\n"
     ]
    }
   ],
   "source": [
    "args = Args(n_fp_rff=1024, n_bit=32, \n",
    "            exact_kernel=False, reg_lambda=1e-3, \n",
    "            sigma=30.0, random_seed=1, \n",
    "            data_path=data_path, do_fp=False)\n",
    "s_32, k_32 = get_spectrum(args)\n",
    "with open(\"../multi_seed_results/spectrum/s_1024_feat_32_bit_64b_svd_ind.npy\", \"wb\") as f:\n",
    "    np.save(f, s_32)\n",
    "# print s_fp"
   ]
  },
  {
   "cell_type": "code",
   "execution_count": null,
   "metadata": {},
   "outputs": [],
   "source": [
    "# with open(\"../multi_seed_results/spectrum/s_1024_feat_32_bit_64b_svd_ind.npy\", \"rb\") as f:\n",
    "#     s_32 = np.load(f)\n",
    "# with open(\"../multi_seed_results/spectrum/s_1024_feat_16_bit_64b_svd_ind.npy\", \"rb\") as f:\n",
    "#     s_16 = np.load(f)\n",
    "# with open(\"../multi_seed_results/spectrum/s_1024_feat_8_bit_64b_svd_ind.npy\", \"rb\") as f:\n",
    "#     s_8 = np.load(f)\n",
    "# with open(\"../multi_seed_results/spectrum/s_1024_feat_4_bit_64b_svd_ind.npy\", \"rb\") as f:\n",
    "#     s_4 = np.load(f)\n",
    "# with open(\"../multi_seed_results/spectrum/s_1024_feat_2_bit_64b_svd_ind.npy\", \"rb\") as f:\n",
    "#     s_2 = np.load(f)\n",
    "# with open(\"../multi_seed_results/spectrum/s_1024_feat_1_bit_64b_svd_ind.npy\", \"rb\") as f:\n",
    "#     s_1 = np.load(f)\n",
    "# with open(\"../multi_seed_results/spectrum/s_1024_feat_fp_64b_svd_ind.npy\", \"rb\") as f:\n",
    "#     s_fp = np.load(f)\n",
    "# with open(\"../multi_seed_results/spectrum/s_exact_64b_svd_ind.npy\", \"rb\") as f:\n",
    "#     s_exact = np.load(f)"
   ]
  },
  {
   "cell_type": "code",
   "execution_count": 19,
   "metadata": {},
   "outputs": [
    {
     "name": "stdout",
     "output_type": "stream",
     "text": [
      "('using sigma ', 30.0)\n",
      "('using sigma ', 30.0)\n",
      "full precision rff\n",
      "('using sigma ', 0.03333333333333333, 'using rand seed ', 1)\n",
      "('using n rff features ', 8192)\n",
      "start to do regression!\n",
      "('using regularior strength ', 0.001)\n",
      "finish regression!\n"
     ]
    }
   ],
   "source": [
    "args = Args(n_fp_rff=8192, n_bit=8, \n",
    "            exact_kernel=False, reg_lambda=1e-3, \n",
    "            sigma=30.0, random_seed=1, \n",
    "            data_path=data_path, do_fp=True)\n",
    "s_fp_8192, k_fp_8192 = get_spectrum(args)"
   ]
  },
  {
   "cell_type": "code",
   "execution_count": null,
   "metadata": {
    "collapsed": true
   },
   "outputs": [],
   "source": []
  },
  {
   "cell_type": "code",
   "execution_count": 22,
   "metadata": {},
   "outputs": [
    {
     "data": {
      "image/png": "[encoded data removed]",
      "text/plain": [
       "<matplotlib.figure.Figure at 0x1155c88d0>"
      ]
     },
     "metadata": {},
     "output_type": "display_data"
    }
   ],
   "source": [
    "plt.figure()\n",
    "plt.semilogy(s_exact, label=\"exact\")\n",
    "# plt.semilogy(s_fp, label=\"fp\")\n",
    "# plt.semilogy(s_32, label=\"32 bit\")\n",
    "# plt.semilogy(s_16, label=\"16 bit\")\n",
    "# plt.semilogy(s_8, label=\"8 bit\")\n",
    "plt.semilogy(s_4, label=\"4 bit\")\n",
    "# plt.semilogy(s_2, label=\"2 bit\")\n",
    "# plt.semilogy(s_1, label=\"1 bit\")\n",
    "plt.semilogy(s_fp_8192, label=\"fp 8192\")\n",
    "plt.grid()\n",
    "plt.ylim([1e-13, 1e2])\n",
    "plt.legend()\n",
    "plt.show()"
   ]
  },
  {
   "cell_type": "code",
   "execution_count": 69,
   "metadata": {},
   "outputs": [
    {
     "data": {
      "image/png": "[encoded data removed]",
      "text/plain": [
       "<matplotlib.figure.Figure at 0x1159f9a10>"
      ]
     },
     "metadata": {},
     "output_type": "display_data"
    }
   ],
   "source": [
    "plt.figure()\n",
    "plt.semilogy(s_exact, label=\"exact\")\n",
    "plt.semilogy(s_fp, label=\"fp\")\n",
    "plt.semilogy(s_32 - 2.0 * (1/ float(2**32 - 1) )**2, label=\"32 bit\")\n",
    "plt.semilogy(s_16 - 2.0 * (1/ float(2**16 - 1) )**2, label=\"16 bit\")\n",
    "plt.semilogy(s_8 - 2.0 * (1/ float(2**8 - 1) )**2, label=\"8 bit\")\n",
    "plt.semilogy(s_4 - 2.0 * (1/ float(2**4 - 1) )**2, label=\"4 bit\")\n",
    "plt.semilogy(s_2 - 2.0 * (1/ float(2**2 - 1) )**2, label=\"2 bit\")\n",
    "plt.semilogy(s_1 - 2.0 * (1/ float(2**1 - 1) )**2, label=\"1 bit\")\n",
    "plt.grid()\n",
    "plt.ylim([1e-13, 1e2])\n",
    "plt.legend()\n",
    "plt.show()"
   ]
  },
  {
   "cell_type": "code",
   "execution_count": null,
   "metadata": {
    "collapsed": true
   },
   "outputs": [],
   "source": []
  },
  {
   "cell_type": "code",
   "execution_count": null,
   "metadata": {
    "collapsed": true
   },
   "outputs": [],
   "source": []
  },
  {
   "cell_type": "code",
   "execution_count": null,
   "metadata": {
    "collapsed": true
   },
   "outputs": [],
   "source": []
  },
  {
   "cell_type": "code",
   "execution_count": null,
   "metadata": {
    "collapsed": true
   },
   "outputs": [],
   "source": []
  },
  {
   "cell_type": "code",
   "execution_count": null,
   "metadata": {
    "collapsed": true
   },
   "outputs": [],
   "source": []
  },
  {
   "cell_type": "code",
   "execution_count": 47,
   "metadata": {},
   "outputs": [
    {
     "name": "stdout",
     "output_type": "stream",
     "text": [
      "[  4.88397570e+03   1.00325907e+02   7.55218562e+01 ...,   1.50398710e-07\n",
      "   1.46689077e-07   1.37790439e-07]\n"
     ]
    },
    {
     "data": {
      "image/png": "[encoded data removed]",
      "text/plain": [
       "<matplotlib.figure.Figure at 0x1163eff50>"
      ]
     },
     "metadata": {},
     "output_type": "display_data"
    }
   ],
   "source": [
    "print s_exact\n",
    "plt.figure()\n",
    "_ = plt.hist(np.log(s_exact),bins=100)\n",
    "plt.show()"
   ]
  },
  {
   "cell_type": "code",
   "execution_count": 57,
   "metadata": {},
   "outputs": [
    {
     "name": "stdout",
     "output_type": "stream",
     "text": [
      "[  4.90969832e+03   9.70143982e+01   7.76616874e+01 ...,   4.90506827e-13\n",
      "   1.17740806e-13   2.70999090e-14]\n"
     ]
    },
    {
     "data": {
      "image/png": "[encoded data removed]",
      "text/plain": [
       "<matplotlib.figure.Figure at 0x11591e7d0>"
      ]
     },
     "metadata": {},
     "output_type": "display_data"
    }
   ],
   "source": [
    "print s_fp\n",
    "plt.figure()\n",
    "_ = plt.hist(np.log(s_fp),bins=100)\n",
    "plt.ylim([0, 300])\n",
    "plt.show()"
   ]
  },
  {
   "cell_type": "code",
   "execution_count": 58,
   "metadata": {},
   "outputs": [
    {
     "name": "stdout",
     "output_type": "stream",
     "text": [
      "[  4.91175306e+03   9.86626953e+01   7.49181222e+01 ...,   4.90672608e-13\n",
      "   1.19232062e-13   2.74631914e-14]\n"
     ]
    },
    {
     "data": {
      "image/png": "[encoded data removed]",
      "text/plain": [
       "<matplotlib.figure.Figure at 0x1158da5d0>"
      ]
     },
     "metadata": {},
     "output_type": "display_data"
    }
   ],
   "source": [
    "print s_32\n",
    "plt.figure()\n",
    "_ = plt.hist(np.log(s_32),bins=100)\n",
    "plt.ylim([0, 300])\n",
    "plt.show()"
   ]
  },
  {
   "cell_type": "code",
   "execution_count": 59,
   "metadata": {},
   "outputs": [
    {
     "name": "stdout",
     "output_type": "stream",
     "text": [
      "[  4.93274184e+03   9.88125823e+01   7.48778165e+01 ...,   7.08205909e-14\n",
      "   4.38004409e-14   3.44924484e-14]\n"
     ]
    },
    {
     "data": {
      "image/png": "[encoded data removed]",
      "text/plain": [
       "<matplotlib.figure.Figure at 0x115e7e3d0>"
      ]
     },
     "metadata": {},
     "output_type": "display_data"
    }
   ],
   "source": [
    "print s_16\n",
    "plt.figure()\n",
    "_ = plt.hist(np.log(s_16),bins=100)\n",
    "plt.ylim([0, 300])\n",
    "plt.show()"
   ]
  },
  {
   "cell_type": "code",
   "execution_count": 61,
   "metadata": {},
   "outputs": [
    {
     "name": "stdout",
     "output_type": "stream",
     "text": [
      "[  4.87945227e+03   9.70093789e+01   7.63480257e+01 ...,   2.70609205e-04\n",
      "   1.65688544e-04   2.61534361e-05]\n"
     ]
    },
    {
     "data": {
      "image/png": "[encoded data removed]",
      "text/plain": [
       "<matplotlib.figure.Figure at 0x114c005d0>"
      ]
     },
     "metadata": {},
     "output_type": "display_data"
    }
   ],
   "source": [
    "print s_8\n",
    "plt.figure()\n",
    "_ = plt.hist(np.log(s_8),bins=100)\n",
    "# plt.ylim([0, 300])\n",
    "plt.show()"
   ]
  },
  {
   "cell_type": "code",
   "execution_count": 62,
   "metadata": {},
   "outputs": [
    {
     "name": "stdout",
     "output_type": "stream",
     "text": [
      "[  4.86136062e+03   1.00589585e+02   7.70854530e+01 ...,   2.28810898e-06\n",
      "   1.36175427e-06   4.67959513e-07]\n"
     ]
    },
    {
     "data": {
      "image/png": "[encoded data removed]",
      "text/plain": [
       "<matplotlib.figure.Figure at 0x115e5f090>"
      ]
     },
     "metadata": {},
     "output_type": "display_data"
    }
   ],
   "source": [
    "print s_4\n",
    "plt.figure()\n",
    "_ = plt.hist(np.log(s_4),bins=100)\n",
    "plt.show()"
   ]
  },
  {
   "cell_type": "code",
   "execution_count": 63,
   "metadata": {},
   "outputs": [
    {
     "name": "stdout",
     "output_type": "stream",
     "text": [
      "[  4.88397819e+03   1.01018953e+02   7.47170578e+01 ...,   3.61711621e-05\n",
      "   2.16715708e-05   8.06056508e-06]\n"
     ]
    },
    {
     "data": {
      "image/png": "[encoded data removed]",
      "text/plain": [
       "<matplotlib.figure.Figure at 0x1162836d0>"
      ]
     },
     "metadata": {},
     "output_type": "display_data"
    }
   ],
   "source": [
    "print s_2\n",
    "plt.figure()\n",
    "_ = plt.hist(np.log(s_2),bins=100)\n",
    "plt.show()"
   ]
  },
  {
   "cell_type": "code",
   "execution_count": 64,
   "metadata": {},
   "outputs": [
    {
     "name": "stdout",
     "output_type": "stream",
     "text": [
      "[  4.88670006e+03   9.72378925e+01   7.62396480e+01 ...,   2.49561518e-04\n",
      "   1.63474904e-04   2.22622503e-05]\n"
     ]
    },
    {
     "data": {
      "image/png": "[encoded data removed]",
      "text/plain": [
       "<matplotlib.figure.Figure at 0x115b888d0>"
      ]
     },
     "metadata": {},
     "output_type": "display_data"
    }
   ],
   "source": [
    "print s_1\n",
    "plt.figure()\n",
    "_ = plt.hist(np.log(s_1),bins=100)\n",
    "plt.show()"
   ]
  },
  {
   "cell_type": "markdown",
   "metadata": {},
   "source": [
    "# Below are old cold"
   ]
  },
  {
   "cell_type": "code",
   "execution_count": 56,
   "metadata": {},
   "outputs": [
    {
     "data": {
      "text/plain": [
       "(array([ 18.,   0.,   0.,   0.,   0.,   0.,   0.,   0.,   0.,   1.]),\n",
       " array([  7.01975496e-03,   1.65006816e+00,   3.29311657e+00,\n",
       "          4.93616497e+00,   6.57921338e+00,   8.22226178e+00,\n",
       "          9.86531019e+00,   1.15083586e+01,   1.31514070e+01,\n",
       "          1.47944554e+01,   1.64375038e+01]),\n",
       " <a list of 10 Patch objects>)"
      ]
     },
     "execution_count": 56,
     "metadata": {},
     "output_type": "execute_result"
    },
    {
     "data": {
      "image/png": "[encoded data removed]",
      "text/plain": [
       "<matplotlib.figure.Figure at 0x114e31fd0>"
      ]
     },
     "metadata": {},
     "output_type": "display_data"
    }
   ],
   "source": [
    "plt.hist(s)"
   ]
  },
  {
   "cell_type": "code",
   "execution_count": null,
   "metadata": {
    "collapsed": true
   },
   "outputs": [],
   "source": []
  },
  {
   "cell_type": "code",
   "execution_count": null,
   "metadata": {
    "collapsed": true
   },
   "outputs": [],
   "source": []
  }
 ],
 "metadata": {
  "anaconda-cloud": {},
  "kernelspec": {
   "display_name": "Python 2",
   "language": "python",
   "name": "python2"
  },
  "language_info": {
   "codemirror_mode": {
    "name": "ipython",
    "version": 2
   },
   "file_extension": ".py",
   "mimetype": "text/x-python",
   "name": "python",
   "nbconvert_exporter": "python",
   "pygments_lexer": "ipython2",
   "version": "2.7.13"
  }
 },
 "nbformat": 4,
 "nbformat_minor": 1
}
