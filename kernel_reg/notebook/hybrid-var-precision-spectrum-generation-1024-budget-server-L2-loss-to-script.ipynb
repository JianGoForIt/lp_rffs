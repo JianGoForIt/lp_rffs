{
 "cells": [
  {
   "cell_type": "code",
   "execution_count": 1,
   "metadata": {
    "collapsed": true
   },
   "outputs": [],
   "source": [
    "%load_ext autoreload\n",
    "%autoreload 2\n",
    "%matplotlib inline\n",
    "import matplotlib.pyplot as plt\n",
    "import argparse\n",
    "import numpy as np\n",
    "import torch\n",
    "import cPickle as cp\n",
    "import sys, os\n",
    "sys.path.append(\"../../utils\")\n",
    "sys.path.append(\"../\")\n",
    "\n",
    "from data_loader import load_census_data, load_census_data_part\n",
    "from plot_utils import get_colors\n",
    "import rff\n",
    "from rff import GaussianKernel, RFF\n",
    "from kernel_regressor import Quantizer, QuantizerAutoScale, KernelRidgeRegression\n",
    "from bit_assignment import binary_search_bits_assignment\n",
    "from pca_rff import PCA_RFF\n",
    "from pca_rff_top_k import PCA_RFFTopK\n",
    "import cPickle as cp\n",
    "from misc_utils import Args"
   ]
  },
  {
   "cell_type": "code",
   "execution_count": 2,
   "metadata": {
    "collapsed": true
   },
   "outputs": [],
   "source": [
    "data_path = \"../../../data/census/\""
   ]
  },
  {
   "cell_type": "code",
   "execution_count": 3,
   "metadata": {
    "collapsed": true
   },
   "outputs": [],
   "source": [
    "def load_census_data_part(path):\n",
    "  X_test = np.load(path + \"X_ho.npy\")\n",
    "  X_train = np.load(path + \"X_tr.npy\")\n",
    "  Y_test = np.load(path + \"Y_ho.npy\")\n",
    "  Y_train = np.load(path + \"Y_tr.npy\")\n",
    "  X_test = X_test.item()['X_ho']\n",
    "  X_train = X_train.item()['X_tr']\n",
    "  Y_test = Y_test.item()['Y_ho']\n",
    "  Y_train = Y_train.item()['Y_tr']\n",
    "#   s = np.arange(X_train.shape[0] )\n",
    "#   np.random.seed(0)\n",
    "#   np.random.shuffle(s)\n",
    "#   X_train = X_train[s, :]\n",
    "#   Y_train = Y_train[s]\n",
    "#   X_train, Y_train, X_test, Y_test = \\\n",
    "#     X_train[:(s.size * 1 / 3), :], Y_train[:(s.size * 1 / 3)], X_test[:(s.size * 1 / 3), :], Y_test[:(s.size * 1 / 3)]\n",
    "\n",
    "#   X_train, Y_train, X_test, Y_test = \\\n",
    "#     X_train[:(s.size * 1 / 3), :], Y_train[:(s.size * 1 / 3)], X_test[:(s.size * 1 / 3), :], Y_test[:(s.size * 1 / 3)]\n",
    "  return X_train, X_test, Y_train, Y_test"
   ]
  },
  {
   "cell_type": "code",
   "execution_count": 4,
   "metadata": {
    "collapsed": true
   },
   "outputs": [],
   "source": [
    "X_train, X_test, Y_train, Y_test = load_census_data_part(data_path)\n",
    "n_input_feat = X_train.shape[1]\n",
    "args = Args(n_fp_rff=1024, n_bit=8, \n",
    "            exact_kernel=True, reg_lambda=1e-3, \n",
    "            sigma=30.0, random_seed=1, \n",
    "            data_path=data_path, do_fp=False)"
   ]
  },
  {
   "cell_type": "markdown",
   "metadata": {},
   "source": [
    "### fixed bits results"
   ]
  },
  {
   "cell_type": "code",
   "execution_count": 5,
   "metadata": {
    "collapsed": true,
    "scrolled": true
   },
   "outputs": [],
   "source": [
    "# fixed_bits_results = {}\n",
    "# for n_fp_feat_budget in [1024, 4096]:\n",
    "#     plt.figure()\n",
    "#     for nbit in [8, 4, 2]:\n",
    "#         n_quantized_rff = int(np.floor(n_fp_feat_budget / float(nbit) * 32.0) )\n",
    "#         min_val = -np.sqrt(2.0/float(n_quantized_rff) )\n",
    "#         max_val = np.sqrt(2.0/float(n_quantized_rff) )\n",
    "#         quantizer_train = Quantizer(nbit, min_val, max_val, rand_seed=args.random_seed)\n",
    "#         quantizer_test = quantizer_train\n",
    "#         kernel = GaussianKernel(sigma=args.sigma)\n",
    "#         kernel = RFF(n_quantized_rff, n_input_feat, kernel, rand_seed=args.random_seed)\n",
    "#         kernel_mat = kernel.get_kernel_matrix(X_train, X_train, quantizer_train, quantizer_train)\n",
    "#         S, U = np.linalg.eigh(kernel_mat.cpu().numpy().astype(np.float64) )\n",
    "#         fixed_bits_results[\"budget_\" + str(n_fp_feat_budget) + \"fixed_\" + str(nbit) ] = S\n",
    "#         plt.semilogy(S, label=\"budget_\" + str(n_fp_feat_budget) + \"fixed_\" + str(nbit)  )\n",
    "#     plt.show()"
   ]
  },
  {
   "cell_type": "code",
   "execution_count": 6,
   "metadata": {},
   "outputs": [],
   "source": [
    "# # with open(\"./tmp/spectrum_fix_var_comp_fixed_rep_04_13.pkl\", \"w\") as f:\n",
    "# #     cp.dump(fixed_bits_results,f)\n",
    "# with open(\"./tmp/spectrum_fix_var_comp_fixed_rep_04_13.pkl\", \"r\") as f:\n",
    "#     fixed_bits_results = cp.load(f)\n",
    "# print fixed_bits_results.keys()"
   ]
  },
  {
   "cell_type": "markdown",
   "metadata": {},
   "source": [
    "### variable bit spectrum"
   ]
  },
  {
   "cell_type": "code",
   "execution_count": 7,
   "metadata": {
    "collapsed": true
   },
   "outputs": [],
   "source": [
    "def run_single_config(memory_budget, baseline_bit, average_bit_top_comp, \n",
    "                      residual_bit, percentile, reg_lambda, seed):\n",
    "    data_path = \"../../../data/census/\"\n",
    "    sigma = 30.0\n",
    "    X_train, X_test, Y_train, Y_test = load_census_data_part(data_path)\n",
    "    n_input_feat = X_train.shape[1]\n",
    "    fp_bits = 32.0\n",
    "    n_rff = memory_budget * fp_bits / float(baseline_bit)\n",
    "    top_comp_budget = memory_budget - residual_bit / 32.0 * n_rff\n",
    "    n_top_comp = top_comp_budget * fp_bits / float(average_bit_top_comp)\n",
    "    assert residual_bit < baseline_bit\n",
    "    assert np.abs(n_top_comp - np.floor(n_top_comp) ) < 1e-6\n",
    "    assert np.abs(n_top_comp - np.ceil(n_top_comp) ) < 1e-6\n",
    "    assert np.abs(n_rff - np.floor(n_rff) ) < 1e-6\n",
    "    assert np.abs(n_rff - np.ceil(n_rff) ) < 1e-6\n",
    "    quantizer = lambda nbit, min_val, max_val, rand_seed: \\\n",
    "          QuantizerAutoScale(nbit, min_val, max_val, \n",
    "          rand_seed=rand_seed, percentile=percentile)\n",
    "    # get a lp precision PCA RFF topK\n",
    "    kernel = GaussianKernel(sigma=sigma)\n",
    "    kernel = PCA_RFFTopK(int(n_rff), n_input_feat, kernel, rand_seed=seed)\n",
    "    kernel.setup(X_train, n_top_comp=int(n_top_comp), n_fp_feat_budget=memory_budget, residual_bit=residual_bit, bits_upperbound=32)\n",
    "    regressor = KernelRidgeRegression(kernel, reg_lambda=reg_lambda)\n",
    "    regressor.fit(X_train, Y_train, quantizer=quantizer)\n",
    "    train_error = regressor.get_train_error()\n",
    "    pred = regressor.predict(X_test, quantizer_train=quantizer, quantizer_test=quantizer)\n",
    "    test_error = regressor.get_test_error(Y_test)\n",
    "    \n",
    "    print \"train test l2 \", train_error, test_error, reg_lambda, seed\n",
    "#     kernel_mat = kernel.get_kernel_matrix(X_train, X_train, quantizer1=quantizer, quantizer2=quantizer)\n",
    "#     S, U = np.linalg.eigh(kernel_mat.cpu().numpy().astype(np.float64) )\n",
    "    return (float(train_error), float(test_error) )\n"
   ]
  },
  {
   "cell_type": "markdown",
   "metadata": {},
   "source": [
    "# Memory budget 1024"
   ]
  },
  {
   "cell_type": "code",
   "execution_count": 8,
   "metadata": {
    "collapsed": true
   },
   "outputs": [],
   "source": [
    "spectrum_dict = {}\n",
    "memory_budget = 1024.0"
   ]
  },
  {
   "cell_type": "code",
   "execution_count": 9,
   "metadata": {
    "scrolled": true
   },
   "outputs": [
    {
     "name": "stdout",
     "output_type": "stream",
     "text": [
      "mem_budget_1024_baseline_bit_2_average_bit_top_comp_32_residual_bit_1_percentile_0.0_lambda_1e-06_seed_1\n"
     ]
    },
    {
     "ename": "KeyboardInterrupt",
     "evalue": "",
     "output_type": "error",
     "traceback": [
      "\u001b[0;31m---------------------------------------------------------------------------\u001b[0m",
      "\u001b[0;31mKeyboardInterrupt\u001b[0m                         Traceback (most recent call last)",
      "\u001b[0;32m<ipython-input-9-c7ac4efa2439>\u001b[0m in \u001b[0;36m<module>\u001b[0;34m()\u001b[0m\n\u001b[1;32m     19\u001b[0m                                              \u001b[0maverage_bit_top_comp\u001b[0m\u001b[0;34m=\u001b[0m\u001b[0maverage_bit_top_comp\u001b[0m\u001b[0;34m,\u001b[0m\u001b[0;34m\u001b[0m\u001b[0m\n\u001b[1;32m     20\u001b[0m                                              \u001b[0mresidual_bit\u001b[0m\u001b[0;34m=\u001b[0m\u001b[0mresidual_bit\u001b[0m\u001b[0;34m,\u001b[0m \u001b[0mpercentile\u001b[0m\u001b[0;34m=\u001b[0m\u001b[0mpercentile\u001b[0m\u001b[0;34m,\u001b[0m\u001b[0;34m\u001b[0m\u001b[0m\n\u001b[0;32m---> 21\u001b[0;31m                                              reg_lambda=reg_lambda, seed=seed)\n\u001b[0m\u001b[1;32m     22\u001b[0m         \u001b[0;31m#                 print spectrum\u001b[0m\u001b[0;34m\u001b[0m\u001b[0;34m\u001b[0m\u001b[0m\n\u001b[1;32m     23\u001b[0m                         \u001b[0mspectrum_dict\u001b[0m\u001b[0;34m[\u001b[0m\u001b[0mlabel\u001b[0m\u001b[0;34m]\u001b[0m \u001b[0;34m=\u001b[0m \u001b[0mspectrum\u001b[0m\u001b[0;34m\u001b[0m\u001b[0m\n",
      "\u001b[0;32m<ipython-input-7-00fc4bbe9753>\u001b[0m in \u001b[0;36mrun_single_config\u001b[0;34m(memory_budget, baseline_bit, average_bit_top_comp, residual_bit, percentile, reg_lambda, seed)\u001b[0m\n\u001b[1;32m     19\u001b[0m     \u001b[0mkernel\u001b[0m \u001b[0;34m=\u001b[0m \u001b[0mGaussianKernel\u001b[0m\u001b[0;34m(\u001b[0m\u001b[0msigma\u001b[0m\u001b[0;34m=\u001b[0m\u001b[0msigma\u001b[0m\u001b[0;34m)\u001b[0m\u001b[0;34m\u001b[0m\u001b[0m\n\u001b[1;32m     20\u001b[0m     \u001b[0mkernel\u001b[0m \u001b[0;34m=\u001b[0m \u001b[0mPCA_RFFTopK\u001b[0m\u001b[0;34m(\u001b[0m\u001b[0mint\u001b[0m\u001b[0;34m(\u001b[0m\u001b[0mn_rff\u001b[0m\u001b[0;34m)\u001b[0m\u001b[0;34m,\u001b[0m \u001b[0mn_input_feat\u001b[0m\u001b[0;34m,\u001b[0m \u001b[0mkernel\u001b[0m\u001b[0;34m,\u001b[0m \u001b[0mrand_seed\u001b[0m\u001b[0;34m=\u001b[0m\u001b[0mseed\u001b[0m\u001b[0;34m)\u001b[0m\u001b[0;34m\u001b[0m\u001b[0m\n\u001b[0;32m---> 21\u001b[0;31m     \u001b[0mkernel\u001b[0m\u001b[0;34m.\u001b[0m\u001b[0msetup\u001b[0m\u001b[0;34m(\u001b[0m\u001b[0mX_train\u001b[0m\u001b[0;34m,\u001b[0m \u001b[0mn_top_comp\u001b[0m\u001b[0;34m=\u001b[0m\u001b[0mint\u001b[0m\u001b[0;34m(\u001b[0m\u001b[0mn_top_comp\u001b[0m\u001b[0;34m)\u001b[0m\u001b[0;34m,\u001b[0m \u001b[0mn_fp_feat_budget\u001b[0m\u001b[0;34m=\u001b[0m\u001b[0mmemory_budget\u001b[0m\u001b[0;34m,\u001b[0m \u001b[0mresidual_bit\u001b[0m\u001b[0;34m=\u001b[0m\u001b[0mresidual_bit\u001b[0m\u001b[0;34m,\u001b[0m \u001b[0mbits_upperbound\u001b[0m\u001b[0;34m=\u001b[0m\u001b[0;36m32\u001b[0m\u001b[0;34m)\u001b[0m\u001b[0;34m\u001b[0m\u001b[0m\n\u001b[0m\u001b[1;32m     22\u001b[0m     \u001b[0mregressor\u001b[0m \u001b[0;34m=\u001b[0m \u001b[0mKernelRidgeRegression\u001b[0m\u001b[0;34m(\u001b[0m\u001b[0mkernel\u001b[0m\u001b[0;34m,\u001b[0m \u001b[0mreg_lambda\u001b[0m\u001b[0;34m=\u001b[0m\u001b[0mreg_lambda\u001b[0m\u001b[0;34m)\u001b[0m\u001b[0;34m\u001b[0m\u001b[0m\n\u001b[1;32m     23\u001b[0m     \u001b[0mregressor\u001b[0m\u001b[0;34m.\u001b[0m\u001b[0mfit\u001b[0m\u001b[0;34m(\u001b[0m\u001b[0mX_train\u001b[0m\u001b[0;34m,\u001b[0m \u001b[0mY_train\u001b[0m\u001b[0;34m,\u001b[0m \u001b[0mquantizer\u001b[0m\u001b[0;34m=\u001b[0m\u001b[0mquantizer\u001b[0m\u001b[0;34m)\u001b[0m\u001b[0;34m\u001b[0m\u001b[0m\n",
      "\u001b[0;32m/lfs/1/zjian/lp_kernel/lp_kernel/kernel_reg/pca_rff_top_k.pyc\u001b[0m in \u001b[0;36msetup\u001b[0;34m(self, input, n_top_comp, n_fp_feat_budget, residual_bit, bits_upperbound)\u001b[0m\n\u001b[1;32m     20\u001b[0m     \u001b[0mself\u001b[0m\u001b[0;34m.\u001b[0m\u001b[0mn_top_comp\u001b[0m \u001b[0;34m=\u001b[0m \u001b[0mn_top_comp\u001b[0m\u001b[0;34m\u001b[0m\u001b[0m\n\u001b[1;32m     21\u001b[0m     \u001b[0mself\u001b[0m\u001b[0;34m.\u001b[0m\u001b[0mresidual_bit\u001b[0m \u001b[0;34m=\u001b[0m \u001b[0mresidual_bit\u001b[0m\u001b[0;34m\u001b[0m\u001b[0m\n\u001b[0;32m---> 22\u001b[0;31m     \u001b[0mrff\u001b[0m \u001b[0;34m=\u001b[0m \u001b[0mself\u001b[0m\u001b[0;34m.\u001b[0m\u001b[0mget_cos_feat\u001b[0m\u001b[0;34m(\u001b[0m\u001b[0minput\u001b[0m\u001b[0;34m)\u001b[0m\u001b[0;34m\u001b[0m\u001b[0m\n\u001b[0m\u001b[1;32m     23\u001b[0m     \u001b[0;31m# if rff.size(0) < self.n_feat:\u001b[0m\u001b[0;34m\u001b[0m\u001b[0;34m\u001b[0m\u001b[0m\n\u001b[1;32m     24\u001b[0m     \u001b[0;31m#  raise Exception(\"number of samples should be large than the number of rff features for setup\")\u001b[0m\u001b[0;34m\u001b[0m\u001b[0;34m\u001b[0m\u001b[0m\n",
      "\u001b[0;32m/lfs/1/zjian/lp_kernel/lp_kernel/kernel_reg/rff.pyc\u001b[0m in \u001b[0;36mget_cos_feat\u001b[0;34m(self, input_val)\u001b[0m\n\u001b[1;32m     48\u001b[0m     \u001b[0mself\u001b[0m\u001b[0;34m.\u001b[0m\u001b[0minput\u001b[0m \u001b[0;34m=\u001b[0m \u001b[0minput_val\u001b[0m\u001b[0;34m.\u001b[0m\u001b[0mT\u001b[0m\u001b[0;34m\u001b[0m\u001b[0m\n\u001b[1;32m     49\u001b[0m     \u001b[0;32mif\u001b[0m \u001b[0misinstance\u001b[0m\u001b[0;34m(\u001b[0m\u001b[0mself\u001b[0m\u001b[0;34m.\u001b[0m\u001b[0mkernel\u001b[0m\u001b[0;34m,\u001b[0m \u001b[0mGaussianKernel\u001b[0m\u001b[0;34m)\u001b[0m\u001b[0;34m:\u001b[0m\u001b[0;34m\u001b[0m\u001b[0m\n\u001b[0;32m---> 50\u001b[0;31m       \u001b[0mself\u001b[0m\u001b[0;34m.\u001b[0m\u001b[0mfeat\u001b[0m \u001b[0;34m=\u001b[0m \u001b[0mnp\u001b[0m\u001b[0;34m.\u001b[0m\u001b[0msqrt\u001b[0m\u001b[0;34m(\u001b[0m\u001b[0;36m2\u001b[0m\u001b[0;34m/\u001b[0m\u001b[0mfloat\u001b[0m\u001b[0;34m(\u001b[0m\u001b[0mself\u001b[0m\u001b[0;34m.\u001b[0m\u001b[0mn_feat\u001b[0m\u001b[0;34m)\u001b[0m \u001b[0;34m)\u001b[0m \u001b[0;34m*\u001b[0m \u001b[0mnp\u001b[0m\u001b[0;34m.\u001b[0m\u001b[0mcos\u001b[0m\u001b[0;34m(\u001b[0m\u001b[0mnp\u001b[0m\u001b[0;34m.\u001b[0m\u001b[0mdot\u001b[0m\u001b[0;34m(\u001b[0m\u001b[0mself\u001b[0m\u001b[0;34m.\u001b[0m\u001b[0mw\u001b[0m\u001b[0;34m,\u001b[0m \u001b[0mself\u001b[0m\u001b[0;34m.\u001b[0m\u001b[0minput\u001b[0m\u001b[0;34m)\u001b[0m \u001b[0;34m+\u001b[0m \u001b[0mself\u001b[0m\u001b[0;34m.\u001b[0m\u001b[0mb\u001b[0m\u001b[0;34m)\u001b[0m\u001b[0;34m\u001b[0m\u001b[0m\n\u001b[0m\u001b[1;32m     51\u001b[0m     \u001b[0;32melse\u001b[0m\u001b[0;34m:\u001b[0m\u001b[0;34m\u001b[0m\u001b[0m\n\u001b[1;32m     52\u001b[0m       \u001b[0;32mraise\u001b[0m \u001b[0mException\u001b[0m\u001b[0;34m(\u001b[0m\u001b[0;34m\"the kernel type is not supported yet\"\u001b[0m\u001b[0;34m)\u001b[0m\u001b[0;34m\u001b[0m\u001b[0m\n",
      "\u001b[0;31mKeyboardInterrupt\u001b[0m: "
     ]
    }
   ],
   "source": [
    "# for baseline_bit in [4, 8, 2, 16]:\n",
    "for seed in [1, 2, 3]:\n",
    "    for baseline_bit in [2,]:\n",
    "        for residual_bit in [8, 4, 2, 1]:\n",
    "            for reg_lambda in [1e-6, 1e-5, 1e-4]:\n",
    "                if residual_bit >= baseline_bit:\n",
    "                    continue\n",
    "        #         plt.figure()\n",
    "        #         plt.semilogy(fixed_bits_results[\"budget_1024fixed_\" + str(baseline_bit) ][::-1], label=\"fixed \" + str(baseline_bit) )\n",
    "                for average_bit_top_comp in [32, 16, 8, 4, 2, 1]:\n",
    "        #         for average_bit_top_comp in [32, ]:\n",
    "                    if average_bit_top_comp < residual_bit:\n",
    "                        continue\n",
    "                    for percentile in [0.0, 0.1, 1.0, 10.0]:\n",
    "                        label = \"mem_budget_\" + str(int(memory_budget) ) \\\n",
    "                              + \"_baseline_bit_\" + str(int(baseline_bit) ) \\\n",
    "                              + \"_average_bit_top_comp_\" + str(int(average_bit_top_comp) ) \\\n",
    "                              + \"_residual_bit_\" + str(int(residual_bit) ) \\\n",
    "                              + \"_percentile_\" + str(percentile) \\\n",
    "                              + \"_lambda_\" + str(reg_lambda) \\\n",
    "                              + \"_seed_\" + str(seed)\n",
    "                        print label\n",
    "                        spectrum = run_single_config(memory_budget=memory_budget, \n",
    "                                             baseline_bit=baseline_bit, \n",
    "                                             average_bit_top_comp=average_bit_top_comp, \n",
    "                                             residual_bit=residual_bit, percentile=percentile, \n",
    "                                             reg_lambda=reg_lambda, seed=seed)\n",
    "        #                 print spectrum                \n",
    "                        spectrum_dict[label] = spectrum\n",
    "        #                 plt.semilogy(spectrum, label=label)\n",
    "        #         plt.grid()\n",
    "        #         plt.ylim([1e-7, 1e3] )\n",
    "        #         plt.legend(framealpha=0.3)\n",
    "        #         plt.show()\n",
    "                with open(\"./tmp/fix_var_comp_l2_1024_memory_budget_0416_part2.1.pkl\", \"w\") as f:\n",
    "                    cp.dump(spectrum_dict, f)"
   ]
  },
  {
   "cell_type": "code",
   "execution_count": null,
   "metadata": {
    "collapsed": true
   },
   "outputs": [],
   "source": [
    "with open(\"./tmp/fix_var_comp_l2_1024_memory_budget_0416_part2.1.pkl\", \"w\") as f:\n",
    "    cp.dump(spectrum_dict, f)"
   ]
  }
 ],
 "metadata": {
  "anaconda-cloud": {},
  "kernelspec": {
   "display_name": "Python 2",
   "language": "python",
   "name": "python2"
  },
  "language_info": {
   "codemirror_mode": {
    "name": "ipython",
    "version": 2
   },
   "file_extension": ".py",
   "mimetype": "text/x-python",
   "name": "python",
   "nbconvert_exporter": "python",
   "pygments_lexer": "ipython2",
   "version": "2.7.13"
  }
 },
 "nbformat": 4,
 "nbformat_minor": 1
}
