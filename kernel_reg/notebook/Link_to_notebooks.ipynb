{
 "cells": [
  {
   "cell_type": "markdown",
   "metadata": {},
   "source": [
    "### kernel approximation error and l2 loss, with and without var reduction"
   ]
  },
  {
   "cell_type": "markdown",
   "metadata": {},
   "source": [
    "[kernel approx error and l2 loss](http://localhost:8888/notebooks/Kernel_ridge_regression_p-multiple-seed-discussion-local-test-variance-reduction.ipynb)"
   ]
  },
  {
   "cell_type": "markdown",
   "metadata": {},
   "source": [
    "[pca_rff using s_i](http://localhost:8888/notebooks/Kernel_ridge_regression_p-multiple-seed-discussion-local-pca-rff.ipynb)"
   ]
  },
  {
   "cell_type": "markdown",
   "metadata": {},
   "source": [
    "[pca_rff_using_s_i**2](http://localhost:8888/notebooks/Kernel_ridge_regression_p-multiple-seed-discussion-local-pca-sqr-rff.ipynb)"
   ]
  },
  {
   "cell_type": "markdown",
   "metadata": {},
   "source": [
    "[pca_rff_using_s_i**2 for spectrum generation with 1k base feature](http://localhost:8888/notebooks/Census-Kernel-Ridge-Regression-RFF-64bit-svd-feature-matrix-64-bit-upper-PCA-server.ipynb)"
   ]
  },
  {
   "cell_type": "markdown",
   "metadata": {},
   "source": [
    "[pca_rff_using_s_i**2 for spectrum generation with 8k base feature](http://localhost:8888/notebooks/Census-Kernel-Ridge-Regression-RFF-64bit-svd-feature-matrix-64-bit-upper-PCA-server-n-base-feat-8192.ipynb)\n",
    "notebook on server to generate the spectrums\n",
    "Census-Kernel-Ridge-Regression-RFF-64bit-svd-feature-matrix-64-bit-upper-PCA-server-n-base-feat-8192.ipynb\n",
    "Census-Kernel-Ridge-Regression-RFF-64bit-svd-feature-matrix-64-bit-upper-PCA-server.ipynb"
   ]
  },
  {
   "cell_type": "markdown",
   "metadata": {},
   "source": [
    "[pca_rff_using_s_i**2 for loss visualization with 1k base feature auto scale](http://localhost:8888/notebooks/Kernel_ridge_regression_p-multiple-seed-discussion-local-pca-sqr-rff-auto-scale.ipynb)"
   ]
  },
  {
   "cell_type": "markdown",
   "metadata": {
    "collapsed": true
   },
   "source": [
    "[pca_rff_using_s_i**2 for loss visualization with 8k base feature auto scale](http://localhost:8888/notebooks/Kernel_ridge_regression_p-multiple-seed-discussion-local-pca-sqr-rff-auto-scale-base-feat-8192.ipynb)"
   ]
  },
  {
   "cell_type": "markdown",
   "metadata": {},
   "source": [
    "[pca_rff_using_s_i**2 for spectrum generation with 1k base feature auto scale](http://localhost:8888/notebooks/Census-Kernel-Ridge-Regression-RFF-64bit-svd-feature-matrix-64-bit-upper-PCA-server-auto-scale.ipynb)"
   ]
  },
  {
   "cell_type": "markdown",
   "metadata": {},
   "source": [
    "[pca_rff_using_s_i**2 for spectrum generation with 8k base feature auto scale](http://localhost:8888/notebooks/Census-Kernel-Ridge-Regression-RFF-64bit-svd-feature-matrix-64-bit-upper-PCA-server-n-base-feat-8192.ipynb)\n",
    "notebook on server to generate the spectrums\n",
    "Census-Kernel-Ridge-Regression-RFF-64bit-svd-feature-matrix-64-bit-upper-PCA-server-n-base-feat-8192-auto-scale.ipynb\n",
    "Census-Kernel-Ridge-Regression-RFF-64bit-svd-feature-matrix-64-bit-upper-PCA-server-auto-scale.ipynb"
   ]
  },
  {
   "cell_type": "markdown",
   "metadata": {},
   "source": [
    "### fixed design experiments"
   ]
  },
  {
   "cell_type": "markdown",
   "metadata": {},
   "source": [
    "[plot fixed design test l2 with theory values, 1024 and 8192 fp features](http://localhost:8888/notebooks/fixed-design-test-loss-visual.ipynb)"
   ]
  },
  {
   "cell_type": "markdown",
   "metadata": {},
   "source": [
    "### spectrum of feature matrix"
   ]
  },
  {
   "cell_type": "markdown",
   "metadata": {},
   "source": [
    "[spectrum of feature matrix](http://localhost:8888/notebooks/Census-Kernel-Ridge-Regression-RFF-Spectrum-64bit-svd-full-spectrum.ipynb#)"
   ]
  },
  {
   "cell_type": "markdown",
   "metadata": {},
   "source": [
    "[spectrum of feature matrix independent feature noise](http://localhost:8888/notebooks/Census-Kernel-Ridge-Regression-RFF-Spectrum-64bit-svd-independent-randomness.ipynb)"
   ]
  },
  {
   "cell_type": "markdown",
   "metadata": {},
   "source": [
    "[spectrum of configs with similar approx. error](http://localhost:8888/notebooks/Census-Kernel-Ridge-Regression-RFF-Spectrum-64bit-svd-full-spectrum.ipynb)"
   ]
  },
  {
   "cell_type": "markdown",
   "metadata": {
    "collapsed": true
   },
   "source": [
    "[pca_rff using s_i**2 spectrum visualization](http://localhost:8888/notebooks/Visual-spectrum-pca-rff.ipynb)"
   ]
  },
  {
   "cell_type": "markdown",
   "metadata": {
    "collapsed": true
   },
   "source": [
    "[pca_rff using s_i**2 spectrum visualization with auto scale](http://localhost:8888/notebooks/Visual-spectrum-pca-rff-auto-sacle.ipynb)"
   ]
  },
  {
   "cell_type": "markdown",
   "metadata": {},
   "source": [
    "[pca_rff using s_i**2 part of full prec components, spectrum and dynamic range](http://localhost:8888/notebooks/Visualize_residual_dynamic_range.ipynb#)"
   ]
  },
  {
   "cell_type": "code",
   "execution_count": null,
   "metadata": {
    "collapsed": true
   },
   "outputs": [],
   "source": []
  }
 ],
 "metadata": {
  "anaconda-cloud": {},
  "kernelspec": {
   "display_name": "Python [conda env:pytorch_2.0]",
   "language": "python",
   "name": "conda-env-pytorch_2.0-py"
  },
  "language_info": {
   "codemirror_mode": {
    "name": "ipython",
    "version": 2
   },
   "file_extension": ".py",
   "mimetype": "text/x-python",
   "name": "python",
   "nbconvert_exporter": "python",
   "pygments_lexer": "ipython2",
   "version": "2.7.13"
  }
 },
 "nbformat": 4,
 "nbformat_minor": 1
}
