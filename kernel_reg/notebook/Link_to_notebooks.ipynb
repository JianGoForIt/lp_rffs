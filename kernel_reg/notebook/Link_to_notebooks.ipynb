{
 "cells": [
  {
   "cell_type": "markdown",
   "metadata": {},
   "source": [
    "### kernel approximation error and l2 loss, with and without var reduction"
   ]
  },
  {
   "cell_type": "markdown",
   "metadata": {},
   "source": [
    "[kernel approx error and l2 loss](http://localhost:8888/notebooks/Kernel_ridge_regression_p-multiple-seed-discussion-local-test-variance-reduction.ipynb)"
   ]
  },
  {
   "cell_type": "markdown",
   "metadata": {},
   "source": [
    "[pca_rff using s_i](http://localhost:8888/notebooks/Kernel_ridge_regression_p-multiple-seed-discussion-local-pca-rff.ipynb)"
   ]
  },
  {
   "cell_type": "markdown",
   "metadata": {},
   "source": [
    "[pca_rff_using_s_i**2](http://localhost:8888/notebooks/Kernel_ridge_regression_p-multiple-seed-discussion-local-pca-sqr-rff.ipynb)"
   ]
  },
  {
   "cell_type": "markdown",
   "metadata": {},
   "source": [
    "[pca_rff_using_s_i**2 for spectrum generation with 1k base feature](http://localhost:8888/notebooks/Census-Kernel-Ridge-Regression-RFF-64bit-svd-feature-matrix-64-bit-upper-PCA-server.ipynb)"
   ]
  },
  {
   "cell_type": "markdown",
   "metadata": {},
   "source": [
    "[pca_rff_using_s_i**2 for spectrum generation with 8k base feature](http://localhost:8888/notebooks/Census-Kernel-Ridge-Regression-RFF-64bit-svd-feature-matrix-64-bit-upper-PCA-server-n-base-feat-8192.ipynb)\n",
    "notebook on server to generate the spectrums\n",
    "Census-Kernel-Ridge-Regression-RFF-64bit-svd-feature-matrix-64-bit-upper-PCA-server-n-base-feat-8192.ipynb\n",
    "Census-Kernel-Ridge-Regression-RFF-64bit-svd-feature-matrix-64-bit-upper-PCA-server.ipynb"
   ]
  },
  {
   "cell_type": "markdown",
   "metadata": {},
   "source": [
    "[pca_rff_using_s_i**2 for loss visualization with 1k base feature auto scale](http://localhost:8888/notebooks/Kernel_ridge_regression-multiple-seed-discussion-local-pca-sqr-rff-auto-scale.ipynb)"
   ]
  },
  {
   "cell_type": "markdown",
   "metadata": {
    "collapsed": true
   },
   "source": [
    "[pca_rff_using_s_i**2 for loss visualization with 8k base feature auto scale](http://localhost:8896/notebooks/Kernel_ridge_regression_p-multiple-seed-discussion-local-pca-sqr-rff-auto-scale-base-feat-8192.ipynb)"
   ]
  },
  {
   "cell_type": "markdown",
   "metadata": {},
   "source": [
    "[pca_rff_using_s_i**2 for spectrum generation with 1k base feature auto scale](http://localhost:8888/notebooks/Census-Kernel-Ridge-Regression-RFF-64bit-svd-feature-matrix-64-bit-upper-PCA-server-auto-scale.ipynb)"
   ]
  },
  {
   "cell_type": "markdown",
   "metadata": {},
   "source": [
    "[pca_rff_using_s_i**2 for spectrum generation with 8k base feature auto scale](http://localhost:8888/notebooks/Census-Kernel-Ridge-Regression-RFF-64bit-svd-feature-matrix-64-bit-upper-PCA-server-n-base-feat-8192.ipynb)\n",
    "notebook on server to generate the spectrums\n",
    "Census-Kernel-Ridge-Regression-RFF-64bit-svd-feature-matrix-64-bit-upper-PCA-server-n-base-feat-8192-auto-scale.ipynb\n",
    "Census-Kernel-Ridge-Regression-RFF-64bit-svd-feature-matrix-64-bit-upper-PCA-server-auto-scale.ipynb"
   ]
  },
  {
   "cell_type": "markdown",
   "metadata": {},
   "source": [
    "### fixed design experiments"
   ]
  },
  {
   "cell_type": "markdown",
   "metadata": {},
   "source": [
    "[plot fixed design test l2 with theory values, 1024 and 8192 fp features](http://localhost:8888/notebooks/fixed-design-test-loss-visual.ipynb)"
   ]
  },
  {
   "cell_type": "markdown",
   "metadata": {},
   "source": [
    "### spectrum of feature matrix"
   ]
  },
  {
   "cell_type": "markdown",
   "metadata": {},
   "source": [
    "[spectrum of feature matrix](http://localhost:8888/notebooks/Census-Kernel-Ridge-Regression-RFF-Spectrum-64bit-svd-full-spectrum.ipynb#)"
   ]
  },
  {
   "cell_type": "markdown",
   "metadata": {},
   "source": [
    "[spectrum of feature matrix independent feature noise](http://localhost:8888/notebooks/Census-Kernel-Ridge-Regression-RFF-Spectrum-64bit-svd-independent-randomness.ipynb)"
   ]
  },
  {
   "cell_type": "markdown",
   "metadata": {},
   "source": [
    "[spectrum of configs with similar approx. error](http://localhost:8888/notebooks/Census-Kernel-Ridge-Regression-RFF-Spectrum-64bit-svd-full-spectrum.ipynb)"
   ]
  },
  {
   "cell_type": "markdown",
   "metadata": {
    "collapsed": true
   },
   "source": [
    "[pca_rff using s_i**2 spectrum visualization](http://localhost:8888/notebooks/Visual-spectrum-pca-rff.ipynb)"
   ]
  },
  {
   "cell_type": "markdown",
   "metadata": {
    "collapsed": true
   },
   "source": [
    "[pca_rff using s_i**2 spectrum visualization with auto scale](http://localhost:8888/notebooks/Visual-spectrum-pca-rff-auto-sacle.ipynb)"
   ]
  },
  {
   "cell_type": "markdown",
   "metadata": {},
   "source": [
    "[pca_rff using s_i**2 part of full prec components, spectrum and dynamic range](http://localhost:8888/notebooks/Visualize_residual_dynamic_range.ipynb#)"
   ]
  },
  {
   "cell_type": "markdown",
   "metadata": {},
   "source": [
    "[pca_rff using s_i**2 part of full prec components, spectrum and dynamic range and l2 loss](http://localhost:8888/notebooks/Visualize_residual_dynamic_range_l2_loss.ipynb)"
   ]
  },
  {
   "cell_type": "markdown",
   "metadata": {},
   "source": [
    "[hybrid pca rff using s_i**2 with varying ave precision for top components](https://localhost:8895/notebooks/hybrid-var-precision-spectrum-generation-1024-budget-server.ipynb#) and the corresponding notebook with part1 and part2 in name (all server versions, output are in dawn7)"
   ]
  },
  {
   "cell_type": "markdown",
   "metadata": {},
   "source": [
    "[hybrid pca rff using s_i**2 with top percentile for top components](https://localhost:8895/notebooks/hybrid-var-precision-spectrum-generation-1024-budget-server-component-percentile.ipynb) and the corresponding notebook with part1 and part2 in name (all server versions, output are in dawn7) (Not implemented and not usable right now.)"
   ]
  },
  {
   "cell_type": "markdown",
   "metadata": {
    "collapsed": true
   },
   "source": [
    "### on comparison of fix and var bit things"
   ]
  },
  {
   "cell_type": "markdown",
   "metadata": {},
   "source": [
    "[visual of spectrum and l2 in 1024 feat budget (each feature column use same quantization random seed)](https://localhost:8896/notebooks/hybrid-var-precision-spectrum-generation-server-visualization.ipynb)"
   ]
  },
  {
   "cell_type": "markdown",
   "metadata": {},
   "source": [
    "[visual of spectrum and l2 in 1024 feat budget (each feature column use different quantization random seed)](https://localhost:8896/notebooks/hybrid-var-precision-spectrum-generation-server-visualization-fix-random-seed-issue.ipynb)"
   ]
  },
  {
   "cell_type": "markdown",
   "metadata": {},
   "source": [
    "[var bits l2 loss comparision generation using design 2 with percentile of components as input](https://localhost:8896/notebooks/hybrid-var-precision-spectrum-generation-server-visualization-fix-random-seed-issue-top-percentile-as-input.ipynb)"
   ]
  },
  {
   "cell_type": "markdown",
   "metadata": {},
   "source": [
    "[var bits l2 loss comparison generation](https://localhost:8895/notebooks/hybrid-var-precision-spectrum-generation-1024-budget-server-L2-loss.ipynb#) part of it are done with hybrid-var-precision-spectrum-generation-1024-budget-server-L2-loss-part2.py on dawn 8 18 and 7"
   ]
  },
  {
   "cell_type": "markdown",
   "metadata": {},
   "source": [
    "[var bits spectrum comparison generation](https://localhost:8896/notebooks/hybrid-var-precision-spectrum-generation-1024-budget-server.ipynb)"
   ]
  },
  {
   "cell_type": "markdown",
   "metadata": {},
   "source": [
    "[var bits l2 loss comparision generation using design 2 with percentile of components as input](https://localhost:8896/notebooks/hybrid-var-precision-spectrum-generation-1024-budget-server-L2-loss-design-opt2.ipynb#)"
   ]
  },
  {
   "cell_type": "markdown",
   "metadata": {
    "collapsed": true
   },
   "source": [
    "### verification on SGD based training"
   ]
  },
  {
   "cell_type": "markdown",
   "metadata": {},
   "source": [
    "[lp model fp feat 1 round census](https://localhost:8896/notebooks/lp_model_fp_feat_train_val_metric_visualization-server-census-round1.ipynb)"
   ]
  },
  {
   "cell_type": "markdown",
   "metadata": {},
   "source": [
    "[lp model fp feat 1 round codrna](https://localhost:8896/notebooks/lp_model_fp_feat_train_val_metric_visualization-server-codrna-round1.ipynb)"
   ]
  },
  {
   "cell_type": "markdown",
   "metadata": {},
   "source": [
    "[fp model lp feat 1 round census](https://localhost:8896/notebooks/fp_model_lp_feat_train_val_metric_visualization-server-census-round1.ipynb)"
   ]
  },
  {
   "cell_type": "markdown",
   "metadata": {},
   "source": [
    "[fp model lp feat 1 round codrna](https://localhost:8896/notebooks/fp_model_lp_feat_train_val_metric_visualization-server-codrna-round1.ipynb)"
   ]
  },
  {
   "cell_type": "markdown",
   "metadata": {},
   "source": [
    "[lp model lp feat 1 round census](https://localhost:8896/notebooks/lp_model_lp_feat_train_val_metric_visualization-server-census-round1.ipynb)"
   ]
  },
  {
   "cell_type": "markdown",
   "metadata": {},
   "source": [
    "[lp model lp feat 1 round codrna](https://localhost:8896/notebooks/lp_model_lp_feat_train_val_metric_visualization-server-codrna-round1.ipynb)"
   ]
  },
  {
   "cell_type": "markdown",
   "metadata": {
    "collapsed": true
   },
   "source": [
    "### noise trade-off"
   ]
  },
  {
   "cell_type": "markdown",
   "metadata": {},
   "source": [
    "[results from fixed design runs](http://localhost:8888/notebooks/signal_noise_trade_off.ipynb#print-out-the-optimal-lambda-on-servers)"
   ]
  },
  {
   "cell_type": "markdown",
   "metadata": {},
   "source": [
    "### nystrom v.s. rff"
   ]
  },
  {
   "cell_type": "markdown",
   "metadata": {
    "collapsed": true
   },
   "source": [
    "[preliminary results from theory l2 and closeness](https://localhost:8896/notebooks/validation-on-closeness.ipynb#)"
   ]
  },
  {
   "cell_type": "markdown",
   "metadata": {},
   "source": [
    "[regression fixed design l2 and closeness](https://localhost:8896/notebooks/correlation-census-closeness-vs-kernel-approximation-error-fixed-design-setting.ipynb)"
   ]
  },
  {
   "cell_type": "markdown",
   "metadata": {},
   "source": [
    "[regression fixed design l2 and delta/closeness](https://localhost:8896/notebooks/correlation-census-closeness-vs-kernel-approximation-error-fixed-design-setting-with-delta.ipynb)"
   ]
  },
  {
   "cell_type": "markdown",
   "metadata": {},
   "source": [
    "[regression real setting l2 and closeness](https://localhost:8896/notebooks/correlation-census-closeness-vs-kernel-approximation-error-real-setting-with-lambdastar-from-exact-kernel.ipynb)"
   ]
  },
  {
   "cell_type": "markdown",
   "metadata": {},
   "source": [
    "[classification real setting cross ent, acc v.s. closeness](https://localhost:8896/notebooks/correlation-covtype-closeness-vs-kernel-approximation-error-real-setting-with-lambdastar-from-exact-kernel.ipynb#)"
   ]
  },
  {
   "cell_type": "markdown",
   "metadata": {},
   "source": [
    "[nystrom v.s. rff large experiment tuning runs](https://localhost:8896/notebooks/nystrom_vs_rff_large_exp_tuning_run.ipynb#)"
   ]
  },
  {
   "cell_type": "markdown",
   "metadata": {},
   "source": [
    "[nystrom v.s. rff large experiment full runs](https://localhost:8896/notebooks/nystrom_vs_rff_large_exp_full_run_memory_plot.ipynb#)"
   ]
  },
  {
   "cell_type": "markdown",
   "metadata": {},
   "source": [
    "[old census visualization for l2 vs different metrics](https://localhost:8896/notebooks/correlation-census-closeness-vs-kernel-approximation-error.ipynb#)"
   ]
  },
  {
   "cell_type": "markdown",
   "metadata": {},
   "source": [
    "[old covtype visualization for l2 vs different metrics](https://localhost:8896/notebooks/correlation-covtype-closeness-vs-kernel-approximation-error.ipynb)"
   ]
  },
  {
   "cell_type": "code",
   "execution_count": null,
   "metadata": {
    "collapsed": true
   },
   "outputs": [],
   "source": []
  }
 ],
 "metadata": {
  "anaconda-cloud": {},
  "kernelspec": {
   "display_name": "Python 2",
   "language": "python",
   "name": "python2"
  },
  "language_info": {
   "codemirror_mode": {
    "name": "ipython",
    "version": 2
   },
   "file_extension": ".py",
   "mimetype": "text/x-python",
   "name": "python",
   "nbconvert_exporter": "python",
   "pygments_lexer": "ipython2",
   "version": "2.7.13"
  }
 },
 "nbformat": 4,
 "nbformat_minor": 1
}
