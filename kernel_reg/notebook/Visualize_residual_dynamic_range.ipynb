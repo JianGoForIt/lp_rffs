{
 "cells": [
  {
   "cell_type": "code",
   "execution_count": 1,
   "metadata": {
    "collapsed": false
   },
   "outputs": [],
   "source": [
    "%load_ext autoreload\n",
    "%autoreload 2\n",
    "%matplotlib inline\n",
    "import matplotlib.pyplot as plt\n",
    "import argparse\n",
    "import numpy as np\n",
    "import torch\n",
    "import cPickle as cp\n",
    "import sys, os\n",
    "sys.path.append(\"../../utils\")\n",
    "sys.path.append(\"../\")\n",
    "\n",
    "from data_loader import load_census_data, load_census_data_part\n",
    "from plot_utils import get_colors\n",
    "import rff\n",
    "from rff import GaussianKernel, RFF\n",
    "from kernel_regressor import Quantizer, KernelRidgeRegression\n",
    "from bit_assignment import binary_search_bits_assignment\n",
    "from pca_rff import PCA_RFF\n",
    "import cPickle as cp\n",
    "from misc_utils import Args"
   ]
  },
  {
   "cell_type": "code",
   "execution_count": 2,
   "metadata": {
    "collapsed": true
   },
   "outputs": [],
   "source": [
    "data_path = \"../../../data/census/\""
   ]
  },
  {
   "cell_type": "code",
   "execution_count": 3,
   "metadata": {
    "collapsed": true
   },
   "outputs": [],
   "source": [
    "X_train, X_test, Y_train, Y_test = load_census_data(data_path)\n",
    "n_input_feat = X_train.shape[1]\n",
    "args = Args(n_fp_rff=1024, n_bit=8, \n",
    "            exact_kernel=True, reg_lambda=1e-3, \n",
    "            sigma=30.0, random_seed=1, \n",
    "            data_path=data_path, do_fp=False)"
   ]
  },
  {
   "cell_type": "code",
   "execution_count": 4,
   "metadata": {
    "collapsed": true
   },
   "outputs": [],
   "source": [
    "n_fp_feat_budget = 1024\n",
    "F_norm_fp_rff_sqr = 217285107.943"
   ]
  },
  {
   "cell_type": "code",
   "execution_count": 5,
   "metadata": {
    "collapsed": false
   },
   "outputs": [
    {
     "name": "stdout",
     "output_type": "stream",
     "text": [
      "('found exact assignment plan', array([32, 32, 32, ..., 32, 32, 32]))\n",
      "('best solution, memory budget ', 1024.0, ' / ', 1024)\n"
     ]
    }
   ],
   "source": [
    "# get a low precision PCA RFF\n",
    "kernel = GaussianKernel(sigma=args.sigma)\n",
    "kernel = PCA_RFF(args.n_fp_rff, n_input_feat, kernel, rand_seed=args.random_seed, mu=10.0)\n",
    "kernel.setup(X_train, n_fp_feat_budget=n_fp_feat_budget, bits_upperbound=32)"
   ]
  },
  {
   "cell_type": "code",
   "execution_count": 6,
   "metadata": {
    "collapsed": false
   },
   "outputs": [],
   "source": [
    "rff = kernel.get_cos_feat(X_train)\n",
    "kernel_baseline = torch.mm(rff, torch.transpose(rff, 0, 1) )"
   ]
  },
  {
   "cell_type": "code",
   "execution_count": 7,
   "metadata": {
    "collapsed": false
   },
   "outputs": [],
   "source": [
    "with open(\"./tmp/rotation_mat_U.npy\", \"w\") as f:\n",
    "    np.save(f, kernel.U.cpu().numpy() )\n",
    "with open(\"./tmp/rotation_mat_U.npy\", \"r\") as f:\n",
    "    U = np.load(f)\n",
    "with open(\"./tmp/original_rff.npy\", \"w\") as f:\n",
    "    np.save(f, rff.cpu().numpy() )\n",
    "with open(\"./tmp/original_rff.npy\", \"r\") as f:\n",
    "    rff = np.load(f)\n",
    "with open(\"./tmp/kernel_baseline.npy\", \"w\") as f:\n",
    "    np.save(f, kernel_baseline)"
   ]
  },
  {
   "cell_type": "markdown",
   "metadata": {},
   "source": [
    "###  Verification row of ZU is a rotated feature representation"
   ]
  },
  {
   "cell_type": "code",
   "execution_count": 8,
   "metadata": {
    "collapsed": false
   },
   "outputs": [
    {
     "name": "stdout",
     "output_type": "stream",
     "text": [
      "<type 'numpy.ndarray'>\n"
     ]
    }
   ],
   "source": [
    "# print np.std(np.dot(rff, U), axis=0)\n",
    "# print kernel.std\n",
    "print type(U)"
   ]
  },
  {
   "cell_type": "code",
   "execution_count": 9,
   "metadata": {
    "collapsed": true
   },
   "outputs": [],
   "source": [
    "class Quantizer(object):\n",
    "  def __init__(self, nbit, min_val, max_val, scale=None, rand_seed=1):\n",
    "    self.nbit = nbit\n",
    "    self.min_val = min_val\n",
    "    self.max_val = max_val\n",
    "    if scale == None:\n",
    "      self.scale = (max_val - min_val) / float(2**self.nbit - 1)\n",
    "    self.rand_seed = rand_seed\n",
    "\n",
    "  def quantize_random(self, value, verbose=True):\n",
    "#     value = torch.clamp(value, self.min_val, self.max_val)\n",
    "    floor_val = self.min_val + torch.floor( (value - self.min_val) / self.scale) * self.scale\n",
    "    ceil_val = self.min_val + torch.ceil( (value - self.min_val) / self.scale) * self.scale\n",
    "    # print(\"test in the middle \", torch.min(floor_val), torch.max(ceil_val), self.min_val, self.max_val)\n",
    "    # exit(0)\n",
    "    floor_prob = (ceil_val - value) / self.scale\n",
    "    ceil_prob = (value - floor_val) / self.scale\n",
    "    # sanity check\n",
    "    # np.testing.assert_array_almost_equal(floor_prob.cpu().numpy(), \n",
    "    #   1 - ceil_prob.cpu().numpy(), decimal=6)\n",
    "    # if verbose:\n",
    "    #   print(\"quantizer using random seed\", self.rand_seed)\n",
    "    np.random.seed(self.rand_seed)\n",
    "    sample = torch.DoubleTensor(np.random.uniform(size=list(value.size() ) ) )\n",
    "    # quant_val = floor_val * (sample < floor_prob).float() \\\n",
    "    #   + ceil_val * (sample >= floor_prob).float()\n",
    "    quant_val = floor_val * (sample < floor_prob).double() \\\n",
    "      + ceil_val * (sample >= floor_prob).double()\n",
    "    return quant_val\n",
    "\n",
    "  def quantize(self, value, verbose=True):\n",
    "    # TODO update if we have other quantization schemes\n",
    "    return self.quantize_random(value, verbose)"
   ]
  },
  {
   "cell_type": "markdown",
   "metadata": {},
   "source": [
    "### using 99% percentile"
   ]
  },
  {
   "cell_type": "code",
   "execution_count": 10,
   "metadata": {
    "collapsed": false
   },
   "outputs": [],
   "source": [
    "def plot_with_percentile(upper, lower):\n",
    "    spectrum_dict = {}\n",
    "    plt.figure()\n",
    "#     for n_top_comp in [0, ]:\n",
    "    for n_top_comp in [0, 10, 100, 1000]:\n",
    "        print \"percent \", n_top_comp / float(rff.shape[0] )\n",
    "        rff_offset = np.mean(rff, axis=0)\n",
    "        rff_center = rff - rff_offset\n",
    "        main_comp = np.dot(rff_center, U[:, 0:n_top_comp])\n",
    "        residual = rff_center - np.dot(main_comp, U[:, 0:n_top_comp].T)\n",
    "#         dy_range = np.max(residual, axis=0) - np.min(residual, axis=0)\n",
    "#         dy_range_1 = np.percentile(residual, q=99, axis=0) - np.percentile(residual, q=1, axis=0)\n",
    "#         dy_range_10 = np.percentile(residual, q=90, axis=0) - np.percentile(residual, q=10, axis=0)\n",
    "\n",
    "        kernel_approx_error_list = []\n",
    "        for nbit in [1, 2, 4, 8, 16, 32]:\n",
    "            min_val = np.percentile(residual, q=lower, axis=0)\n",
    "            max_val = np.percentile(residual, q=upper, axis=0)\n",
    "            residual_clamp = np.clip(residual, min_val, max_val)\n",
    "#             print np.max(residual_clamp, axis=0), max_val\n",
    "#             print np.min(residual_clamp, axis=0), min_val\n",
    "            min_val = np.tile(np.percentile(residual, q=lower, axis=0).reshape(1, min_val.size), (rff.shape[0], 1) )\n",
    "            max_val = np.tile(np.percentile(residual, q=upper, axis=0).reshape(1, max_val.size), (rff.shape[0], 1) )\n",
    "            quantizer = Quantizer(nbit, torch.DoubleTensor(min_val), \n",
    "                                  torch.DoubleTensor(max_val), rand_seed=1)\n",
    "            quant_residual = quantizer.quantize(torch.DoubleTensor(residual_clamp), verbose=False).cpu().numpy()\n",
    "    #         quant_residual = residual\n",
    "            recover_rff = np.dot(main_comp, U[:, 0:n_top_comp].T)\n",
    "            recover_rff += quant_residual\n",
    "            recover_rff += rff_offset        \n",
    "            recover_kernel_mat = np.dot(recover_rff, recover_rff.T)\n",
    "            kernel_approx_error = np.sum( (kernel_baseline.cpu().numpy() - recover_kernel_mat)**2)\n",
    "            kernel_approx_error_list.append(kernel_approx_error)\n",
    "            print \"done bits \", nbit\n",
    "            _, S, _ = np.linalg.svd(recover_kernel_mat)\n",
    "            spectrum_dict[\"upper_\" + str(upper) + \"_n_top_\" + str(n_top_comp) + \"_nbit_\" + str(nbit) ] = S\n",
    "        plt.plot(np.sqrt(np.array(kernel_approx_error_list) / F_norm_fp_rff_sqr), label=\"n top comp \" + str(n_top_comp) )\n",
    "    #         print kernel_baseline.cpu().numpy().ravel()[:20]\n",
    "    #         print recover_kernel_mat.ravel()[:20]\n",
    "    #         raw_input()\n",
    "        print \"n top comp \", n_top_comp, kernel_approx_error_list\n",
    "    plt.grid()\n",
    "    plt.legend()\n",
    "    ax = plt.subplot(111)\n",
    "    ax.set_yscale('log')\n",
    "    plt.show()\n",
    "    return spectrum_dict"
   ]
  },
  {
   "cell_type": "code",
   "execution_count": 11,
   "metadata": {
    "collapsed": true
   },
   "outputs": [],
   "source": [
    "# val_10 = [2445749.1793917837, 90983.05670742986, 3575.4054838067823, 11.884725505977123, 0.00018462084635229321, 4.2366721601303593e-14]\n",
    "# val_100 = [755943.12067424238, 39491.256157772084, 1583.0134186175358, 5.3615856278197169, 8.2026551445892452e-05, 1.8832408799369611e-14]\n",
    "# val_1000 = [32.974419743918432, 3.1134650391946259, 0.10061072304108232, 0.00034411362396194939, 5.2218140425769637e-09, 1.2198138807298336e-18]"
   ]
  },
  {
   "cell_type": "code",
   "execution_count": null,
   "metadata": {
    "collapsed": false
   },
   "outputs": [],
   "source": [
    "# plt.figure()\n",
    "# plt.semilogy(np.sqrt(np.array(val_10) / 217285107.943), label=\"10\")\n",
    "# plt.semilogy(np.sqrt(np.array(val_100) / 217285107.943), label=\"100\")\n",
    "# plt.semilogy(np.sqrt(np.array(val_1000) / 217285107.943), label=\"1000\")\n",
    "# plt.grid()\n",
    "# plt.show()"
   ]
  },
  {
   "cell_type": "code",
   "execution_count": null,
   "metadata": {
    "collapsed": false,
    "scrolled": false
   },
   "outputs": [
    {
     "name": "stdout",
     "output_type": "stream",
     "text": [
      "percent  0.0\n"
     ]
    }
   ],
   "source": [
    "spectrum_dict = plot_with_percentile(upper=100, lower=0)\n",
    "with open(\"./tmp/spectrums_upper_\" + str(100) + \".npy\", \"w\") as f:\n",
    "    cp.dump(spectrum_dict, f)"
   ]
  },
  {
   "cell_type": "code",
   "execution_count": null,
   "metadata": {
    "collapsed": false
   },
   "outputs": [],
   "source": [
    "spectrum_dict = plot_with_percentile(upper=99, lower=1)\n",
    "with open(\"./tmp/spectrums_upper_\" + str(99) + \".npy\", \"w\") as f:\n",
    "    cp.dump(spectrum_dict, f)"
   ]
  },
  {
   "cell_type": "code",
   "execution_count": null,
   "metadata": {
    "collapsed": false
   },
   "outputs": [],
   "source": [
    "spectrum_dict = plot_with_percentile(upper=90, lower=10)\n",
    "with open(\"./tmp/spectrums_upper_\" + str(90) + \".npy\", \"w\") as f:\n",
    "    cp.dump(spectrum_dict, f)"
   ]
  },
  {
   "cell_type": "code",
   "execution_count": 48,
   "metadata": {
    "collapsed": false
   },
   "outputs": [
    {
     "name": "stdout",
     "output_type": "stream",
     "text": [
      "percent  0.0\n"
     ]
    },
    {
     "data": {
      "image/png": "[encoded data removed]",
      "text/plain": [
       "<matplotlib.figure.Figure at 0x1606cd810>"
      ]
     },
     "metadata": {},
     "output_type": "display_data"
    },
    {
     "name": "stdout",
     "output_type": "stream",
     "text": [
      "percent  0.000610985519643\n"
     ]
    },
    {
     "data": {
      "image/png": "[encoded data removed]",
      "text/plain": [
       "<matplotlib.figure.Figure at 0x150b6cd50>"
      ]
     },
     "metadata": {},
     "output_type": "display_data"
    },
    {
     "name": "stdout",
     "output_type": "stream",
     "text": [
      "percent  0.00610985519643\n"
     ]
    },
    {
     "data": {
      "image/png": "[encoded data removed]",
      "text/plain": [
       "<matplotlib.figure.Figure at 0x117396c90>"
      ]
     },
     "metadata": {},
     "output_type": "display_data"
    },
    {
     "name": "stdout",
     "output_type": "stream",
     "text": [
      "percent  0.0610985519643\n"
     ]
    },
    {
     "data": {
      "image/png": "[encoded data removed]",
      "text/plain": [
       "<matplotlib.figure.Figure at 0x11ae59a90>"
      ]
     },
     "metadata": {},
     "output_type": "display_data"
    },
    {
     "name": "stdout",
     "output_type": "stream",
     "text": [
      "percent  0.610985519643\n"
     ]
    },
    {
     "data": {
      "image/png": "[encoded data removed]",
      "text/plain": [
       "<matplotlib.figure.Figure at 0x15fb0fd50>"
      ]
     },
     "metadata": {},
     "output_type": "display_data"
    }
   ],
   "source": [
    "for n_top_comp in [0, 10, 100, 1000, 10000]:\n",
    "    plt.figure()\n",
    "    print \"percent \", n_top_comp / float(rff.shape[0] )\n",
    "    rff_offset = np.mean(rff, axis=0)\n",
    "    rff_center = rff - rff_offset\n",
    "    main_comp = np.dot(rff_center, U[:, 0:n_top_comp])\n",
    "    residual = rff_center - np.dot(main_comp, U[:, 0:n_top_comp].T)\n",
    "    dy_range = np.max(residual, axis=0) - np.min(residual, axis=0)\n",
    "    dy_range_1 = np.percentile(residual, q=99, axis=0) - np.percentile(residual, q=1, axis=0)\n",
    "    dy_range_10 = np.percentile(residual, q=90, axis=0) - np.percentile(residual, q=10, axis=0)\n",
    "    plt.bar(np.arange(dy_range.size), dy_range)\n",
    "    plt.bar(np.arange(dy_range.size), dy_range_1)\n",
    "    plt.bar(np.arange(dy_range.size), dy_range_10)\n",
    "    ax = plt.subplot(111)\n",
    "    ax.set_yscale(\"log\")\n",
    "    plt.show()    "
   ]
  },
  {
   "cell_type": "code",
   "execution_count": null,
   "metadata": {
    "collapsed": true
   },
   "outputs": [],
   "source": []
  },
  {
   "cell_type": "code",
   "execution_count": 41,
   "metadata": {
    "collapsed": true
   },
   "outputs": [],
   "source": [
    "n_top_comp = 0"
   ]
  },
  {
   "cell_type": "code",
   "execution_count": 42,
   "metadata": {
    "collapsed": false
   },
   "outputs": [
    {
     "data": {
      "text/plain": [
       "<Container object of 1024 artists>"
      ]
     },
     "execution_count": 42,
     "metadata": {},
     "output_type": "execute_result"
    },
    {
     "data": {
      "image/png": "[encoded data removed]",
      "text/plain": [
       "<matplotlib.figure.Figure at 0x11d8e2790>"
      ]
     },
     "metadata": {},
     "output_type": "display_data"
    }
   ],
   "source": [
    "rff_center = rff - np.mean(rff, axis=0)\n",
    "main_comp = np.dot(rff_center, U[:, 0:n_top_comp])\n",
    "residual = rff_center - np.dot(main_comp, U[:, 0:n_top_comp].T)\n",
    "dy_range = np.max(residual, axis=0) - np.min(residual, axis=0)\n",
    "plt.bar(np.arange(dy_range.size), dy_range)"
   ]
  },
  {
   "cell_type": "code",
   "execution_count": 33,
   "metadata": {
    "collapsed": true
   },
   "outputs": [],
   "source": [
    "n_top_comp = 100"
   ]
  },
  {
   "cell_type": "code",
   "execution_count": 38,
   "metadata": {
    "collapsed": false,
    "scrolled": true
   },
   "outputs": [
    {
     "data": {
      "text/plain": [
       "<Container object of 1024 artists>"
      ]
     },
     "execution_count": 38,
     "metadata": {},
     "output_type": "execute_result"
    },
    {
     "data": {
      "image/png": "[encoded data removed]",
      "text/plain": [
       "<matplotlib.figure.Figure at 0x11d920a10>"
      ]
     },
     "metadata": {},
     "output_type": "display_data"
    }
   ],
   "source": [
    "rff_center = rff - np.mean(rff, axis=0)\n",
    "main_comp = np.dot(rff_center, U[:, 0:n_top_comp])\n",
    "residual = rff_center - np.dot(main_comp, U[:, 0:n_top_comp].T)\n",
    "dy_range = np.max(residual, axis=0) - np.min(residual, axis=0)\n",
    "plt.bar(np.arange(dy_range.size), dy_range)"
   ]
  },
  {
   "cell_type": "code",
   "execution_count": 39,
   "metadata": {
    "collapsed": true
   },
   "outputs": [],
   "source": [
    "n_top_comp = 1000"
   ]
  },
  {
   "cell_type": "code",
   "execution_count": 40,
   "metadata": {
    "collapsed": false
   },
   "outputs": [
    {
     "data": {
      "text/plain": [
       "<Container object of 1024 artists>"
      ]
     },
     "execution_count": 40,
     "metadata": {},
     "output_type": "execute_result"
    },
    {
     "data": {
      "image/png": "[encoded data removed]",
      "text/plain": [
       "<matplotlib.figure.Figure at 0x108e9ba50>"
      ]
     },
     "metadata": {},
     "output_type": "display_data"
    }
   ],
   "source": [
    "rff_center = rff - np.mean(rff, axis=0)\n",
    "main_comp = np.dot(rff_center, U[:, 0:n_top_comp])\n",
    "residual = rff_center - np.dot(main_comp, U[:, 0:n_top_comp].T)\n",
    "dy_range = np.max(residual, axis=0) - np.min(residual, axis=0)\n",
    "plt.bar(np.arange(dy_range.size), dy_range)"
   ]
  },
  {
   "cell_type": "code",
   "execution_count": null,
   "metadata": {
    "collapsed": true
   },
   "outputs": [],
   "source": []
  }
 ],
 "metadata": {
  "anaconda-cloud": {},
  "kernelspec": {
   "display_name": "Python [conda env:pytorch_2.0]",
   "language": "python",
   "name": "conda-env-pytorch_2.0-py"
  },
  "language_info": {
   "codemirror_mode": {
    "name": "ipython",
    "version": 2
   },
   "file_extension": ".py",
   "mimetype": "text/x-python",
   "name": "python",
   "nbconvert_exporter": "python",
   "pygments_lexer": "ipython2",
   "version": "2.7.13"
  }
 },
 "nbformat": 4,
 "nbformat_minor": 1
}
