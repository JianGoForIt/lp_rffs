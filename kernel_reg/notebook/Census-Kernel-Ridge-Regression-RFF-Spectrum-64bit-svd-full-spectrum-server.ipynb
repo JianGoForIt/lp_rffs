{
 "cells": [
  {
   "cell_type": "code",
   "execution_count": 1,
   "metadata": {
    "collapsed": true
   },
   "outputs": [],
   "source": [
    "%matplotlib inline\n",
    "import matplotlib.pyplot as plt\n",
    "import argparse\n",
    "import numpy as np\n",
    "import torch\n",
    "import cPickle as cp\n",
    "import sys, os\n",
    "sys.path.append(\"../../utils\")\n",
    "sys.path.append(\"../\")\n",
    "\n",
    "from data_loader import load_census_data\n",
    "import rff\n",
    "from rff import GaussianKernel, RFF\n",
    "from kernel_regressor import Quantizer, KernelRidgeRegression"
   ]
  },
  {
   "cell_type": "code",
   "execution_count": 2,
   "metadata": {
    "collapsed": true
   },
   "outputs": [],
   "source": [
    "class Args(object):\n",
    "    def __init__(self, n_fp_rff, n_bit, \n",
    "                 exact_kernel, reg_lambda, \n",
    "                 sigma, random_seed, data_path,\n",
    "                 do_fp, test_var_reduce=False):\n",
    "        self.n_fp_rff = n_fp_rff\n",
    "        self.n_bit = n_bit\n",
    "        self.exact_kernel = exact_kernel\n",
    "        self.reg_lambda = reg_lambda\n",
    "        self.sigma = sigma\n",
    "        self.random_seed = random_seed\n",
    "        self.data_path = data_path\n",
    "        self.do_fp = do_fp\n",
    "        self.test_var_reduce = test_var_reduce"
   ]
  },
  {
   "cell_type": "code",
   "execution_count": 3,
   "metadata": {
    "collapsed": true
   },
   "outputs": [],
   "source": [
    "def load_census_data(path):\n",
    "    X_test = np.load(path + \"X_ho.npy\")\n",
    "    X_train = np.load(path + \"X_tr.npy\")\n",
    "    Y_test = np.load(path + \"Y_ho.npy\")\n",
    "    Y_train = np.load(path + \"Y_tr.npy\")\n",
    "    X_test = X_test.item()['X_ho']\n",
    "    X_train = X_train.item()['X_tr']\n",
    "    Y_test = Y_test.item()['Y_ho']\n",
    "    Y_train = Y_train.item()['Y_tr']\n",
    "#     s = np.arange(X_train.shape[0] )\n",
    "#     np.random.shuffle(s)\n",
    "#     X_train = X_train[s, :]\n",
    "#     Y_train = Y_train[s]\n",
    "#     X_train, Y_train, X_test, Y_test = \\\n",
    "#       X_train[:(s.size * 2 / 3), :], Y_train[:(s.size * 2 / 3)], X_test[:(s.size * 2 / 3), :], Y_test[:(s.size * 2 / 3)]\n",
    "    return X_train, X_test, Y_train, Y_test"
   ]
  },
  {
   "cell_type": "code",
   "execution_count": 4,
   "metadata": {
    "collapsed": true
   },
   "outputs": [],
   "source": [
    "data_path = \"../../../data/census/\""
   ]
  },
  {
   "cell_type": "code",
   "execution_count": 5,
   "metadata": {
    "collapsed": true
   },
   "outputs": [],
   "source": [
    "def get_spectrum(args):\n",
    "    X_train, X_test, Y_train, Y_test = load_census_data(args.data_path)\n",
    "    kernel = GaussianKernel(sigma=args.sigma)\n",
    "    kernel_mat_exact_train = kernel.get_kernel_matrix(X_train, X_train)\n",
    "    kernel_mat_exact_test = kernel.get_kernel_matrix(X_test, X_train)\n",
    "    n_input_feat = X_train.shape[1]\n",
    "    assert X_train.shape[1] == X_test.shape[1]\n",
    "    if args.exact_kernel:\n",
    "        print \"exact kernel\"\n",
    "        kernel = kernel\n",
    "        quantizer_train = None\n",
    "        quantizer_test = None\n",
    "        config_name = \"exact_kernel_lambda_\" + str(args.reg_lambda) + \"_sigma_\" + str(args.sigma)\n",
    "    elif args.do_fp:\n",
    "        print \"full precision rff\"\n",
    "        kernel = RFF(args.n_fp_rff, n_input_feat, kernel, rand_seed=args.random_seed)\n",
    "        quantizer_train = None\n",
    "        quantizer_test = None\n",
    "        config_name = \"fp_rff_lambda_\" + str(args.reg_lambda) + \"_sigma_\" \\\n",
    "          + str(args.sigma) + \"_n_fp_rff_\" + str(args.n_fp_rff)\n",
    "    else:\n",
    "        print \"low precsion rff with nbit = \", args.n_bit\n",
    "        n_quantized_rff = int(np.floor(args.n_fp_rff / float(args.n_bit) * 32.0) )\n",
    "        min_val = -np.sqrt(2.0/float(n_quantized_rff) )\n",
    "        max_val = np.sqrt(2.0/float(n_quantized_rff) )\n",
    "        quantizer_train = Quantizer(args.n_bit, min_val, max_val, rand_seed=args.random_seed)\n",
    "        if not args.test_var_reduce:\n",
    "            quantizer_test = quantizer_train\n",
    "        else:\n",
    "            quantizer_test = None\n",
    "        kernel = RFF(n_quantized_rff, n_input_feat, kernel, rand_seed=args.random_seed)\n",
    "        config_name = \"lp_rff_lambda_\" + str(args.reg_lambda) + \"_sigma_\" \\\n",
    "          + str(args.sigma) + \"_n_fp_rff_\" + str(args.n_fp_rff) + \"_nbit_\" + str(args.n_bit) \n",
    "\n",
    "    regressor = KernelRidgeRegression(kernel, reg_lambda=args.reg_lambda)\n",
    "    print(\"start to do regression!\")\n",
    "    # print(\"test quantizer\", quantizer)\n",
    "    regressor.fit(X_train, Y_train, quantizer=quantizer_train)\n",
    "    print(\"finish regression!\")\n",
    "    \n",
    "    train_error = regressor.get_train_error()\n",
    "    pred = regressor.predict(X_test, quantizer_train=quantizer_train, quantizer_test=quantizer_test)\n",
    "    test_error = regressor.get_test_error(Y_test)\n",
    "    print(\"check l2 error test error and train error \", test_error, train_error)\n",
    "\n",
    "    # get kernel approximation error \n",
    "    kernel_mat_approx_error_train = torch.sum( (regressor.kernel_mat - kernel_mat_exact_train)**2)\n",
    "    kernel_mat_approx_error_test = torch.sum( (regressor.kernel_mat_pred - kernel_mat_exact_test)**2)\n",
    "    print(\"check kernel error test error and train error \", kernel_mat_approx_error_train, kernel_mat_approx_error_test)\n",
    "    \n",
    "    kernel_mat = regressor.kernel_mat\n",
    "    _, s, _ = np.linalg.svd(kernel_mat.cpu().numpy().astype(np.float64), full_matrices=True)\n",
    "    return s, kernel_mat.cpu().numpy()"
   ]
  },
  {
   "cell_type": "markdown",
   "metadata": {},
   "source": [
    "### generate plot for spectrum comparison under the same # of rff (note accidentally without naming using full_dataset)"
   ]
  },
  {
   "cell_type": "code",
   "execution_count": 6,
   "metadata": {},
   "outputs": [
    {
     "name": "stdout",
     "output_type": "stream",
     "text": [
      "('using sigma ', 30.0)\n",
      "('using sigma ', 30.0)\n",
      "exact kernel\n",
      "start to do regression!\n",
      "('using sigma ', 30.0)\n",
      "('using regularior strength ', 0.001)\n",
      "finish regression!\n",
      "('using sigma ', 30.0)\n",
      "('check l2 error test error and train error ', 28635565.746743534, 5882639.16675007)\n",
      "('check kernel error test error and train error ', 0.0, 0.0)\n"
     ]
    }
   ],
   "source": [
    "args = Args(n_fp_rff=1024, n_bit=8, \n",
    "            exact_kernel=True, reg_lambda=1e-3, \n",
    "            sigma=30.0, random_seed=1, \n",
    "            data_path=data_path, do_fp=False)\n",
    "s_exact, k_exact = get_spectrum(args)\n",
    "# with open(\"../multi_seed_results/spectrum/s_exact_64b_svd_full_dataset_for_table.npy\", \"wb\") as f:\n",
    "#     np.save(f, s_exact)\n",
    "with open(\"../multi_seed_results/spectrum/k_exact_64b_svd_full_dataset.npy\", \"wb\") as f:\n",
    "    np.save(f, k_exact)\n",
    "# print s_exact"
   ]
  },
  {
   "cell_type": "code",
   "execution_count": null,
   "metadata": {
    "scrolled": true
   },
   "outputs": [
    {
     "name": "stdout",
     "output_type": "stream",
     "text": [
      "('using sigma ', 30.0)\n",
      "('using sigma ', 30.0)\n",
      "full precision rff\n",
      "('using sigma ', 0.03333333333333333, 'using rand seed ', 1)\n",
      "('using n rff features ', 8192)\n",
      "start to do regression!\n",
      "('using regularior strength ', 0.001)\n",
      "finish regression!\n",
      "('check l2 error test error and train error ', 32688571.329237305, 7056476.9794684835)\n",
      "('check kernel error test error and train error ', 9805.65579266715, 1083.3929885185432)\n",
      "('using sigma ', 30.0)\n",
      "('using sigma ', 30.0)\n",
      "full precision rff\n",
      "('using sigma ', 0.03333333333333333, 'using rand seed ', 2)\n",
      "('using n rff features ', 8192)\n",
      "start to do regression!\n",
      "('using regularior strength ', 0.001)\n",
      "finish regression!\n",
      "('check l2 error test error and train error ', 32095403.983813383, 7017679.03853014)\n",
      "('check kernel error test error and train error ', 7819.318579547259, 864.0171263206198)\n",
      "('using sigma ', 30.0)\n",
      "('using sigma ', 30.0)\n",
      "full precision rff\n",
      "('using sigma ', 0.03333333333333333, 'using rand seed ', 3)\n",
      "('using n rff features ', 8192)\n",
      "start to do regression!\n",
      "('using regularior strength ', 0.001)\n",
      "finish regression!\n",
      "('check l2 error test error and train error ', 32502258.37912666, 6949225.047230458)\n",
      "('check kernel error test error and train error ', 57661.98401455436, 6380.4853559259645)\n",
      "('using sigma ', 30.0)\n",
      "('using sigma ', 30.0)\n",
      "full precision rff\n",
      "('using sigma ', 0.03333333333333333, 'using rand seed ', 4)\n",
      "('using n rff features ', 8192)\n",
      "start to do regression!\n",
      "('using regularior strength ', 0.001)\n",
      "finish regression!\n",
      "('check l2 error test error and train error ', 32240285.600661334, 7074871.019037416)\n",
      "('check kernel error test error and train error ', 6511.683581547547, 709.1759302657254)\n",
      "('using sigma ', 30.0)\n",
      "('using sigma ', 30.0)\n",
      "full precision rff\n",
      "('using sigma ', 0.03333333333333333, 'using rand seed ', 5)\n",
      "('using n rff features ', 8192)\n",
      "start to do regression!\n",
      "('using regularior strength ', 0.001)\n",
      "finish regression!\n",
      "('check l2 error test error and train error ', 33567202.81019511, 7033025.724802174)\n",
      "('check kernel error test error and train error ', 8176.528547519003, 919.7531648069639)\n",
      "('using sigma ', 30.0)\n",
      "('using sigma ', 30.0)\n",
      "full precision rff\n",
      "('using sigma ', 0.03333333333333333, 'using rand seed ', 6)\n",
      "('using n rff features ', 8192)\n",
      "start to do regression!\n",
      "('using regularior strength ', 0.001)\n",
      "finish regression!\n",
      "('check l2 error test error and train error ', 30625580.688810337, 7038529.487166723)\n",
      "('check kernel error test error and train error ', 38681.927035702596, 4285.144250073653)\n",
      "('using sigma ', 30.0)\n",
      "('using sigma ', 30.0)\n",
      "full precision rff\n",
      "('using sigma ', 0.03333333333333333, 'using rand seed ', 7)\n",
      "('using n rff features ', 8192)\n",
      "start to do regression!\n",
      "('using regularior strength ', 0.001)\n",
      "finish regression!\n",
      "('check l2 error test error and train error ', 31647992.594026696, 7064838.057190149)\n",
      "('check kernel error test error and train error ', 13089.157444459748, 1448.5493730308922)\n",
      "('using sigma ', 30.0)\n",
      "('using sigma ', 30.0)\n",
      "full precision rff\n",
      "('using sigma ', 0.03333333333333333, 'using rand seed ', 8)\n",
      "('using n rff features ', 8192)\n",
      "start to do regression!\n",
      "('using regularior strength ', 0.001)\n",
      "finish regression!\n",
      "('check l2 error test error and train error ', 33811228.0429921, 6991182.980417527)\n",
      "('check kernel error test error and train error ', 7912.241157579646, 891.8064609613491)\n",
      "('using sigma ', 30.0)\n",
      "('using sigma ', 30.0)\n",
      "full precision rff\n",
      "('using sigma ', 0.03333333333333333, 'using rand seed ', 9)\n",
      "('using n rff features ', 8192)\n",
      "start to do regression!\n",
      "('using regularior strength ', 0.001)\n",
      "finish regression!\n",
      "('check l2 error test error and train error ', 28622646.181034874, 7075183.67706923)\n",
      "('check kernel error test error and train error ', 8367.069556518565, 909.1826807744445)\n",
      "('using sigma ', 30.0)\n",
      "('using sigma ', 30.0)\n",
      "full precision rff\n",
      "('using sigma ', 0.03333333333333333, 'using rand seed ', 10)\n",
      "('using n rff features ', 8192)\n",
      "start to do regression!\n",
      "('using regularior strength ', 0.001)\n",
      "finish regression!\n",
      "('check l2 error test error and train error ', 29463281.393114615, 7036291.860671404)\n",
      "('check kernel error test error and train error ', 4095.652091171784, 460.261927701832)\n"
     ]
    }
   ],
   "source": [
    "for seed in range(1, 11):\n",
    "    args = Args(n_fp_rff=8192, n_bit=8, \n",
    "                exact_kernel=False, reg_lambda=1e-3, \n",
    "                sigma=30.0, random_seed=seed, \n",
    "                data_path=data_path, do_fp=True)\n",
    "    s_fp, k_fp = get_spectrum(args)\n",
    "    with open(\"../multi_seed_results/spectrum/s_8192_feat_fp_64b_svd_full_dataset_seed\" + str(seed) + \".npy\", \"wb\") as f:\n",
    "        np.save(f, s_fp)\n",
    "    with open(\"../multi_seed_results/spectrum/k_8192_feat_fp_64b_svd_full_dataset_seed\" + str(seed) + \".npy\", \"wb\") as f:\n",
    "        np.save(f, k_fp)"
   ]
  },
  {
   "cell_type": "code",
   "execution_count": 37,
   "metadata": {},
   "outputs": [
    {
     "data": {
      "text/plain": [
       "31726445.100301243"
      ]
     },
     "execution_count": 37,
     "metadata": {},
     "output_type": "execute_result"
    }
   ],
   "source": [
    "np.mean([32688571.329237305, 32095403.983813383, 32502258.37912666, 32240285.600661334, 33567202.81019511, 30625580.688810337, 31647992.594026696, 33811228.0429921, 28622646.181034874, 29463281.393114615])"
   ]
  },
  {
   "cell_type": "code",
   "execution_count": null,
   "metadata": {
    "scrolled": true
   },
   "outputs": [
    {
     "name": "stdout",
     "output_type": "stream",
     "text": [
      "('using sigma ', 30.0)\n",
      "('using sigma ', 30.0)\n",
      "full precision rff\n",
      "('using sigma ', 0.03333333333333333, 'using rand seed ', 1)\n",
      "('using n rff features ', 4096)\n",
      "start to do regression!\n",
      "('using regularior strength ', 0.01)\n",
      "finish regression!\n",
      "('check l2 error test error and train error ', 33447429.2053789, 14033135.55027548)\n",
      "('check kernel error test error and train error ', 67324.61461904043, 7482.2096459274435)\n",
      "('using sigma ', 30.0)\n",
      "('using sigma ', 30.0)\n",
      "full precision rff\n",
      "('using sigma ', 0.03333333333333333, 'using rand seed ', 2)\n",
      "('using n rff features ', 4096)\n",
      "start to do regression!\n",
      "('using regularior strength ', 0.01)\n",
      "finish regression!\n",
      "('check l2 error test error and train error ', 33450589.557279676, 13999328.610658262)\n",
      "('check kernel error test error and train error ', 40607.982314463916, 4446.91302487432)\n",
      "('using sigma ', 30.0)\n",
      "('using sigma ', 30.0)\n",
      "full precision rff\n",
      "('using sigma ', 0.03333333333333333, 'using rand seed ', 3)\n",
      "('using n rff features ', 4096)\n",
      "start to do regression!\n",
      "('using regularior strength ', 0.01)\n",
      "finish regression!\n",
      "('check l2 error test error and train error ', 35442117.43300067, 14129144.235439561)\n",
      "('check kernel error test error and train error ', 31096.16350801831, 3475.1294477650194)\n",
      "('using sigma ', 30.0)\n",
      "('using sigma ', 30.0)\n",
      "full precision rff\n",
      "('using sigma ', 0.03333333333333333, 'using rand seed ', 4)\n",
      "('using n rff features ', 4096)\n",
      "start to do regression!\n",
      "('using regularior strength ', 0.01)\n",
      "finish regression!\n",
      "('check l2 error test error and train error ', 35964219.77480749, 14293560.917007497)\n",
      "('check kernel error test error and train error ', 14192.125185336567, 1576.3150303027448)\n",
      "('using sigma ', 30.0)\n",
      "('using sigma ', 30.0)\n",
      "full precision rff\n",
      "('using sigma ', 0.03333333333333333, 'using rand seed ', 5)\n",
      "('using n rff features ', 4096)\n",
      "start to do regression!\n",
      "('using regularior strength ', 0.01)\n",
      "finish regression!\n",
      "('check l2 error test error and train error ', 33972917.14661751, 14046285.846417697)\n",
      "('check kernel error test error and train error ', 11738.929166760925, 1315.7436405313556)\n",
      "('using sigma ', 30.0)\n",
      "('using sigma ', 30.0)\n",
      "full precision rff\n",
      "('using sigma ', 0.03333333333333333, 'using rand seed ', 6)\n",
      "('using n rff features ', 4096)\n",
      "start to do regression!\n",
      "('using regularior strength ', 0.01)\n",
      "finish regression!\n",
      "('check l2 error test error and train error ', 33928471.81367612, 14033179.750952158)\n",
      "('check kernel error test error and train error ', 115897.36285770703, 12893.016474905184)\n",
      "('using sigma ', 30.0)\n",
      "('using sigma ', 30.0)\n",
      "full precision rff\n",
      "('using sigma ', 0.03333333333333333, 'using rand seed ', 7)\n",
      "('using n rff features ', 4096)\n",
      "start to do regression!\n",
      "('using regularior strength ', 0.01)\n",
      "finish regression!\n",
      "('check l2 error test error and train error ', 34102339.98639893, 14120637.333238943)\n",
      "('check kernel error test error and train error ', 16811.690926157895, 1889.5777656607338)\n",
      "('using sigma ', 30.0)\n",
      "('using sigma ', 30.0)\n",
      "full precision rff\n",
      "('using sigma ', 0.03333333333333333, 'using rand seed ', 8)\n",
      "('using n rff features ', 4096)\n",
      "start to do regression!\n",
      "('using regularior strength ', 0.01)\n",
      "finish regression!\n",
      "('check l2 error test error and train error ', 36035166.40980735, 13998102.306293195)\n",
      "('check kernel error test error and train error ', 10679.086674749722, 1210.9215549913035)\n",
      "('using sigma ', 30.0)\n",
      "('using sigma ', 30.0)\n",
      "full precision rff\n",
      "('using sigma ', 0.03333333333333333, 'using rand seed ', 9)\n",
      "('using n rff features ', 4096)\n",
      "start to do regression!\n",
      "('using regularior strength ', 0.01)\n",
      "finish regression!\n",
      "('check l2 error test error and train error ', 33691455.92197279, 14161655.772298392)\n",
      "('check kernel error test error and train error ', 10887.866279913718, 1221.4095229168026)\n",
      "('using sigma ', 30.0)\n",
      "('using sigma ', 30.0)\n",
      "full precision rff\n",
      "('using sigma ', 0.03333333333333333, 'using rand seed ', 10)\n",
      "('using n rff features ', 4096)\n",
      "start to do regression!\n",
      "('using regularior strength ', 0.01)\n",
      "finish regression!\n",
      "('check l2 error test error and train error ', 31638197.299065333, 13963585.476750586)\n",
      "('check kernel error test error and train error ', 7706.414466787254, 875.0276431166964)\n"
     ]
    }
   ],
   "source": [
    "for seed in range(1, 11):\n",
    "    args = Args(n_fp_rff=4096, n_bit=8, \n",
    "                exact_kernel=False, reg_lambda=1e-2, \n",
    "                sigma=30.0, random_seed=seed, \n",
    "                data_path=data_path, do_fp=True)\n",
    "    s_fp, k_fp = get_spectrum(args)\n",
    "    with open(\"../multi_seed_results/spectrum/s_4096_feat_fp_64b_svd_full_dataset_seed\" + str(seed) + \".npy\", \"wb\") as f:\n",
    "        np.save(f, s_fp)\n",
    "    with open(\"../multi_seed_results/spectrum/k_4096_feat_fp_64b_svd_full_dataset_seed\" + str(seed) + \".npy\", \"wb\") as f:\n",
    "        np.save(f, k_fp)"
   ]
  },
  {
   "cell_type": "code",
   "execution_count": 38,
   "metadata": {},
   "outputs": [
    {
     "data": {
      "text/plain": [
       "34167290.454800479"
      ]
     },
     "execution_count": 38,
     "metadata": {},
     "output_type": "execute_result"
    }
   ],
   "source": [
    "np.mean([33447429.2053789, 33450589.557279676, 35442117.43300067, 35964219.77480749, 33972917.14661751, 33928471.81367612, 34102339.98639893, 36035166.40980735, 33691455.92197279, 31638197.299065333])"
   ]
  },
  {
   "cell_type": "code",
   "execution_count": null,
   "metadata": {
    "scrolled": true
   },
   "outputs": [
    {
     "name": "stdout",
     "output_type": "stream",
     "text": [
      "('using sigma ', 30.0)\n",
      "('using sigma ', 30.0)\n",
      "low precsion rff with nbit =  1\n",
      "('using sigma ', 0.03333333333333333, 'using rand seed ', 1)\n",
      "('using n rff features ', 131072)\n",
      "start to do regression!\n",
      "('quantization 1 activated ', (16367, 119))\n",
      "('quantizer 1 bits', 1)\n",
      "('quantizer 1 scale', 0.0078125)\n",
      "('quantizer using random seed', 1)\n",
      "('quantization 2 activated ', (16367, 119))\n",
      "('quantizer 2 bits', 1)\n",
      "('quantizer 2 scale', 0.0078125)\n",
      "('quantizer using random seed', 1)\n",
      "('using regularior strength ', 0.1)\n",
      "finish regression!\n",
      "('quantization 1 activated ', (1819, 119))\n",
      "('quantizer 1 bits', 1)\n",
      "('quantizer 1 scale', 0.0078125)\n",
      "('quantization 2 activated ', (16367, 119))\n",
      "('quantizer 2 bits', 1)\n",
      "('quantizer 2 scale', 0.0078125)\n",
      "('quantizer using random seed', 1)\n",
      "('check l2 error test error and train error ', 84141226.64312068, 728973.0170243734)\n",
      "('check kernel error test error and train error ', 22528.940600154267, 1556.3498428840976)\n",
      "('using sigma ', 30.0)\n",
      "('using sigma ', 30.0)\n",
      "low precsion rff with nbit =  1\n",
      "('using sigma ', 0.03333333333333333, 'using rand seed ', 2)\n",
      "('using n rff features ', 131072)\n",
      "start to do regression!\n",
      "('quantization 1 activated ', (16367, 119))\n",
      "('quantizer 1 bits', 1)\n",
      "('quantizer 1 scale', 0.0078125)\n",
      "('quantizer using random seed', 2)\n",
      "('quantization 2 activated ', (16367, 119))\n",
      "('quantizer 2 bits', 1)\n",
      "('quantizer 2 scale', 0.0078125)\n",
      "('quantizer using random seed', 2)\n",
      "('using regularior strength ', 0.1)\n",
      "finish regression!\n",
      "('quantization 1 activated ', (1819, 119))\n",
      "('quantizer 1 bits', 1)\n",
      "('quantizer 1 scale', 0.0078125)\n",
      "('quantizer using random seed', 2)\n",
      "('quantization 2 activated ', (16367, 119))\n",
      "('quantizer 2 bits', 1)\n",
      "('quantizer 2 scale', 0.0078125)\n",
      "('quantizer using random seed', 2)\n",
      "('check l2 error test error and train error ', 81835066.49970563, 723262.2773795591)\n",
      "('check kernel error test error and train error ', 22566.267773554544, 1563.2768452759362)\n",
      "('using sigma ', 30.0)\n",
      "('using sigma ', 30.0)\n",
      "low precsion rff with nbit =  1\n",
      "('using sigma ', 0.03333333333333333, 'using rand seed ', 3)\n",
      "('using n rff features ', 131072)\n",
      "start to do regression!\n",
      "('quantization 1 activated ', (16367, 119))\n",
      "('quantizer 1 bits', 1)\n",
      "('quantizer 1 scale', 0.0078125)\n",
      "('quantizer using random seed', 3)\n",
      "('quantization 2 activated ', (16367, 119))\n",
      "('quantizer 2 bits', 1)\n",
      "('quantizer 2 scale', 0.0078125)\n",
      "('quantizer using random seed', 3)\n",
      "('using regularior strength ', 0.1)\n",
      "finish regression!\n",
      "('quantization 1 activated ', (1819, 119))\n",
      "('quantizer 1 bits', 1)\n",
      "('quantizer 1 scale', 0.0078125)\n",
      "('quantizer using random seed', 3)\n",
      "('quantization 2 activated ', (16367, 119))\n",
      "('quantizer 2 bits', 1)\n",
      "('quantizer 2 scale', 0.0078125)\n",
      "('quantizer using random seed', 3)\n",
      "('check l2 error test error and train error ', 81253209.57972126, 728447.8229558473)\n",
      "('check kernel error test error and train error ', 22553.31148371395, 1567.7761586871698)\n",
      "('using sigma ', 30.0)\n",
      "('using sigma ', 30.0)\n",
      "low precsion rff with nbit =  1\n",
      "('using sigma ', 0.03333333333333333, 'using rand seed ', 4)\n",
      "('using n rff features ', 131072)\n",
      "start to do regression!\n",
      "('quantization 1 activated ', (16367, 119))\n",
      "('quantizer 1 bits', 1)\n",
      "('quantizer 1 scale', 0.0078125)\n",
      "('quantizer using random seed', 4)\n",
      "('quantization 2 activated ', (16367, 119))\n",
      "('quantizer 2 bits', 1)\n",
      "('quantizer 2 scale', 0.0078125)\n",
      "('quantizer using random seed', 4)\n",
      "('using regularior strength ', 0.1)\n",
      "finish regression!\n",
      "('quantization 1 activated ', (1819, 119))\n",
      "('quantizer 1 bits', 1)\n",
      "('quantizer 1 scale', 0.0078125)\n",
      "('quantizer using random seed', 4)\n",
      "('quantization 2 activated ', (16367, 119))\n",
      "('quantizer 2 bits', 1)\n",
      "('quantizer 2 scale', 0.0078125)\n",
      "('quantizer using random seed', 4)\n",
      "('check l2 error test error and train error ', 82833226.60445268, 739356.3864139181)\n",
      "('check kernel error test error and train error ', 25544.221605519295, 1888.3723913931212)\n",
      "('using sigma ', 30.0)\n",
      "('using sigma ', 30.0)\n",
      "low precsion rff with nbit =  1\n",
      "('using sigma ', 0.03333333333333333, 'using rand seed ', 5)\n",
      "('using n rff features ', 131072)\n",
      "start to do regression!\n",
      "('quantization 1 activated ', (16367, 119))\n",
      "('quantizer 1 bits', 1)\n",
      "('quantizer 1 scale', 0.0078125)\n",
      "('quantizer using random seed', 5)\n",
      "('quantization 2 activated ', (16367, 119))\n",
      "('quantizer 2 bits', 1)\n",
      "('quantizer 2 scale', 0.0078125)\n",
      "('quantizer using random seed', 5)\n",
      "('using regularior strength ', 0.1)\n",
      "finish regression!\n",
      "('quantization 1 activated ', (1819, 119))\n",
      "('quantizer 1 bits', 1)\n",
      "('quantizer 1 scale', 0.0078125)\n",
      "('quantizer using random seed', 5)\n",
      "('quantization 2 activated ', (16367, 119))\n",
      "('quantizer 2 bits', 1)\n",
      "('quantizer 2 scale', 0.0078125)\n",
      "('quantizer using random seed', 5)\n",
      "('check l2 error test error and train error ', 81746745.10933767, 726295.4012739247)\n",
      "('check kernel error test error and train error ', 23098.98640420178, 1620.218114332125)\n",
      "('using sigma ', 30.0)\n",
      "('using sigma ', 30.0)\n",
      "low precsion rff with nbit =  1\n",
      "('using sigma ', 0.03333333333333333, 'using rand seed ', 6)\n",
      "('using n rff features ', 131072)\n",
      "start to do regression!\n",
      "('quantization 1 activated ', (16367, 119))\n",
      "('quantizer 1 bits', 1)\n",
      "('quantizer 1 scale', 0.0078125)\n",
      "('quantizer using random seed', 6)\n",
      "('quantization 2 activated ', (16367, 119))\n",
      "('quantizer 2 bits', 1)\n",
      "('quantizer 2 scale', 0.0078125)\n",
      "('quantizer using random seed', 6)\n",
      "('using regularior strength ', 0.1)\n",
      "finish regression!\n",
      "('quantization 1 activated ', (1819, 119))\n",
      "('quantizer 1 bits', 1)\n",
      "('quantizer 1 scale', 0.0078125)\n",
      "('quantizer using random seed', 6)\n",
      "('quantization 2 activated ', (16367, 119))\n",
      "('quantizer 2 bits', 1)\n",
      "('quantizer 2 scale', 0.0078125)\n",
      "('quantizer using random seed', 6)\n",
      "('check l2 error test error and train error ', 83769335.9704879, 727919.1171284422)\n",
      "('check kernel error test error and train error ', 22275.02975068031, 1536.4605533626116)\n",
      "('using sigma ', 30.0)\n",
      "('using sigma ', 30.0)\n",
      "low precsion rff with nbit =  1\n",
      "('using sigma ', 0.03333333333333333, 'using rand seed ', 7)\n",
      "('using n rff features ', 131072)\n",
      "start to do regression!\n",
      "('quantization 1 activated ', (16367, 119))\n",
      "('quantizer 1 bits', 1)\n",
      "('quantizer 1 scale', 0.0078125)\n",
      "('quantizer using random seed', 7)\n",
      "('quantization 2 activated ', (16367, 119))\n",
      "('quantizer 2 bits', 1)\n",
      "('quantizer 2 scale', 0.0078125)\n",
      "('quantizer using random seed', 7)\n",
      "('using regularior strength ', 0.1)\n",
      "finish regression!\n",
      "('quantization 1 activated ', (1819, 119))\n",
      "('quantizer 1 bits', 1)\n",
      "('quantizer 1 scale', 0.0078125)\n",
      "('quantizer using random seed', 7)\n",
      "('quantization 2 activated ', (16367, 119))\n",
      "('quantizer 2 bits', 1)\n",
      "('quantizer 2 scale', 0.0078125)\n",
      "('quantizer using random seed', 7)\n",
      "('check l2 error test error and train error ', 84811858.8482857, 721027.8704447689)\n",
      "('check kernel error test error and train error ', 22648.139073915754, 1566.8644790014403)\n",
      "('using sigma ', 30.0)\n",
      "('using sigma ', 30.0)\n",
      "low precsion rff with nbit =  1\n",
      "('using sigma ', 0.03333333333333333, 'using rand seed ', 8)\n",
      "('using n rff features ', 131072)\n",
      "start to do regression!\n",
      "('quantization 1 activated ', (16367, 119))\n",
      "('quantizer 1 bits', 1)\n",
      "('quantizer 1 scale', 0.0078125)\n",
      "('quantizer using random seed', 8)\n",
      "('quantization 2 activated ', (16367, 119))\n",
      "('quantizer 2 bits', 1)\n",
      "('quantizer 2 scale', 0.0078125)\n",
      "('quantizer using random seed', 8)\n",
      "('using regularior strength ', 0.1)\n",
      "finish regression!\n",
      "('quantization 1 activated ', (1819, 119))\n",
      "('quantizer 1 bits', 1)\n",
      "('quantizer 1 scale', 0.0078125)\n",
      "('quantizer using random seed', 8)\n",
      "('quantization 2 activated ', (16367, 119))\n",
      "('quantizer 2 bits', 1)\n",
      "('quantizer 2 scale', 0.0078125)\n",
      "('quantizer using random seed', 8)\n",
      "('check l2 error test error and train error ', 80383134.85633498, 727492.8511923929)\n",
      "('check kernel error test error and train error ', 22423.265716595575, 1551.0940129896544)\n",
      "('using sigma ', 30.0)\n",
      "('using sigma ', 30.0)\n",
      "low precsion rff with nbit =  1\n",
      "('using sigma ', 0.03333333333333333, 'using rand seed ', 9)\n",
      "('using n rff features ', 131072)\n",
      "start to do regression!\n",
      "('quantization 1 activated ', (16367, 119))\n",
      "('quantizer 1 bits', 1)\n",
      "('quantizer 1 scale', 0.0078125)\n",
      "('quantizer using random seed', 9)\n",
      "('quantization 2 activated ', (16367, 119))\n",
      "('quantizer 2 bits', 1)\n",
      "('quantizer 2 scale', 0.0078125)\n",
      "('quantizer using random seed', 9)\n"
     ]
    },
    {
     "name": "stdout",
     "output_type": "stream",
     "text": [
      "('using regularior strength ', 0.1)\n",
      "finish regression!\n",
      "('quantization 1 activated ', (1819, 119))\n",
      "('quantizer 1 bits', 1)\n",
      "('quantizer 1 scale', 0.0078125)\n",
      "('quantizer using random seed', 9)\n",
      "('quantization 2 activated ', (16367, 119))\n",
      "('quantizer 2 bits', 1)\n",
      "('quantizer 2 scale', 0.0078125)\n",
      "('quantizer using random seed', 9)\n",
      "('check l2 error test error and train error ', 80456329.35616308, 727561.6455286815)\n",
      "('check kernel error test error and train error ', 23227.78376953194, 1647.7032035368818)\n",
      "('using sigma ', 30.0)\n",
      "('using sigma ', 30.0)\n",
      "low precsion rff with nbit =  1\n",
      "('using sigma ', 0.03333333333333333, 'using rand seed ', 10)\n",
      "('using n rff features ', 131072)\n",
      "start to do regression!\n",
      "('quantization 1 activated ', (16367, 119))\n",
      "('quantizer 1 bits', 1)\n",
      "('quantizer 1 scale', 0.0078125)\n",
      "('quantizer using random seed', 10)\n",
      "('quantization 2 activated ', (16367, 119))\n",
      "('quantizer 2 bits', 1)\n",
      "('quantizer 2 scale', 0.0078125)\n",
      "('quantizer using random seed', 10)\n",
      "('using regularior strength ', 0.1)\n",
      "finish regression!\n",
      "('quantization 1 activated ', (1819, 119))\n",
      "('quantizer 1 bits', 1)\n",
      "('quantizer 1 scale', 0.0078125)\n",
      "('quantizer using random seed', 10)\n",
      "('quantization 2 activated ', (16367, 119))\n",
      "('quantizer 2 bits', 1)\n",
      "('quantizer 2 scale', 0.0078125)\n",
      "('quantizer using random seed', 10)\n",
      "('check l2 error test error and train error ', 82161376.56667696, 739331.149326409)\n",
      "('check kernel error test error and train error ', 23972.216456761686, 1716.878646435166)\n"
     ]
    }
   ],
   "source": [
    "for seed in range(1, 11):\n",
    "    args = Args(n_fp_rff=4096, n_bit=1, \n",
    "                exact_kernel=False, reg_lambda=1e-1, \n",
    "                sigma=30.0, random_seed=seed, \n",
    "                data_path=data_path, do_fp=False)\n",
    "    s_1, k_1 = get_spectrum(args)\n",
    "    with open(\"../multi_seed_results/spectrum/s_4096_feat_1_bit_64b_svd_full_dataset_seed\" + str(seed) + \".npy\", \"wb\") as f:\n",
    "        np.save(f, s_1)\n",
    "    with open(\"../multi_seed_results/spectrum/k_4096_feat_1_bit_64b_svd_full_dataset_seed\" + str(seed) + \".npy\", \"wb\") as f:\n",
    "        np.save(f, k_1)\n",
    "    \n",
    "    "
   ]
  },
  {
   "cell_type": "code",
   "execution_count": 39,
   "metadata": {},
   "outputs": [
    {
     "data": {
      "text/plain": [
       "82339151.003428668"
      ]
     },
     "execution_count": 39,
     "metadata": {},
     "output_type": "execute_result"
    }
   ],
   "source": [
    "np.mean([84141226.64312068, 81835066.49970563, 81253209.57972126, 82833226.60445268, 81746745.10933767, 83769335.9704879, 84811858.8482857, 80383134.85633498, 80456329.35616308, 82161376.56667696])"
   ]
  },
  {
   "cell_type": "code",
   "execution_count": 9,
   "metadata": {
    "collapsed": true
   },
   "outputs": [],
   "source": [
    "# with open(\"../multi_seed_results/spectrum/k_4096_feat_1_bit_64b_svd_full_dataset_seed5.npy\", \"rb\") as f:\n",
    "#     k_1 = np.load(f)\n",
    "# with open(\"../multi_seed_results/spectrum/k_4096_feat_fp_64b_svd_full_dataset_seed5.npy\", \"rb\") as f:\n",
    "#     k_fp_upper = np.load(f)\n",
    "# with open(\"../multi_seed_results/spectrum/k_8192_feat_fp_64b_svd_full_dataset_seed5.npy\", \"rb\") as f:\n",
    "#     k_fp_lower = np.load(f)\n",
    "# with open(\"../multi_seed_results/spectrum/k_exact_64b_svd_full_dataset.npy\", \"rb\") as f:\n",
    "#     k_exact = np.load(f)"
   ]
  },
  {
   "cell_type": "code",
   "execution_count": 35,
   "metadata": {},
   "outputs": [
    {
     "name": "stdout",
     "output_type": "stream",
     "text": [
      "23083.8162635 32694.2235999 16212.1217801\n",
      "0.0103845975395 0.0123586598635 0.00870273569658\n"
     ]
    }
   ],
   "source": [
    "k_1 = []\n",
    "k_fp_upper = []\n",
    "k_fp_lower = []\n",
    "k_exact = []\n",
    "with open(\"../multi_seed_results/spectrum/k_exact_64b_svd_full_dataset.npy\", \"rb\") as f:\n",
    "    k_exact = np.load(f)\n",
    "for seed in range(1, 11):\n",
    "    with open(\"../multi_seed_results/spectrum/k_4096_feat_1_bit_64b_svd_full_dataset_seed\" + str(seed) + \".npy\", \"rb\") as f:\n",
    "        k_1.append(np.load(f) - k_exact)\n",
    "    with open(\"../multi_seed_results/spectrum/k_4096_feat_fp_64b_svd_full_dataset_seed\" + str(seed) + \".npy\", \"rb\") as f:\n",
    "        k_fp_upper.append(np.load(f) - k_exact)\n",
    "    with open(\"../multi_seed_results/spectrum/k_8192_feat_fp_64b_svd_full_dataset_seed\" + str(seed) + \".npy\", \"rb\") as f:\n",
    "        k_fp_lower.append(np.load(f) - k_exact)\n",
    "k_1 = np.hstack(k_1)\n",
    "k_fp_upper = np.hstack(k_fp_upper)\n",
    "k_fp_lower = np.hstack(k_fp_lower)\n",
    "print np.sum(k_1**2)/10.0, np.sum(k_fp_upper**2)/10.0, np.sum(k_fp_lower**2)/10.0\n",
    "print np.sqrt(np.sum(k_1**2)/10.0/np.sum(k_exact**2) ) , \\\n",
    "    np.sqrt(np.sum(k_fp_upper**2)/10.0/np.sum(k_exact**2) ), \\\n",
    "    np.sqrt(np.sum(k_fp_lower**2)/10.0/np.sum(k_exact**2) )"
   ]
  },
  {
   "cell_type": "code",
   "execution_count": 36,
   "metadata": {},
   "outputs": [
    {
     "data": {
      "image/png": "[encoded data removed]",
      "text/plain": [
       "<matplotlib.figure.Figure at 0x7f8bf3dc1b50>"
      ]
     },
     "metadata": {},
     "output_type": "display_data"
    }
   ],
   "source": [
    "plt.figure()\n",
    "\n",
    "# print \"shrink done\"\n",
    "# # bins = np.arange(-10, 10, 1000)\n",
    "# hist1, bin_edge1 = np.histogram(k_1 - k_exact, bins=1000, density=True)\n",
    "# print \"hist done\"\n",
    "# hist2, bin_edge2 = np.histogram(k_fp_upper - k_exact, bins=1000, density=True)\n",
    "# hist3, bin_edge3 = np.histogram(k_fp_lower - k_exact, bins=1000, density=True)\n",
    "# print \"hist all done\"\n",
    "# plt.bar(bin_edge1[:-1], hist1, label=\"1 bit\")\n",
    "# print \"plot done\"\n",
    "\n",
    "# plt.bar(bin_edge2[:-1], hist2, label=\"fp upper bounded\")\n",
    "# plt.bar(bin_edge3[:-1], hist3, label=\"fp lower bounded\")\n",
    "\n",
    "# _ = np.histogram((k_1 - k_exact).ravel()[::3000], density=True)\n",
    "weights = np.ones_like(k_1.ravel() ) / float(k_1.size)\n",
    "_ = plt.hist(k_1.ravel(), bins=5000, normed=True, label=\"1 bit\")\n",
    "_ = plt.hist(k_fp_lower.ravel(), bins=1000, normed=True, label=\"fp lower bounded\")\n",
    "_ = plt.hist(k_fp_upper.ravel(), bins=1000, normed=True, label=\"fp upper bounded\")\n",
    "# plt.semilogy(s_4_small, label=\"4 bit partial\")\n",
    "# plt.semilogy(s_2_small, label=\"2 bit partial\")\n",
    "# plt.plot(s_exact, label=\"exact\")\n",
    "plt.grid()\n",
    "plt.xlim([-0.05, 0.05])\n",
    "plt.legend(framealpha=0.8, fontsize=12)\n",
    "plt.ylabel(\"Frequency\", fontsize=12)\n",
    "plt.xlabel(\"per-entry kernel approximation error\", fontsize=12)\n",
    "plt.savefig(\"./error_histogram.pdf\")\n",
    "plt.show()"
   ]
  },
  {
   "cell_type": "code",
   "execution_count": null,
   "metadata": {
    "collapsed": true
   },
   "outputs": [],
   "source": []
  },
  {
   "cell_type": "code",
   "execution_count": 15,
   "metadata": {
    "collapsed": true
   },
   "outputs": [],
   "source": [
    "k_1 = None\n",
    "k_fp_upper = None\n",
    "k_fp_lower = None\n",
    "k_exact = None\n",
    "for seed in range(1, 11):\n",
    "    with open(\"../multi_seed_results/spectrum/k_4096_feat_1_bit_64b_svd_full_dataset_seed\" + str(seed) + \".npy\", \"rb\") as f:\n",
    "        if k_1 is None:\n",
    "            k_1 = np.load(f)\n",
    "        else:\n",
    "            k_1 += np.load(f)\n",
    "    with open(\"../multi_seed_results/spectrum/k_4096_feat_fp_64b_svd_full_dataset_seed\" + str(seed) + \".npy\", \"rb\") as f:\n",
    "        if k_fp_upper is None:\n",
    "            k_fp_upper = np.load(f)\n",
    "        else:\n",
    "            k_fp_upper += np.load(f)\n",
    "    with open(\"../multi_seed_results/spectrum/k_8192_feat_fp_64b_svd_full_dataset_seed\" + str(seed) + \".npy\", \"rb\") as f:\n",
    "        if k_fp_lower is None:\n",
    "            k_fp_lower = np.load(f)\n",
    "        else:\n",
    "            k_fp_lower += np.load(f)\n",
    "k_1 /= 10.0\n",
    "k_fp_upper /= 10.0\n",
    "k_fp_lower /= 10.0\n",
    "with open(\"../multi_seed_results/spectrum/k_exact_64b_svd_full_dataset.npy\", \"rb\") as f:\n",
    "    k_exact = np.load(f)"
   ]
  },
  {
   "cell_type": "code",
   "execution_count": 16,
   "metadata": {
    "collapsed": true
   },
   "outputs": [],
   "source": [
    "with open(\"../multi_seed_results/spectrum/s_4096_feat_1_bit_64b_svd_full_dataset.npy\", \"rb\") as f:\n",
    "    s_1 = np.load(f)\n",
    "with open(\"../multi_seed_results/spectrum/s_4096_feat_fp_64b_svd_full_dataset.npy\", \"rb\") as f:\n",
    "    s_fp_upper = np.load(f)\n",
    "with open(\"../multi_seed_results/spectrum/s_8192_feat_fp_64b_svd_full_dataset.npy\", \"rb\") as f:\n",
    "    s_fp_lower = np.load(f)\n",
    "with open(\"../multi_seed_results/spectrum/s_exact_64b_svd_full_dataset.npy\", \"rb\") as f:\n",
    "    s_exact = np.load(f)"
   ]
  },
  {
   "cell_type": "code",
   "execution_count": 17,
   "metadata": {},
   "outputs": [
    {
     "name": "stdout",
     "output_type": "stream",
     "text": [
      "(16367, 16367)\n",
      "(16367, 16367)\n",
      "(16367, 16367)\n",
      "(16367, 16367)\n"
     ]
    }
   ],
   "source": [
    "print k_1.shape\n",
    "print k_exact.shape\n",
    "print k_fp_upper.shape\n",
    "print k_fp_lower.shape"
   ]
  },
  {
   "cell_type": "code",
   "execution_count": 18,
   "metadata": {
    "collapsed": true,
    "scrolled": true
   },
   "outputs": [],
   "source": [
    "# print np.max(k_1 - k_exact), np.min(k_1 - k_exact), np.mean(k_1 - k_exact)\n",
    "# print np.max(k_fp_upper - k_exact), np.min(k_fp_upper - k_exact), np.mean(k_fp_upper - k_exact)\n",
    "# print np.max(k_fp_lower - k_exact), np.min(k_fp_lower - k_exact), np.mean(k_fp_lower - k_exact)\n",
    "# print hist1, bin_edge1"
   ]
  },
  {
   "cell_type": "code",
   "execution_count": 20,
   "metadata": {},
   "outputs": [
    {
     "data": {
      "image/png": "[encoded data removed]",
      "text/plain": [
       "<matplotlib.figure.Figure at 0x7f8bf9ab5250>"
      ]
     },
     "metadata": {},
     "output_type": "display_data"
    }
   ],
   "source": [
    "plt.figure()\n",
    "# value = k_1 - k_exact\n",
    "# k_1_small = k_1.ravel()[::10000]\n",
    "# k_exact_small = k_exact.ravel()[::10000]\n",
    "# k_fp_upper_small = k_fp_upper.ravel()[::10000]\n",
    "# k_fp_lower_small = k_fp_lower.ravel()[::10000]\n",
    "# k_1_small = k_1\n",
    "# k_exact_small = k_exact[:1000000000]\n",
    "# k_fp_upper_small = k_fp_upper[:1000000000]\n",
    "# k_fp_lower_small = k_fp_lower[:1000000000]\n",
    "\n",
    "# print \"shrink done\"\n",
    "# # bins = np.arange(-10, 10, 1000)\n",
    "# hist1, bin_edge1 = np.histogram(k_1 - k_exact, bins=1000, density=True)\n",
    "# print \"hist done\"\n",
    "# hist2, bin_edge2 = np.histogram(k_fp_upper - k_exact, bins=1000, density=True)\n",
    "# hist3, bin_edge3 = np.histogram(k_fp_lower - k_exact, bins=1000, density=True)\n",
    "# print \"hist all done\"\n",
    "# plt.bar(bin_edge1[:-1], hist1, label=\"1 bit\")\n",
    "# print \"plot done\"\n",
    "\n",
    "# plt.bar(bin_edge2[:-1], hist2, label=\"fp upper bounded\")\n",
    "# plt.bar(bin_edge3[:-1], hist3, label=\"fp lower bounded\")\n",
    "\n",
    "# _ = np.histogram((k_1 - k_exact).ravel()[::3000], density=True)\n",
    "_ = plt.hist( (k_1 - k_exact).ravel(), bins=5000, density=True, label=\"1 bit\")\n",
    "_ = plt.hist( (k_fp_upper - k_exact).ravel(), bins=1000, density=True, label=\"fp upper bounded\")\n",
    "_ = plt.hist( (k_fp_lower - k_exact).ravel(), bins=1000, density=True, label=\"fp lower bounded\")\n",
    "# plt.semilogy(s_4_small, label=\"4 bit partial\")\n",
    "# plt.semilogy(s_2_small, label=\"2 bit partial\")\n",
    "# plt.plot(s_exact, label=\"exact\")\n",
    "plt.grid()\n",
    "plt.xlim([-0.05, 0.05])\n",
    "plt.legend(framealpha=0.8, fontsize=12)\n",
    "plt.ylabel(\"Frequency\", fontsize=12)\n",
    "plt.xlabel(\"per-entry kernel approximation error\", fontsize=12)\n",
    "plt.savefig(\"./error_histogram.pdf\")\n",
    "plt.show()"
   ]
  },
  {
   "cell_type": "code",
   "execution_count": 22,
   "metadata": {
    "collapsed": true
   },
   "outputs": [],
   "source": [
    "k_1 = None\n",
    "k_fp_upper = None\n",
    "k_fp_lower = None\n",
    "k_exact = None\n",
    "for seed in range(5, 6):\n",
    "    with open(\"../multi_seed_results/spectrum/k_4096_feat_1_bit_64b_svd_full_dataset_seed\" + str(seed) + \".npy\", \"rb\") as f:\n",
    "        if k_1 is None:\n",
    "            k_1 = np.load(f)\n",
    "        else:\n",
    "            k_1 += np.load(f)\n",
    "    with open(\"../multi_seed_results/spectrum/k_4096_feat_fp_64b_svd_full_dataset_seed\" + str(seed) + \".npy\", \"rb\") as f:\n",
    "        if k_fp_upper is None:\n",
    "            k_fp_upper = np.load(f)\n",
    "        else:\n",
    "            k_fp_upper += np.load(f)\n",
    "    with open(\"../multi_seed_results/spectrum/k_8192_feat_fp_64b_svd_full_dataset_seed\" + str(seed) + \".npy\", \"rb\") as f:\n",
    "        if k_fp_lower is None:\n",
    "            k_fp_lower = np.load(f)\n",
    "        else:\n",
    "            k_fp_lower += np.load(f)\n",
    "k_1 /= 1.0\n",
    "k_fp_upper /= 1.0\n",
    "k_fp_lower /= 1.0\n",
    "with open(\"../multi_seed_results/spectrum/k_exact_64b_svd_full_dataset.npy\", \"rb\") as f:\n",
    "    k_exact = np.load(f)"
   ]
  },
  {
   "cell_type": "code",
   "execution_count": 24,
   "metadata": {},
   "outputs": [
    {
     "data": {
      "image/png": "[encoded data removed]",
      "text/plain": [
       "<matplotlib.figure.Figure at 0x7f8bf9463d90>"
      ]
     },
     "metadata": {},
     "output_type": "display_data"
    }
   ],
   "source": [
    "plt.figure()\n",
    "# value = k_1 - k_exact\n",
    "# k_1_small = k_1.ravel()[::10000]\n",
    "# k_exact_small = k_exact.ravel()[::10000]\n",
    "# k_fp_upper_small = k_fp_upper.ravel()[::10000]\n",
    "# k_fp_lower_small = k_fp_lower.ravel()[::10000]\n",
    "# k_1_small = k_1\n",
    "# k_exact_small = k_exact[:1000000000]\n",
    "# k_fp_upper_small = k_fp_upper[:1000000000]\n",
    "# k_fp_lower_small = k_fp_lower[:1000000000]\n",
    "\n",
    "# print \"shrink done\"\n",
    "# # bins = np.arange(-10, 10, 1000)\n",
    "# hist1, bin_edge1 = np.histogram(k_1 - k_exact, bins=1000, density=True)\n",
    "# print \"hist done\"\n",
    "# hist2, bin_edge2 = np.histogram(k_fp_upper - k_exact, bins=1000, density=True)\n",
    "# hist3, bin_edge3 = np.histogram(k_fp_lower - k_exact, bins=1000, density=True)\n",
    "# print \"hist all done\"\n",
    "# plt.bar(bin_edge1[:-1], hist1, label=\"1 bit\")\n",
    "# print \"plot done\"\n",
    "\n",
    "# plt.bar(bin_edge2[:-1], hist2, label=\"fp upper bounded\")\n",
    "# plt.bar(bin_edge3[:-1], hist3, label=\"fp lower bounded\")\n",
    "\n",
    "# _ = np.histogram((k_1 - k_exact).ravel()[::3000], density=True)\n",
    "# _ = plt.hist( (k_1 - k_exact).ravel(), bins=5000, density=True, label=\"1 bit\")\n",
    "_ = plt.hist( (k_fp_upper - k_exact).ravel(), bins=1000, density=True, label=\"fp upper bounded\")\n",
    "_ = plt.hist( (k_fp_lower - k_exact).ravel(), bins=1000, density=True, label=\"fp lower bounded\")\n",
    "_ = plt.hist( (k_1 - k_exact).ravel(), bins=5000, density=True, label=\"1 bit\")\n",
    "# plt.semilogy(s_4_small, label=\"4 bit partial\")\n",
    "# plt.semilogy(s_2_small, label=\"2 bit partial\")\n",
    "# plt.plot(s_exact, label=\"exact\")\n",
    "plt.grid()\n",
    "plt.xlim([-0.05, 0.05])\n",
    "plt.legend(framealpha=0.8, fontsize=12)\n",
    "plt.ylabel(\"Frequency\", fontsize=12)\n",
    "plt.xlabel(\"per-entry kernel approximation error\", fontsize=12)\n",
    "plt.savefig(\"./error_histogram_seed5.pdf\")\n",
    "plt.show()"
   ]
  },
  {
   "cell_type": "code",
   "execution_count": null,
   "metadata": {
    "collapsed": true
   },
   "outputs": [],
   "source": []
  },
  {
   "cell_type": "code",
   "execution_count": null,
   "metadata": {
    "collapsed": true
   },
   "outputs": [],
   "source": []
  },
  {
   "cell_type": "code",
   "execution_count": null,
   "metadata": {
    "collapsed": true
   },
   "outputs": [],
   "source": []
  },
  {
   "cell_type": "code",
   "execution_count": 8,
   "metadata": {},
   "outputs": [
    {
     "name": "stdout",
     "output_type": "stream",
     "text": [
      "('using sigma ', 30.0)\n",
      "('using sigma ', 30.0)\n",
      "low precsion rff with nbit =  16\n",
      "('using sigma ', 0.03333333333333333, 'using rand seed ', 1)\n",
      "('using n rff features ', 8192)\n",
      "start to do regression!\n",
      "('quantization 1 activated ', (16367, 119))\n",
      "('quantizer 1 bits', 16)\n",
      "('quantizer 1 scale', 4.7684443427176318e-07)\n",
      "('quantizer using random seed', 1)\n",
      "('quantization 2 activated ', (16367, 119))\n",
      "('quantizer 2 bits', 16)\n",
      "('quantizer 2 scale', 4.7684443427176318e-07)\n",
      "('quantizer using random seed', 1)\n",
      "('using regularior strength ', 0.001)\n",
      "finish regression!\n"
     ]
    }
   ],
   "source": [
    "args = Args(n_fp_rff=4096, n_bit=16, \n",
    "            exact_kernel=False, reg_lambda=1e-3, \n",
    "            sigma=30.0, random_seed=1, \n",
    "            data_path=data_path, do_fp=False)\n",
    "s_16 = get_spectrum(args)\n",
    "with open(\"../multi_seed_results/spectrum/s_4096_feat_16_bit_64b_svd.npy\", \"wb\") as f:\n",
    "    np.save(f, s_16)"
   ]
  },
  {
   "cell_type": "code",
   "execution_count": 9,
   "metadata": {},
   "outputs": [
    {
     "name": "stdout",
     "output_type": "stream",
     "text": [
      "('using sigma ', 30.0)\n",
      "('using sigma ', 30.0)\n",
      "low precsion rff with nbit =  8\n",
      "('using sigma ', 0.03333333333333333, 'using rand seed ', 1)\n",
      "('using n rff features ', 8192)\n",
      "start to do regression!\n",
      "('quantization 1 activated ', (16367, 119))\n",
      "('quantizer 1 bits', 8)\n",
      "('quantizer 1 scale', 0.00012254901960784314)\n",
      "('quantizer using random seed', 1)\n",
      "('quantization 2 activated ', (16367, 119))\n",
      "('quantizer 2 bits', 8)\n",
      "('quantizer 2 scale', 0.00012254901960784314)\n",
      "('quantizer using random seed', 1)\n",
      "('using regularior strength ', 0.001)\n",
      "finish regression!\n"
     ]
    }
   ],
   "source": [
    "args = Args(n_fp_rff=2048, n_bit=8, \n",
    "            exact_kernel=False, reg_lambda=1e-3, \n",
    "            sigma=30.0, random_seed=1, \n",
    "            data_path=data_path, do_fp=False)\n",
    "s_8 = get_spectrum(args)\n",
    "with open(\"../multi_seed_results/spectrum/s_2048_feat_8_bit_64b_svd.npy\", \"wb\") as f:\n",
    "    np.save(f, s_8)"
   ]
  },
  {
   "cell_type": "code",
   "execution_count": 10,
   "metadata": {},
   "outputs": [
    {
     "name": "stdout",
     "output_type": "stream",
     "text": [
      "('using sigma ', 30.0)\n",
      "('using sigma ', 30.0)\n",
      "low precsion rff with nbit =  4\n",
      "('using sigma ', 0.03333333333333333, 'using rand seed ', 1)\n",
      "('using n rff features ', 8192)\n",
      "start to do regression!\n",
      "('quantization 1 activated ', (16367, 119))\n",
      "('quantizer 1 bits', 4)\n",
      "('quantizer 1 scale', 0.0020833333333333333)\n",
      "('quantizer using random seed', 1)\n",
      "('quantization 2 activated ', (16367, 119))\n",
      "('quantizer 2 bits', 4)\n",
      "('quantizer 2 scale', 0.0020833333333333333)\n",
      "('quantizer using random seed', 1)\n",
      "('using regularior strength ', 0.001)\n",
      "finish regression!\n"
     ]
    }
   ],
   "source": [
    "args = Args(n_fp_rff=1024, n_bit=4, \n",
    "            exact_kernel=False, reg_lambda=1e-3, \n",
    "            sigma=30.0, random_seed=1, \n",
    "            data_path=data_path, do_fp=False)\n",
    "s_4 = get_spectrum(args)\n",
    "with open(\"../multi_seed_results/spectrum/s_1024_feat_4_bit_64b_svd.npy\", \"wb\") as f:\n",
    "    np.save(f, s_4)"
   ]
  },
  {
   "cell_type": "code",
   "execution_count": 11,
   "metadata": {},
   "outputs": [
    {
     "name": "stdout",
     "output_type": "stream",
     "text": [
      "('using sigma ', 30.0)\n",
      "('using sigma ', 30.0)\n",
      "low precsion rff with nbit =  2\n",
      "('using sigma ', 0.03333333333333333, 'using rand seed ', 1)\n",
      "('using n rff features ', 8192)\n",
      "start to do regression!\n",
      "('quantization 1 activated ', (16367, 119))\n",
      "('quantizer 1 bits', 2)\n",
      "('quantizer 1 scale', 0.010416666666666666)\n",
      "('quantizer using random seed', 1)\n",
      "('quantization 2 activated ', (16367, 119))\n",
      "('quantizer 2 bits', 2)\n",
      "('quantizer 2 scale', 0.010416666666666666)\n",
      "('quantizer using random seed', 1)\n",
      "('using regularior strength ', 0.001)\n",
      "finish regression!\n"
     ]
    }
   ],
   "source": [
    "args = Args(n_fp_rff=512, n_bit=2, \n",
    "            exact_kernel=False, reg_lambda=1e-3, \n",
    "            sigma=30.0, random_seed=1, \n",
    "            data_path=data_path, do_fp=False)\n",
    "s_2 = get_spectrum(args)\n",
    "with open(\"../multi_seed_results/spectrum/s_512_feat_2_bit_64b_svd.npy\", \"wb\") as f:\n",
    "    np.save(f, s_2)"
   ]
  },
  {
   "cell_type": "code",
   "execution_count": 12,
   "metadata": {},
   "outputs": [
    {
     "name": "stdout",
     "output_type": "stream",
     "text": [
      "('using sigma ', 30.0)\n",
      "('using sigma ', 30.0)\n",
      "low precsion rff with nbit =  1\n",
      "('using sigma ', 0.03333333333333333, 'using rand seed ', 1)\n",
      "('using n rff features ', 8192)\n",
      "start to do regression!\n",
      "('quantization 1 activated ', (16367, 119))\n",
      "('quantizer 1 bits', 1)\n",
      "('quantizer 1 scale', 0.03125)\n",
      "('quantizer using random seed', 1)\n",
      "('quantization 2 activated ', (16367, 119))\n",
      "('quantizer 2 bits', 1)\n",
      "('quantizer 2 scale', 0.03125)\n",
      "('quantizer using random seed', 1)\n",
      "('using regularior strength ', 0.001)\n",
      "finish regression!\n"
     ]
    }
   ],
   "source": [
    "args = Args(n_fp_rff=256, n_bit=1, \n",
    "            exact_kernel=False, reg_lambda=1e-3, \n",
    "            sigma=30.0, random_seed=1, \n",
    "            data_path=data_path, do_fp=False)\n",
    "s_1 = get_spectrum(args)\n",
    "with open(\"../multi_seed_results/spectrum/s_256_feat_1_bit_64b_svd.npy\", \"wb\") as f:\n",
    "    np.save(f, s_1)"
   ]
  },
  {
   "cell_type": "code",
   "execution_count": null,
   "metadata": {
    "collapsed": true
   },
   "outputs": [],
   "source": []
  },
  {
   "cell_type": "markdown",
   "metadata": {},
   "source": [
    "### exact kernel"
   ]
  },
  {
   "cell_type": "code",
   "execution_count": 11,
   "metadata": {},
   "outputs": [
    {
     "name": "stdout",
     "output_type": "stream",
     "text": [
      "('using sigma ', 30.0)\n",
      "('using sigma ', 30.0)\n",
      "exact kernel\n",
      "start to do regression!\n",
      "('using sigma ', 30.0)\n",
      "('using regularior strength ', 0.001)\n",
      "finish regression!\n"
     ]
    }
   ],
   "source": [
    "args = Args(n_fp_rff=1024, n_bit=8, \n",
    "            exact_kernel=True, reg_lambda=1e-3, \n",
    "            sigma=30.0, random_seed=1, \n",
    "            data_path=data_path, do_fp=False)\n",
    "s_exact = get_spectrum(args)\n",
    "with open(\"../multi_seed_results/spectrum/s_exact_64b_svd_full_dataset.npy\", \"wb\") as f:\n",
    "    np.save(f, s_exact)\n",
    "# print s_exact"
   ]
  },
  {
   "cell_type": "markdown",
   "metadata": {},
   "source": [
    "### 1024 feature full precision"
   ]
  },
  {
   "cell_type": "code",
   "execution_count": 12,
   "metadata": {},
   "outputs": [
    {
     "name": "stdout",
     "output_type": "stream",
     "text": [
      "('using sigma ', 30.0)\n",
      "('using sigma ', 30.0)\n",
      "full precision rff\n",
      "('using sigma ', 0.03333333333333333, 'using rand seed ', 1)\n",
      "('using n rff features ', 1024)\n",
      "start to do regression!\n",
      "('using regularior strength ', 0.001)\n",
      "finish regression!\n",
      "0.0\n"
     ]
    }
   ],
   "source": [
    "args = Args(n_fp_rff=1024, n_bit=8, \n",
    "            exact_kernel=False, reg_lambda=1e-3, \n",
    "            sigma=30.0, random_seed=1, \n",
    "            data_path=data_path, do_fp=True)\n",
    "s_fp = get_spectrum(args)\n",
    "with open(\"../multi_seed_results/spectrum/s_1024_feat_fp_64b_svd.npy\", \"wb\") as f:\n",
    "    np.save(f, s_fp)\n",
    "with open(\"../multi_seed_results/spectrum/s_1024_feat_fp_64b_svd.npy\", \"rb\") as f:\n",
    "    test = np.load(f)\n",
    "print np.sum(s_fp - test)"
   ]
  },
  {
   "cell_type": "markdown",
   "metadata": {},
   "source": [
    "### 1024 feature 8 --> 1 bit"
   ]
  },
  {
   "cell_type": "code",
   "execution_count": 8,
   "metadata": {},
   "outputs": [
    {
     "name": "stdout",
     "output_type": "stream",
     "text": [
      "('using sigma ', 30.0)\n",
      "('using sigma ', 30.0)\n",
      "low precsion rff with nbit =  8\n",
      "('using sigma ', 0.03333333333333333, 'using rand seed ', 1)\n",
      "('using n rff features ', 4096)\n",
      "start to do regression!\n",
      "('quantization 1 activated ', (5456, 119))\n",
      "('quantizer 1 bits', 8)\n",
      "('quantizer 1 scale', 0.00017331048558493812)\n",
      "('quantizer using random seed', 1)\n",
      "('quantization 2 activated ', (5456, 119))\n",
      "('quantizer 2 bits', 8)\n",
      "('quantizer 2 scale', 0.00017331048558493812)\n",
      "('quantizer using random seed', 1)\n",
      "('using regularior strength ', 0.001)\n",
      "finish regression!\n"
     ]
    }
   ],
   "source": [
    "args = Args(n_fp_rff=1024, n_bit=8, \n",
    "            exact_kernel=False, reg_lambda=1e-3, \n",
    "            sigma=30.0, random_seed=1, \n",
    "            data_path=data_path, do_fp=False)\n",
    "s_8 = get_spectrum(args)\n",
    "with open(\"../multi_seed_results/spectrum/s_1024_feat_8_bit_64b_svd.npy\", \"wb\") as f:\n",
    "    np.save(f, s_8)\n",
    "# print s_fp"
   ]
  },
  {
   "cell_type": "code",
   "execution_count": 7,
   "metadata": {},
   "outputs": [
    {
     "name": "stdout",
     "output_type": "stream",
     "text": [
      "('using sigma ', 30.0)\n",
      "('using sigma ', 30.0)\n",
      "low precsion rff with nbit =  4\n",
      "('using sigma ', 0.03333333333333333, 'using rand seed ', 1)\n",
      "('using n rff features ', 8192)\n",
      "start to do regression!\n",
      "('quantization 1 activated ', (16367, 119))\n",
      "('quantizer 1 bits', 4)\n",
      "('quantizer 1 scale', 0.0020833333333333333)\n",
      "('quantizer using random seed', 1)\n",
      "('quantization 2 activated ', (16367, 119))\n",
      "('quantizer 2 bits', 4)\n",
      "('quantizer 2 scale', 0.0020833333333333333)\n",
      "('quantizer using random seed', 1)\n",
      "('using regularior strength ', 0.001)\n",
      "finish regression!\n"
     ]
    }
   ],
   "source": [
    "args = Args(n_fp_rff=1024, n_bit=4, \n",
    "            exact_kernel=False, reg_lambda=1e-3, \n",
    "            sigma=30.0, random_seed=1, \n",
    "            data_path=data_path, do_fp=False)\n",
    "s_4 = get_spectrum(args)\n",
    "with open(\"../multi_seed_results/spectrum/s_1024_feat_4_bit_64b_svd_full_dataset.npy\", \"wb\") as f:\n",
    "    np.save(f, s_4)\n",
    "# print s_fp"
   ]
  },
  {
   "cell_type": "code",
   "execution_count": 6,
   "metadata": {},
   "outputs": [
    {
     "name": "stdout",
     "output_type": "stream",
     "text": [
      "('using sigma ', 30.0)\n",
      "('using sigma ', 30.0)\n",
      "low precsion rff with nbit =  2\n",
      "('using sigma ', 0.03333333333333333, 'using rand seed ', 1)\n",
      "('using n rff features ', 16384)\n",
      "start to do regression!\n",
      "('quantization 1 activated ', (16367, 119))\n",
      "('quantizer 1 bits', 2)\n",
      "('quantizer 1 scale', 0.0073656956373598708)\n",
      "('quantizer using random seed', 1)\n",
      "('quantization 2 activated ', (16367, 119))\n",
      "('quantizer 2 bits', 2)\n",
      "('quantizer 2 scale', 0.0073656956373598708)\n",
      "('quantizer using random seed', 1)\n",
      "('using regularior strength ', 0.001)\n",
      "finish regression!\n"
     ]
    }
   ],
   "source": [
    "args = Args(n_fp_rff=1024, n_bit=2, \n",
    "            exact_kernel=False, reg_lambda=1e-3, \n",
    "            sigma=30.0, random_seed=1, \n",
    "            data_path=data_path, do_fp=False)\n",
    "s_2 = get_spectrum(args)\n",
    "with open(\"../multi_seed_results/spectrum/s_1024_feat_2_bit_64b_svd_full_dataset.npy\", \"wb\") as f:\n",
    "    np.save(f, s_2)\n",
    "# print s_fp"
   ]
  },
  {
   "cell_type": "code",
   "execution_count": 25,
   "metadata": {},
   "outputs": [
    {
     "name": "stdout",
     "output_type": "stream",
     "text": [
      "('using sigma ', 30.0)\n",
      "('using sigma ', 30.0)\n",
      "low precsion rff with nbit =  1\n",
      "('using sigma ', 0.03333333333333333, 'using rand seed ', 1)\n",
      "('using n rff features ', 32768)\n",
      "start to do regression!\n",
      "('quantization 1 activated ', (10911, 119))\n",
      "('quantizer 1 bits', 1)\n",
      "('quantizer 1 scale', 0.015625)\n",
      "('quantizer using random seed', 1)\n"
     ]
    },
    {
     "ename": "KeyboardInterrupt",
     "evalue": "",
     "output_type": "error",
     "traceback": [
      "\u001b[0;31m---------------------------------------------------------------------------\u001b[0m",
      "\u001b[0;31mKeyboardInterrupt\u001b[0m                         Traceback (most recent call last)",
      "\u001b[0;32m/Users/Jian/anaconda/envs/pytorch_2.0/lib/python2.7/site-packages/IPython/core/interactiveshell.pyc\u001b[0m in \u001b[0;36mrun_code\u001b[0;34m(self, code_obj, result)\u001b[0m\n\u001b[1;32m   2880\u001b[0m                 \u001b[0mself\u001b[0m\u001b[0;34m.\u001b[0m\u001b[0mhooks\u001b[0m\u001b[0;34m.\u001b[0m\u001b[0mpre_run_code_hook\u001b[0m\u001b[0;34m(\u001b[0m\u001b[0;34m)\u001b[0m\u001b[0;34m\u001b[0m\u001b[0m\n\u001b[1;32m   2881\u001b[0m                 \u001b[0;31m#rprint('Running code', repr(code_obj)) # dbg\u001b[0m\u001b[0;34m\u001b[0m\u001b[0;34m\u001b[0m\u001b[0m\n\u001b[0;32m-> 2882\u001b[0;31m                 \u001b[0;32mexec\u001b[0m\u001b[0;34m(\u001b[0m\u001b[0mcode_obj\u001b[0m\u001b[0;34m,\u001b[0m \u001b[0mself\u001b[0m\u001b[0;34m.\u001b[0m\u001b[0muser_global_ns\u001b[0m\u001b[0;34m,\u001b[0m \u001b[0mself\u001b[0m\u001b[0;34m.\u001b[0m\u001b[0muser_ns\u001b[0m\u001b[0;34m)\u001b[0m\u001b[0;34m\u001b[0m\u001b[0m\n\u001b[0m\u001b[1;32m   2883\u001b[0m             \u001b[0;32mfinally\u001b[0m\u001b[0;34m:\u001b[0m\u001b[0;34m\u001b[0m\u001b[0m\n\u001b[1;32m   2884\u001b[0m                 \u001b[0;31m# Reset our crash handler in place\u001b[0m\u001b[0;34m\u001b[0m\u001b[0;34m\u001b[0m\u001b[0m\n",
      "\u001b[0;31mKeyboardInterrupt\u001b[0m: "
     ]
    }
   ],
   "source": [
    "args = Args(n_fp_rff=1024, n_bit=1, \n",
    "            exact_kernel=False, reg_lambda=1e-3, \n",
    "            sigma=30.0, random_seed=1, \n",
    "            data_path=data_path, do_fp=False)\n",
    "s_1 = get_spectrum(args)\n",
    "with open(\"../multi_seed_results/spectrum/s_1024_feat_1_bit_64b_svd_full_dataset.npy\", \"wb\") as f:\n",
    "    np.save(f, s_1)\n",
    "# print s_fp"
   ]
  },
  {
   "cell_type": "code",
   "execution_count": 7,
   "metadata": {},
   "outputs": [
    {
     "name": "stdout",
     "output_type": "stream",
     "text": [
      "('using sigma ', 30.0)\n",
      "('using sigma ', 30.0)\n",
      "low precsion rff with nbit =  16\n",
      "('using sigma ', 0.03333333333333333, 'using rand seed ', 1)\n",
      "('using n rff features ', 2048)\n",
      "start to do regression!\n",
      "('quantization 1 activated ', (5456, 119))\n",
      "('quantizer 1 bits', 16)\n",
      "('quantizer 1 scale', 9.5368886854352636e-07)\n",
      "('quantizer using random seed', 1)\n",
      "('quantization 2 activated ', (5456, 119))\n",
      "('quantizer 2 bits', 16)\n",
      "('quantizer 2 scale', 9.5368886854352636e-07)\n",
      "('quantizer using random seed', 1)\n",
      "('using regularior strength ', 0.001)\n",
      "finish regression!\n"
     ]
    }
   ],
   "source": [
    "args = Args(n_fp_rff=1024, n_bit=16, \n",
    "            exact_kernel=False, reg_lambda=1e-3, \n",
    "            sigma=30.0, random_seed=1, \n",
    "            data_path=data_path, do_fp=False)\n",
    "s_16 = get_spectrum(args)\n",
    "with open(\"../multi_seed_results/spectrum/s_1024_feat_16_bit_64b_svd.npy\", \"wb\") as f:\n",
    "    np.save(f, s_16)\n",
    "# print s_fp"
   ]
  },
  {
   "cell_type": "code",
   "execution_count": 8,
   "metadata": {},
   "outputs": [
    {
     "name": "stdout",
     "output_type": "stream",
     "text": [
      "('using sigma ', 30.0)\n",
      "('using sigma ', 30.0)\n",
      "low precsion rff with nbit =  32\n",
      "('using sigma ', 0.03333333333333333, 'using rand seed ', 1)\n",
      "('using n rff features ', 1024)\n",
      "start to do regression!\n",
      "('quantization 1 activated ', (5456, 119))\n",
      "('quantizer 1 bits', 32)\n",
      "('quantizer 1 scale', 2.0579515879251518e-11)\n",
      "('quantizer using random seed', 1)\n",
      "('quantization 2 activated ', (5456, 119))\n",
      "('quantizer 2 bits', 32)\n",
      "('quantizer 2 scale', 2.0579515879251518e-11)\n",
      "('quantizer using random seed', 1)\n",
      "('using regularior strength ', 0.001)\n",
      "finish regression!\n"
     ]
    }
   ],
   "source": [
    "args = Args(n_fp_rff=1024, n_bit=32, \n",
    "            exact_kernel=False, reg_lambda=1e-3, \n",
    "            sigma=30.0, random_seed=1, \n",
    "            data_path=data_path, do_fp=False)\n",
    "s_32 = get_spectrum(args)\n",
    "with open(\"../multi_seed_results/spectrum/s_1024_feat_32_bit_64b_svd.npy\", \"wb\") as f:\n",
    "    np.save(f, s_32)\n",
    "# print s_fp"
   ]
  },
  {
   "cell_type": "code",
   "execution_count": 6,
   "metadata": {},
   "outputs": [
    {
     "name": "stdout",
     "output_type": "stream",
     "text": [
      "('using sigma ', 30.0)\n",
      "('using sigma ', 30.0)\n",
      "low precsion rff with nbit =  4\n",
      "('using sigma ', 0.03333333333333333, 'using rand seed ', 1)\n",
      "('using n rff features ', 16384)\n",
      "start to do regression!\n",
      "('quantization 1 activated ', (16367, 119))\n",
      "('quantizer 1 bits', 4)\n",
      "('quantizer 1 scale', 0.0014731391274719742)\n",
      "('quantizer using random seed', 1)\n",
      "('quantization 2 activated ', (16367, 119))\n",
      "('quantizer 2 bits', 4)\n",
      "('quantizer 2 scale', 0.0014731391274719742)\n",
      "('quantizer using random seed', 1)\n",
      "('using regularior strength ', 0.001)\n",
      "finish regression!\n"
     ]
    }
   ],
   "source": [
    "args = Args(n_fp_rff=2048, n_bit=4, \n",
    "            exact_kernel=False, reg_lambda=1e-3, \n",
    "            sigma=30.0, random_seed=1, \n",
    "            data_path=data_path, do_fp=False)\n",
    "s_1 = get_spectrum(args)\n",
    "with open(\"../multi_seed_results/spectrum/s_2048_feat_4_bit_64b_svd_full_dataset.npy\", \"wb\") as f:\n",
    "    np.save(f, s_1)\n",
    "# print s_fp"
   ]
  },
  {
   "cell_type": "code",
   "execution_count": 7,
   "metadata": {},
   "outputs": [
    {
     "name": "stdout",
     "output_type": "stream",
     "text": [
      "('using sigma ', 30.0)\n",
      "('using sigma ', 30.0)\n",
      "low precsion rff with nbit =  2\n",
      "('using sigma ', 0.03333333333333333, 'using rand seed ', 1)\n",
      "('using n rff features ', 32768)\n",
      "start to do regression!\n",
      "('quantization 1 activated ', (16367, 119))\n",
      "('quantizer 1 bits', 2)\n",
      "('quantizer 1 scale', 0.005208333333333333)\n",
      "('quantizer using random seed', 1)\n",
      "('quantization 2 activated ', (16367, 119))\n",
      "('quantizer 2 bits', 2)\n",
      "('quantizer 2 scale', 0.005208333333333333)\n",
      "('quantizer using random seed', 1)\n",
      "('using regularior strength ', 0.001)\n",
      "finish regression!\n"
     ]
    }
   ],
   "source": [
    "args = Args(n_fp_rff=2048, n_bit=2, \n",
    "            exact_kernel=False, reg_lambda=1e-3, \n",
    "            sigma=30.0, random_seed=1, \n",
    "            data_path=data_path, do_fp=False)\n",
    "s_1 = get_spectrum(args)\n",
    "with open(\"../multi_seed_results/spectrum/s_2048_feat_2_bit_64b_svd_full_dataset.npy\", \"wb\") as f:\n",
    "    np.save(f, s_1)\n",
    "# print s_fp"
   ]
  },
  {
   "cell_type": "code",
   "execution_count": 8,
   "metadata": {},
   "outputs": [
    {
     "name": "stdout",
     "output_type": "stream",
     "text": [
      "('using sigma ', 30.0)\n",
      "('using sigma ', 30.0)\n",
      "low precsion rff with nbit =  1\n",
      "('using sigma ', 0.03333333333333333, 'using rand seed ', 1)\n",
      "('using n rff features ', 65536)\n",
      "start to do regression!\n",
      "('quantization 1 activated ', (16367, 119))\n",
      "('quantizer 1 bits', 1)\n",
      "('quantizer 1 scale', 0.011048543456039806)\n",
      "('quantizer using random seed', 1)\n",
      "('quantization 2 activated ', (16367, 119))\n",
      "('quantizer 2 bits', 1)\n",
      "('quantizer 2 scale', 0.011048543456039806)\n",
      "('quantizer using random seed', 1)\n",
      "('using regularior strength ', 0.001)\n",
      "finish regression!\n"
     ]
    }
   ],
   "source": [
    "args = Args(n_fp_rff=2048, n_bit=1, \n",
    "            exact_kernel=False, reg_lambda=1e-3, \n",
    "            sigma=30.0, random_seed=1, \n",
    "            data_path=data_path, do_fp=False)\n",
    "s_1 = get_spectrum(args)\n",
    "with open(\"../multi_seed_results/spectrum/s_2048_feat_1_bit_64b_svd_full_dataset.npy\", \"wb\") as f:\n",
    "    np.save(f, s_1)\n",
    "# print s_fp"
   ]
  },
  {
   "cell_type": "code",
   "execution_count": 9,
   "metadata": {},
   "outputs": [
    {
     "name": "stdout",
     "output_type": "stream",
     "text": [
      "('using sigma ', 30.0)\n",
      "('using sigma ', 30.0)\n",
      "low precsion rff with nbit =  4\n",
      "('using sigma ', 0.03333333333333333, 'using rand seed ', 1)\n",
      "('using n rff features ', 32768)\n",
      "start to do regression!\n",
      "('quantization 1 activated ', (16367, 119))\n",
      "('quantizer 1 bits', 4)\n",
      "('quantizer 1 scale', 0.0010416666666666667)\n",
      "('quantizer using random seed', 1)\n",
      "('quantization 2 activated ', (16367, 119))\n",
      "('quantizer 2 bits', 4)\n",
      "('quantizer 2 scale', 0.0010416666666666667)\n",
      "('quantizer using random seed', 1)\n",
      "('using regularior strength ', 0.001)\n",
      "finish regression!\n"
     ]
    }
   ],
   "source": [
    "args = Args(n_fp_rff=4096, n_bit=4, \n",
    "            exact_kernel=False, reg_lambda=1e-3, \n",
    "            sigma=30.0, random_seed=1, \n",
    "            data_path=data_path, do_fp=False)\n",
    "s_1 = get_spectrum(args)\n",
    "with open(\"../multi_seed_results/spectrum/s_4096_feat_4_bit_64b_svd_full_dataset.npy\", \"wb\") as f:\n",
    "    np.save(f, s_1)\n",
    "# print s_fp"
   ]
  },
  {
   "cell_type": "code",
   "execution_count": 10,
   "metadata": {},
   "outputs": [
    {
     "name": "stdout",
     "output_type": "stream",
     "text": [
      "('using sigma ', 30.0)\n",
      "('using sigma ', 30.0)\n",
      "low precsion rff with nbit =  2\n",
      "('using sigma ', 0.03333333333333333, 'using rand seed ', 1)\n",
      "('using n rff features ', 65536)\n",
      "start to do regression!\n",
      "('quantization 1 activated ', (16367, 119))\n",
      "('quantizer 1 bits', 2)\n",
      "('quantizer 1 scale', 0.0036828478186799354)\n",
      "('quantizer using random seed', 1)\n",
      "('quantization 2 activated ', (16367, 119))\n",
      "('quantizer 2 bits', 2)\n",
      "('quantizer 2 scale', 0.0036828478186799354)\n",
      "('quantizer using random seed', 1)\n",
      "('using regularior strength ', 0.001)\n",
      "finish regression!\n"
     ]
    }
   ],
   "source": [
    "args = Args(n_fp_rff=4096, n_bit=2, \n",
    "            exact_kernel=False, reg_lambda=1e-3, \n",
    "            sigma=30.0, random_seed=1, \n",
    "            data_path=data_path, do_fp=False)\n",
    "s_1 = get_spectrum(args)\n",
    "with open(\"../multi_seed_results/spectrum/s_4096_feat_2_bit_64b_svd_full_dataset.npy\", \"wb\") as f:\n",
    "    np.save(f, s_1)\n",
    "# print s_fp"
   ]
  },
  {
   "cell_type": "code",
   "execution_count": 11,
   "metadata": {},
   "outputs": [
    {
     "name": "stdout",
     "output_type": "stream",
     "text": [
      "('using sigma ', 30.0)\n",
      "('using sigma ', 30.0)\n",
      "low precsion rff with nbit =  1\n",
      "('using sigma ', 0.03333333333333333, 'using rand seed ', 1)\n",
      "('using n rff features ', 131072)\n",
      "start to do regression!\n",
      "('quantization 1 activated ', (16367, 119))\n",
      "('quantizer 1 bits', 1)\n",
      "('quantizer 1 scale', 0.0078125)\n",
      "('quantizer using random seed', 1)\n",
      "('quantization 2 activated ', (16367, 119))\n",
      "('quantizer 2 bits', 1)\n",
      "('quantizer 2 scale', 0.0078125)\n",
      "('quantizer using random seed', 1)\n",
      "('using regularior strength ', 0.001)\n",
      "finish regression!\n"
     ]
    }
   ],
   "source": [
    "args = Args(n_fp_rff=4096, n_bit=1, \n",
    "            exact_kernel=False, reg_lambda=1e-3, \n",
    "            sigma=30.0, random_seed=1, \n",
    "            data_path=data_path, do_fp=False)\n",
    "s_1 = get_spectrum(args)\n",
    "with open(\"../multi_seed_results/spectrum/s_4096_feat_1_bit_64b_svd_full_dataset.npy\", \"wb\") as f:\n",
    "    np.save(f, s_1)\n",
    "# print s_fp"
   ]
  },
  {
   "cell_type": "code",
   "execution_count": 17,
   "metadata": {},
   "outputs": [
    {
     "name": "stdout",
     "output_type": "stream",
     "text": [
      "('using sigma ', 30.0)\n",
      "('using sigma ', 30.0)\n",
      "low precsion rff with nbit =  4\n",
      "('using sigma ', 0.03333333333333333, 'using rand seed ', 1)\n",
      "('using n rff features ', 65536)\n",
      "start to do regression!\n",
      "('quantization 1 activated ', (16367, 119))\n",
      "('quantizer 1 bits', 4)\n",
      "('quantizer 1 scale', 0.00073656956373598711)\n",
      "('quantizer using random seed', 1)\n",
      "('quantization 2 activated ', (16367, 119))\n",
      "('quantizer 2 bits', 4)\n",
      "('quantizer 2 scale', 0.00073656956373598711)\n",
      "('quantizer using random seed', 1)\n",
      "('using regularior strength ', 0.001)\n",
      "finish regression!\n"
     ]
    }
   ],
   "source": [
    "args = Args(n_fp_rff=8192, n_bit=4, \n",
    "            exact_kernel=False, reg_lambda=1e-3, \n",
    "            sigma=30.0, random_seed=1, \n",
    "            data_path=data_path, do_fp=False)\n",
    "s_1 = get_spectrum(args)\n",
    "with open(\"../multi_seed_results/spectrum/s_8192_feat_4_bit_64b_svd_full_dataset.npy\", \"wb\") as f:\n",
    "    np.save(f, s_1)\n",
    "# print s_fp"
   ]
  },
  {
   "cell_type": "code",
   "execution_count": 18,
   "metadata": {},
   "outputs": [
    {
     "name": "stdout",
     "output_type": "stream",
     "text": [
      "('using sigma ', 30.0)\n",
      "('using sigma ', 30.0)\n",
      "low precsion rff with nbit =  2\n",
      "('using sigma ', 0.03333333333333333, 'using rand seed ', 1)\n",
      "('using n rff features ', 131072)\n",
      "start to do regression!\n",
      "('quantization 1 activated ', (16367, 119))\n",
      "('quantizer 1 bits', 2)\n",
      "('quantizer 1 scale', 0.0026041666666666665)\n",
      "('quantizer using random seed', 1)\n",
      "('quantization 2 activated ', (16367, 119))\n",
      "('quantizer 2 bits', 2)\n",
      "('quantizer 2 scale', 0.0026041666666666665)\n",
      "('quantizer using random seed', 1)\n",
      "('using regularior strength ', 0.001)\n",
      "finish regression!\n"
     ]
    }
   ],
   "source": [
    "args = Args(n_fp_rff=8192, n_bit=2, \n",
    "            exact_kernel=False, reg_lambda=1e-3, \n",
    "            sigma=30.0, random_seed=1, \n",
    "            data_path=data_path, do_fp=False)\n",
    "s_1 = get_spectrum(args)\n",
    "with open(\"../multi_seed_results/spectrum/s_8192_feat_2_bit_64b_svd_full_dataset.npy\", \"wb\") as f:\n",
    "    np.save(f, s_1)\n",
    "# print s_fp"
   ]
  },
  {
   "cell_type": "code",
   "execution_count": 19,
   "metadata": {},
   "outputs": [
    {
     "name": "stdout",
     "output_type": "stream",
     "text": [
      "('using sigma ', 30.0)\n",
      "('using sigma ', 30.0)\n",
      "low precsion rff with nbit =  1\n",
      "('using sigma ', 0.03333333333333333, 'using rand seed ', 1)\n",
      "('using n rff features ', 262144)\n",
      "start to do regression!\n",
      "('quantization 1 activated ', (16367, 119))\n",
      "('quantizer 1 bits', 1)\n",
      "('quantizer 1 scale', 0.0055242717280199029)\n",
      "('quantizer using random seed', 1)\n",
      "('quantization 2 activated ', (16367, 119))\n",
      "('quantizer 2 bits', 1)\n",
      "('quantizer 2 scale', 0.0055242717280199029)\n",
      "('quantizer using random seed', 1)\n",
      "('using regularior strength ', 0.001)\n",
      "finish regression!\n"
     ]
    }
   ],
   "source": [
    "args = Args(n_fp_rff=8192, n_bit=1, \n",
    "            exact_kernel=False, reg_lambda=1e-3, \n",
    "            sigma=30.0, random_seed=1, \n",
    "            data_path=data_path, do_fp=False)\n",
    "s_1 = get_spectrum(args)\n",
    "with open(\"../multi_seed_results/spectrum/s_8192_feat_1_bit_64b_svd_full_dataset.npy\", \"wb\") as f:\n",
    "    np.save(f, s_1)\n",
    "# print s_fp"
   ]
  },
  {
   "cell_type": "code",
   "execution_count": null,
   "metadata": {
    "collapsed": true
   },
   "outputs": [],
   "source": []
  },
  {
   "cell_type": "code",
   "execution_count": null,
   "metadata": {
    "collapsed": true
   },
   "outputs": [],
   "source": []
  },
  {
   "cell_type": "code",
   "execution_count": null,
   "metadata": {
    "collapsed": true
   },
   "outputs": [],
   "source": []
  },
  {
   "cell_type": "code",
   "execution_count": 4,
   "metadata": {
    "collapsed": true
   },
   "outputs": [],
   "source": [
    "# with open(\"../multi_seed_results/spectrum/s_1024_feat_4_bit_64b_svd.npy\", \"rb\") as f:\n",
    "#     s_4_small = np.load(f)\n",
    "# with open(\"../multi_seed_results/spectrum/s_1024_feat_2_bit_64b_svd.npy\", \"rb\") as f:\n",
    "#     s_2_small = np.load(f)\n",
    "# with open(\"../multi_seed_results/spectrum/s_exact_64b_svd.npy\", \"rb\") as f:\n",
    "#     s_exact_small = np.load(f)\n",
    "with open(\"../multi_seed_results/spectrum/s_1024_feat_32_bit_64b_svd_full_dataset.npy\", \"rb\") as f:\n",
    "    s_32 = np.load(f)\n",
    "with open(\"../multi_seed_results/spectrum/s_1024_feat_16_bit_64b_svd_full_dataset.npy\", \"rb\") as f:\n",
    "    s_16 = np.load(f)\n",
    "with open(\"../multi_seed_results/spectrum/s_1024_feat_8_bit_64b_svd_full_dataset.npy\", \"rb\") as f:\n",
    "    s_8 = np.load(f)\n",
    "with open(\"../multi_seed_results/spectrum/s_1024_feat_4_bit_64b_svd_full_dataset.npy\", \"rb\") as f:\n",
    "    s_4 = np.load(f)\n",
    "with open(\"../multi_seed_results/spectrum/s_1024_feat_2_bit_64b_svd_full_dataset.npy\", \"rb\") as f:\n",
    "    s_2 = np.load(f)\n",
    "with open(\"../multi_seed_results/spectrum/s_1024_feat_1_bit_64b_svd_full_dataset.npy\", \"rb\") as f:\n",
    "    s_1 = np.load(f)\n",
    "with open(\"../multi_seed_results/spectrum/s_exact_64b_svd_full_dataset.npy\", \"rb\") as f:\n",
    "    s_exact = np.load(f)"
   ]
  },
  {
   "cell_type": "code",
   "execution_count": 5,
   "metadata": {},
   "outputs": [
    {
     "data": {
      "image/png": "[encoded data removed]",
      "text/plain": [
       "<matplotlib.figure.Figure at 0x113463310>"
      ]
     },
     "metadata": {},
     "output_type": "display_data"
    }
   ],
   "source": [
    "plt.figure()\n",
    "plt.semilogy(s_32, label=\"32 bit full\")\n",
    "plt.semilogy(s_16, label=\"16 bit full\")\n",
    "plt.semilogy(s_8, label=\"8 bit full\")\n",
    "plt.semilogy(s_4, label=\"4 bit full\")\n",
    "plt.semilogy(s_2, label=\"2 bit full\")\n",
    "plt.semilogy(s_1, label=\"1 bit full\")\n",
    "plt.semilogy(s_exact, label=\"exact full\")\n",
    "# plt.semilogy(s_4_small, label=\"4 bit partial\")\n",
    "# plt.semilogy(s_2_small, label=\"2 bit partial\")\n",
    "# plt.semilogy(s_exact_small, label=\"exact partial\")\n",
    "plt.grid()\n",
    "plt.ylim([1e-13, 1e2])\n",
    "plt.legend()\n",
    "plt.show()"
   ]
  },
  {
   "cell_type": "code",
   "execution_count": 14,
   "metadata": {},
   "outputs": [
    {
     "data": {
      "image/png": "[encoded data removed]",
      "text/plain": [
       "<matplotlib.figure.Figure at 0x11810ab90>"
      ]
     },
     "metadata": {},
     "output_type": "display_data"
    }
   ],
   "source": [
    "plt.figure()\n",
    "# plt.semilogy(s_exact, label=\"exact\")\n",
    "# plt.semilogy(s_fp, label=\"fp\")\n",
    "# plt.semilogy(s_32, label=\"32 bit\")\n",
    "# plt.semilogy(s_16, label=\"16 bit\")\n",
    "# plt.semilogy(s_8, label=\"8 bit\")\n",
    "plt.semilogy(s_4, label=\"4 bit full\")\n",
    "plt.semilogy(s_2, label=\"2 bit full\")\n",
    "plt.semilogy(s_exact, label=\"exact full\")\n",
    "plt.semilogy(s_4_small, label=\"4 bit partial\")\n",
    "plt.semilogy(s_2_small, label=\"2 bit partial\")\n",
    "plt.semilogy(s_exact_small, label=\"exact partial\")\n",
    "# plt.semilogy(s_1, label=\"1 bit\")\n",
    "plt.grid()\n",
    "plt.ylim([1e-13, 1e2])\n",
    "plt.legend()\n",
    "plt.show()"
   ]
  },
  {
   "cell_type": "markdown",
   "metadata": {},
   "source": [
    "### plot full spectrum"
   ]
  },
  {
   "cell_type": "code",
   "execution_count": 3,
   "metadata": {
    "collapsed": true
   },
   "outputs": [],
   "source": [
    "with open(\"../multi_seed_results/spectrum/s_1024_feat_32_bit_64b_svd.npy\", \"rb\") as f:\n",
    "    s_32 = np.load(f)\n",
    "with open(\"../multi_seed_results/spectrum/s_1024_feat_16_bit_64b_svd.npy\", \"rb\") as f:\n",
    "    s_16 = np.load(f)\n",
    "with open(\"../multi_seed_results/spectrum/s_1024_feat_8_bit_64b_svd.npy\", \"rb\") as f:\n",
    "    s_8 = np.load(f)\n",
    "with open(\"../multi_seed_results/spectrum/s_1024_feat_4_bit_64b_svd.npy\", \"rb\") as f:\n",
    "    s_4 = np.load(f)\n",
    "with open(\"../multi_seed_results/spectrum/s_1024_feat_2_bit_64b_svd.npy\", \"rb\") as f:\n",
    "    s_2 = np.load(f)\n",
    "with open(\"../multi_seed_results/spectrum/s_1024_feat_1_bit_64b_svd.npy\", \"rb\") as f:\n",
    "    s_1 = np.load(f)\n",
    "with open(\"../multi_seed_results/spectrum/s_1024_feat_fp_64b_svd.npy\", \"rb\") as f:\n",
    "    s_fp = np.load(f)\n",
    "with open(\"../multi_seed_results/spectrum/s_exact.npy\", \"rb\") as f:\n",
    "    s_exact = np.load(f)"
   ]
  },
  {
   "cell_type": "code",
   "execution_count": 4,
   "metadata": {},
   "outputs": [
    {
     "data": {
      "image/png": "[encoded data removed]",
      "text/plain": [
       "<matplotlib.figure.Figure at 0x11cead3d0>"
      ]
     },
     "metadata": {},
     "output_type": "display_data"
    }
   ],
   "source": [
    "plt.figure()\n",
    "plt.semilogy(s_exact, label=\"exact\")\n",
    "plt.semilogy(s_fp, label=\"fp\")\n",
    "plt.semilogy(s_32, label=\"32 bit\")\n",
    "plt.semilogy(s_16, label=\"16 bit\")\n",
    "plt.semilogy(s_8, label=\"8 bit\")\n",
    "plt.semilogy(s_4, label=\"4 bit\")\n",
    "plt.semilogy(s_2, label=\"2 bit\")\n",
    "plt.semilogy(s_1, label=\"1 bit\")\n",
    "plt.grid()\n",
    "plt.ylim([1e-13, 1e2])\n",
    "plt.legend()\n",
    "plt.show()"
   ]
  },
  {
   "cell_type": "code",
   "execution_count": 5,
   "metadata": {},
   "outputs": [
    {
     "data": {
      "image/png": "[encoded data removed]",
      "text/plain": [
       "<matplotlib.figure.Figure at 0x11f0a2510>"
      ]
     },
     "metadata": {},
     "output_type": "display_data"
    }
   ],
   "source": [
    "plt.figure()\n",
    "plt.semilogy(s_exact, label=\"exact\")\n",
    "plt.semilogy(s_fp, label=\"fp\")\n",
    "plt.semilogy(s_32 - 2.0 * (1/ float(2**32 - 1) )**2, label=\"32 bit\")\n",
    "plt.semilogy(s_16 - 2.0 * (1/ float(2**16 - 1) )**2, label=\"16 bit\")\n",
    "plt.semilogy(s_8 - 2.0 * (1/ float(2**8 - 1) )**2, label=\"8 bit\")\n",
    "plt.semilogy(s_4 - 2.0 * (1/ float(2**4 - 1) )**2, label=\"4 bit\")\n",
    "plt.semilogy(s_2 - 2.0 * (1/ float(2**2 - 1) )**2, label=\"2 bit\")\n",
    "plt.semilogy(s_1 - 2.0 * (1/ float(2**1 - 1) )**2, label=\"1 bit\")\n",
    "plt.grid()\n",
    "plt.ylim([1e-13, 1e2])\n",
    "plt.legend()\n",
    "plt.show()"
   ]
  },
  {
   "cell_type": "code",
   "execution_count": 6,
   "metadata": {},
   "outputs": [
    {
     "data": {
      "image/png": "[encoded data removed]",
      "text/plain": [
       "<matplotlib.figure.Figure at 0x11f136310>"
      ]
     },
     "metadata": {},
     "output_type": "display_data"
    }
   ],
   "source": [
    "plt.figure()\n",
    "plt.semilogy(s_exact, label=\"exact\")\n",
    "plt.semilogy(s_fp, label=\"fp\")\n",
    "plt.semilogy(s_32 - 2.0 / 3.0 * 2.0 * (1/ float(2**32 - 1) )**2, label=\"32 bit\")\n",
    "plt.semilogy(s_16 - 2.0 / 3.0 * 2.0 * (1/ float(2**16 - 1) )**2, label=\"16 bit\")\n",
    "plt.semilogy(s_8 - 2.0 / 3.0 * 2.0 * (1/ float(2**8 - 1) )**2, label=\"8 bit\")\n",
    "plt.semilogy(s_4 - 2.0 / 3.0 * 2.0 * (1/ float(2**4 - 1) )**2, label=\"4 bit\")\n",
    "plt.semilogy(s_2 - 2.0 / 3.0 * 2.0 * (1/ float(2**2 - 1) )**2, label=\"2 bit\")\n",
    "plt.semilogy(s_1 - 2.0 / 3.0 * 2.0 * (1/ float(2**1 - 1) )**2, label=\"1 bit\")\n",
    "plt.grid()\n",
    "plt.ylim([1e-13, 1e2])\n",
    "plt.legend()\n",
    "plt.show()"
   ]
  },
  {
   "cell_type": "markdown",
   "metadata": {
    "collapsed": true
   },
   "source": [
    "### exploration on spectrum"
   ]
  },
  {
   "cell_type": "code",
   "execution_count": 37,
   "metadata": {
    "collapsed": true
   },
   "outputs": [],
   "source": [
    "def get_spectrum_test(args):\n",
    "    X_train, X_test, Y_train, Y_test = load_census_data(args.data_path)\n",
    "    kernel = GaussianKernel(sigma=args.sigma)\n",
    "    kernel_mat_exact_train = kernel.get_kernel_matrix(X_train, X_train)\n",
    "    kernel_mat_exact_test = kernel.get_kernel_matrix(X_test, X_train)\n",
    "    n_input_feat = X_train.shape[1]\n",
    "    assert X_train.shape[1] == X_test.shape[1]\n",
    "    if args.exact_kernel:\n",
    "        print \"exact kernel\"\n",
    "        kernel = kernel\n",
    "        quantizer_train = None\n",
    "        quantizer_test = None\n",
    "        config_name = \"exact_kernel_lambda_\" + str(args.reg_lambda) + \"_sigma_\" + str(args.sigma)\n",
    "    elif args.do_fp:\n",
    "        print \"full precision rff\"\n",
    "        kernel = RFF(args.n_fp_rff, n_input_feat, kernel, rand_seed=args.random_seed)\n",
    "        quantizer_train = None\n",
    "        quantizer_test = None\n",
    "        config_name = \"fp_rff_lambda_\" + str(args.reg_lambda) + \"_sigma_\" \\\n",
    "          + str(args.sigma) + \"_n_fp_rff_\" + str(args.n_fp_rff)\n",
    "    else:\n",
    "        print \"low precsion rff with nbit = \", args.n_bit\n",
    "        n_quantized_rff = int(np.floor(args.n_fp_rff / float(args.n_bit) * 32.0) )\n",
    "        min_val = -np.sqrt(2.0/float(n_quantized_rff) )\n",
    "        max_val = np.sqrt(2.0/float(n_quantized_rff) )\n",
    "        quantizer_train = Quantizer(args.n_bit, min_val, max_val, rand_seed=args.random_seed)\n",
    "        if not args.test_var_reduce:\n",
    "            quantizer_test = quantizer_train\n",
    "        else:\n",
    "            quantizer_test = None\n",
    "        kernel = RFF(n_quantized_rff, n_input_feat, kernel, rand_seed=args.random_seed)\n",
    "        config_name = \"lp_rff_lambda_\" + str(args.reg_lambda) + \"_sigma_\" \\\n",
    "          + str(args.sigma) + \"_n_fp_rff_\" + str(args.n_fp_rff) + \"_nbit_\" + str(args.n_bit) \n",
    "\n",
    "    regressor = KernelRidgeRegression(kernel, reg_lambda=args.reg_lambda)\n",
    "    print(\"start to do regression!\")\n",
    "    # print(\"test quantizer\", quantizer)\n",
    "    regressor.fit(X_train, Y_train, quantizer=quantizer_train)\n",
    "    print(\"finish regression!\")\n",
    "    \n",
    "    print \"test rff1 \", regressor.kernel.rff_x1\n",
    "    print \"test rff2 \", regressor.kernel.rff_x2\n",
    "    \n",
    "    \n",
    "    kernel_mat = regressor.kernel_mat\n",
    "    _, s, _ = np.linalg.svd(kernel_mat.cpu().numpy().astype(np.float64), full_matrices=True)\n",
    "    return s, kernel_mat.cpu().numpy().astype(np.float64)"
   ]
  },
  {
   "cell_type": "code",
   "execution_count": 38,
   "metadata": {},
   "outputs": [
    {
     "name": "stdout",
     "output_type": "stream",
     "text": [
      "('using sigma ', 30.0)\n",
      "('using sigma ', 30.0)\n",
      "low precsion rff with nbit =  1\n",
      "('using sigma ', 0.03333333333333333, 'using rand seed ', 1)\n",
      "('using n rff features ', 32768)\n",
      "start to do regression!\n"
     ]
    },
    {
     "ename": "KeyboardInterrupt",
     "evalue": "",
     "output_type": "error",
     "traceback": [
      "\u001b[0;31m---------------------------------------------------------------------------\u001b[0m",
      "\u001b[0;31mKeyboardInterrupt\u001b[0m                         Traceback (most recent call last)",
      "\u001b[0;31mKeyboardInterrupt\u001b[0m: "
     ]
    }
   ],
   "source": [
    "args = Args(n_fp_rff=1024, n_bit=1, \n",
    "            exact_kernel=False, reg_lambda=1e-3, \n",
    "            sigma=30.0, random_seed=1, \n",
    "            data_path=data_path, do_fp=False)\n",
    "s_1_test, kernel_1_test = get_spectrum_test(args)"
   ]
  },
  {
   "cell_type": "code",
   "execution_count": 39,
   "metadata": {},
   "outputs": [
    {
     "name": "stdout",
     "output_type": "stream",
     "text": [
      "[ 2.  2.  2. ...,  2.  2.  2.]\n",
      "[[ 2.          0.92578125  0.8515625  ...,  0.84863281  0.84277344\n",
      "   0.91308594]\n",
      " [ 0.92578125  2.          0.94335938 ...,  0.88378906  0.87011719\n",
      "   0.93457031]\n",
      " [ 0.8515625   0.94335938  2.         ...,  0.86230469  0.87597656\n",
      "   0.91894531]]\n"
     ]
    },
    {
     "data": {
      "image/png": "[encoded data removed]",
      "text/plain": [
       "<matplotlib.figure.Figure at 0x11e5589d0>"
      ]
     },
     "metadata": {},
     "output_type": "display_data"
    }
   ],
   "source": [
    "print np.diag(kernel_1_test)\n",
    "print kernel_1_test[0:3,:]\n",
    "plt.figure()\n",
    "_ = plt.hist(np.diag(kernel_1_test),bins=100)\n",
    "plt.show()"
   ]
  },
  {
   "cell_type": "code",
   "execution_count": 42,
   "metadata": {
    "scrolled": false
   },
   "outputs": [
    {
     "name": "stdout",
     "output_type": "stream",
     "text": [
      "('using sigma ', 30.0)\n",
      "('using sigma ', 30.0)\n",
      "low precsion rff with nbit =  2\n",
      "('using sigma ', 0.03333333333333333, 'using rand seed ', 1)\n",
      "('using n rff features ', 16384)\n",
      "start to do regression!\n",
      "('quantization 1 activated ', (5456, 119))\n",
      "('quantizer 1 bits', 2)\n",
      "('quantizer 1 scale', 0.0073656956373598708)\n",
      "('quantizer using random seed', 1)\n",
      "('quantization 2 activated ', (5456, 119))\n",
      "('quantizer 2 bits', 2)\n",
      "('quantizer 2 scale', 0.0073656956373598708)\n",
      "('quantizer using random seed', 1)\n",
      "('using regularior strength ', 0.001)\n",
      "finish regression!\n",
      "test rff1  \n",
      "1.00000e-02 *\n",
      "-1.1049  0.3683  0.3683  ...  -0.3683  0.3683  1.1049\n",
      "-1.1049 -0.3683  1.1049  ...  -1.1049  1.1049  0.3683\n",
      "-0.3683 -1.1049  1.1049  ...  -0.3683  1.1049  1.1049\n",
      "          ...             ⋱             ...          \n",
      "-1.1049 -0.3683  1.1049  ...  -1.1049  0.3683  1.1049\n",
      "-1.1049 -0.3683  1.1049  ...  -1.1049  1.1049  1.1049\n",
      "-0.3683 -1.1049  1.1049  ...  -0.3683  1.1049  0.3683\n",
      "[torch.DoubleTensor of size 5456x16384]\n",
      "\n",
      "test rff2  \n",
      "1.00000e-02 *\n",
      "-1.1049  0.3683  0.3683  ...  -0.3683  0.3683  1.1049\n",
      "-1.1049 -0.3683  1.1049  ...  -1.1049  1.1049  0.3683\n",
      "-0.3683 -1.1049  1.1049  ...  -0.3683  1.1049  1.1049\n",
      "          ...             ⋱             ...          \n",
      "-1.1049 -0.3683  1.1049  ...  -1.1049  0.3683  1.1049\n",
      "-1.1049 -0.3683  1.1049  ...  -1.1049  1.1049  1.1049\n",
      "-0.3683 -1.1049  1.1049  ...  -0.3683  1.1049  0.3683\n",
      "[torch.DoubleTensor of size 5456x16384]\n",
      "\n"
     ]
    }
   ],
   "source": [
    "args = Args(n_fp_rff=1024, n_bit=2, \n",
    "            exact_kernel=False, reg_lambda=1e-3, \n",
    "            sigma=30.0, random_seed=1, \n",
    "            data_path=data_path, do_fp=False)\n",
    "s_1_test, kernel_1_test = get_spectrum_test(args)"
   ]
  },
  {
   "cell_type": "code",
   "execution_count": 43,
   "metadata": {},
   "outputs": [
    {
     "name": "stdout",
     "output_type": "stream",
     "text": [
      "[ 1.09895833  1.12087674  1.12717014 ...,  1.1265191   1.12836372\n",
      "  1.12250434]\n",
      "[[ 1.09895833  0.84337023  0.8390842  ...,  0.85161675  0.7464464\n",
      "   0.83037652]\n",
      " [ 0.84337023  1.12087674  0.95876736 ...,  0.94986979  0.92938911\n",
      "   0.91414388]\n",
      " [ 0.8390842   0.95876736  1.12717014 ...,  0.9570855   0.90725369\n",
      "   0.9121365 ]]\n"
     ]
    },
    {
     "data": {
      "image/png": "[encoded data removed]",
      "text/plain": [
       "<matplotlib.figure.Figure at 0x11db44a90>"
      ]
     },
     "metadata": {},
     "output_type": "display_data"
    }
   ],
   "source": [
    "print np.diag(kernel_1_test)\n",
    "print kernel_1_test[0:3,:]\n",
    "plt.figure()\n",
    "_ = plt.hist(np.diag(kernel_1_test),bins=100)\n",
    "plt.show()"
   ]
  },
  {
   "cell_type": "code",
   "execution_count": null,
   "metadata": {
    "collapsed": true
   },
   "outputs": [],
   "source": []
  },
  {
   "cell_type": "code",
   "execution_count": null,
   "metadata": {
    "collapsed": true
   },
   "outputs": [],
   "source": []
  },
  {
   "cell_type": "code",
   "execution_count": 6,
   "metadata": {},
   "outputs": [
    {
     "name": "stdout",
     "output_type": "stream",
     "text": [
      "[  4.87422412e+03   9.92007523e+01   7.62955627e+01 ...,   6.18245899e-09\n",
      "   4.54027393e-09   9.55269891e-11]\n"
     ]
    },
    {
     "data": {
      "image/png": "[encoded data removed]",
      "text/plain": [
       "<matplotlib.figure.Figure at 0x11df2b610>"
      ]
     },
     "metadata": {},
     "output_type": "display_data"
    }
   ],
   "source": [
    "print s_exact\n",
    "plt.figure()\n",
    "_ = plt.hist(np.log(s_exact),bins=100)\n",
    "plt.show()"
   ]
  },
  {
   "cell_type": "code",
   "execution_count": 7,
   "metadata": {},
   "outputs": [
    {
     "name": "stdout",
     "output_type": "stream",
     "text": [
      "[  4.91588923e+03   9.76161314e+01   7.45011299e+01 ...,   4.80692726e-13\n",
      "   1.01362488e-13   4.13374761e-14]\n"
     ]
    },
    {
     "data": {
      "image/png": "[encoded data removed]",
      "text/plain": [
       "<matplotlib.figure.Figure at 0x11dc69850>"
      ]
     },
     "metadata": {},
     "output_type": "display_data"
    }
   ],
   "source": [
    "print s_fp\n",
    "plt.figure()\n",
    "_ = plt.hist(np.log(s_fp),bins=100)\n",
    "plt.show()"
   ]
  },
  {
   "cell_type": "code",
   "execution_count": 8,
   "metadata": {},
   "outputs": [
    {
     "name": "stdout",
     "output_type": "stream",
     "text": [
      "[  4.91645370e+03   9.36678968e+01   7.49424546e+01 ...,   4.90781849e-13\n",
      "   1.30537380e-13   3.44960307e-14]\n"
     ]
    },
    {
     "data": {
      "image/png": "[encoded data removed]",
      "text/plain": [
       "<matplotlib.figure.Figure at 0x11e369090>"
      ]
     },
     "metadata": {},
     "output_type": "display_data"
    }
   ],
   "source": [
    "print s_32\n",
    "plt.figure()\n",
    "_ = plt.hist(np.log(s_32),bins=100)\n",
    "plt.show()"
   ]
  },
  {
   "cell_type": "code",
   "execution_count": 9,
   "metadata": {},
   "outputs": [
    {
     "name": "stdout",
     "output_type": "stream",
     "text": [
      "[  4.92772646e+03   9.92845382e+01   7.16227742e+01 ...,   1.30972131e-13\n",
      "   5.50731281e-14   5.32621153e-14]\n"
     ]
    },
    {
     "data": {
      "image/png": "[encoded data removed]",
      "text/plain": [
       "<matplotlib.figure.Figure at 0x11e6b1f90>"
      ]
     },
     "metadata": {},
     "output_type": "display_data"
    }
   ],
   "source": [
    "print s_16\n",
    "plt.figure()\n",
    "_ = plt.hist(np.log(s_16),bins=100)\n",
    "plt.show()"
   ]
  },
  {
   "cell_type": "code",
   "execution_count": 10,
   "metadata": {},
   "outputs": [
    {
     "name": "stdout",
     "output_type": "stream",
     "text": [
      "[  4.79986673e+03   1.01274638e+02   8.09237702e+01 ...,   2.91166374e-14\n",
      "   2.01892143e-14   6.35161380e-15]\n"
     ]
    },
    {
     "data": {
      "image/png": "[encoded data removed]",
      "text/plain": [
       "<matplotlib.figure.Figure at 0x11dc8dc90>"
      ]
     },
     "metadata": {},
     "output_type": "display_data"
    }
   ],
   "source": [
    "print s_8\n",
    "plt.figure()\n",
    "_ = plt.hist(np.log(s_8),bins=100)\n",
    "plt.show()"
   ]
  },
  {
   "cell_type": "code",
   "execution_count": 11,
   "metadata": {},
   "outputs": [
    {
     "name": "stdout",
     "output_type": "stream",
     "text": [
      "[  4.85706958e+03   1.03042343e+02   7.59865365e+01 ...,   2.20834156e-04\n",
      "   2.13297390e-04   2.10150551e-04]\n"
     ]
    },
    {
     "data": {
      "image/png": "[encoded data removed]",
      "text/plain": [
       "<matplotlib.figure.Figure at 0x11e157190>"
      ]
     },
     "metadata": {},
     "output_type": "display_data"
    }
   ],
   "source": [
    "print s_4\n",
    "plt.figure()\n",
    "_ = plt.hist(np.log(s_4),bins=100)\n",
    "plt.show()"
   ]
  },
  {
   "cell_type": "code",
   "execution_count": 12,
   "metadata": {},
   "outputs": [
    {
     "name": "stdout",
     "output_type": "stream",
     "text": [
      "[  4.87785233e+03   1.00451189e+02   8.06809640e+01 ...,   2.18074883e-02\n",
      "   2.16997374e-02   2.16595938e-02]\n"
     ]
    },
    {
     "data": {
      "image/png": "[encoded data removed]",
      "text/plain": [
       "<matplotlib.figure.Figure at 0x11e8912d0>"
      ]
     },
     "metadata": {},
     "output_type": "display_data"
    }
   ],
   "source": [
    "print s_2\n",
    "plt.figure()\n",
    "_ = plt.hist(np.log(s_2),bins=100)\n",
    "plt.show()"
   ]
  },
  {
   "cell_type": "code",
   "execution_count": 13,
   "metadata": {},
   "outputs": [
    {
     "name": "stdout",
     "output_type": "stream",
     "text": [
      "[  4.87050873e+03   9.96647985e+01   8.00128565e+01 ...,   3.02800135e-01\n",
      "   3.01387460e-01   3.00918557e-01]\n"
     ]
    },
    {
     "data": {
      "image/png": "[encoded data removed]",
      "text/plain": [
       "<matplotlib.figure.Figure at 0x11da36050>"
      ]
     },
     "metadata": {},
     "output_type": "display_data"
    }
   ],
   "source": [
    "print s_1\n",
    "plt.figure()\n",
    "_ = plt.hist(np.log(s_1),bins=100)\n",
    "plt.show()"
   ]
  },
  {
   "cell_type": "markdown",
   "metadata": {},
   "source": [
    "# Below are old cold"
   ]
  },
  {
   "cell_type": "code",
   "execution_count": 56,
   "metadata": {},
   "outputs": [
    {
     "data": {
      "text/plain": [
       "(array([ 18.,   0.,   0.,   0.,   0.,   0.,   0.,   0.,   0.,   1.]),\n",
       " array([  7.01975496e-03,   1.65006816e+00,   3.29311657e+00,\n",
       "          4.93616497e+00,   6.57921338e+00,   8.22226178e+00,\n",
       "          9.86531019e+00,   1.15083586e+01,   1.31514070e+01,\n",
       "          1.47944554e+01,   1.64375038e+01]),\n",
       " <a list of 10 Patch objects>)"
      ]
     },
     "execution_count": 56,
     "metadata": {},
     "output_type": "execute_result"
    },
    {
     "data": {
      "image/png": "[encoded data removed]",
      "text/plain": [
       "<matplotlib.figure.Figure at 0x114e31fd0>"
      ]
     },
     "metadata": {},
     "output_type": "display_data"
    }
   ],
   "source": [
    "plt.hist(s)"
   ]
  },
  {
   "cell_type": "code",
   "execution_count": null,
   "metadata": {
    "collapsed": true
   },
   "outputs": [],
   "source": []
  },
  {
   "cell_type": "code",
   "execution_count": null,
   "metadata": {
    "collapsed": true
   },
   "outputs": [],
   "source": []
  }
 ],
 "metadata": {
  "anaconda-cloud": {},
  "kernelspec": {
   "display_name": "Python 2",
   "language": "python",
   "name": "python2"
  },
  "language_info": {
   "codemirror_mode": {
    "name": "ipython",
    "version": 2
   },
   "file_extension": ".py",
   "mimetype": "text/x-python",
   "name": "python",
   "nbconvert_exporter": "python",
   "pygments_lexer": "ipython2",
   "version": "2.7.13"
  }
 },
 "nbformat": 4,
 "nbformat_minor": 1
}
