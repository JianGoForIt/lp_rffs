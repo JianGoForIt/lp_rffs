{
 "cells": [
  {
   "cell_type": "code",
   "execution_count": 1,
   "metadata": {
    "collapsed": false
   },
   "outputs": [],
   "source": [
    "%matplotlib inline\n",
    "import matplotlib.pyplot as plt\n",
    "import argparse\n",
    "import numpy as np\n",
    "import torch\n",
    "import cPickle as cp\n",
    "import sys, os\n",
    "sys.path.append(\"../../utils\")\n",
    "sys.path.append(\"../\")\n",
    "\n",
    "from data_loader import load_census_data\n",
    "from rff import GaussianKernel, RFF\n",
    "from kernel_regressor import Quantizer, KernelRidgeRegression"
   ]
  },
  {
   "cell_type": "code",
   "execution_count": 2,
   "metadata": {
    "collapsed": true
   },
   "outputs": [],
   "source": [
    "class Args(object):\n",
    "    def __init__(self, n_fp_rff, n_bit, \n",
    "                 exact_kernel, reg_lambda, \n",
    "                 sigma, random_seed, data_path,\n",
    "                 do_fp, test_var_reduce=False):\n",
    "        self.n_fp_rff = n_fp_rff\n",
    "        self.n_bit = n_bit\n",
    "        self.exact_kernel = exact_kernel\n",
    "        self.reg_lambda = reg_lambda\n",
    "        self.sigma = sigma\n",
    "        self.random_seed = random_seed\n",
    "        self.data_path = data_path\n",
    "        self.do_fp = do_fp\n",
    "        self.test_var_reduce = test_var_reduce"
   ]
  },
  {
   "cell_type": "code",
   "execution_count": 3,
   "metadata": {
    "collapsed": true
   },
   "outputs": [],
   "source": [
    "def load_census_data(path):\n",
    "    X_test = np.load(path + \"X_ho.npy\")\n",
    "    X_train = np.load(path + \"X_tr.npy\")\n",
    "    Y_test = np.load(path + \"Y_ho.npy\")\n",
    "    Y_train = np.load(path + \"Y_tr.npy\")\n",
    "    X_test = X_test.item()['X_ho']\n",
    "    X_train = X_train.item()['X_tr']\n",
    "    Y_test = Y_test.item()['Y_ho']\n",
    "    Y_train = Y_train.item()['Y_tr']\n",
    "    s = np.arange(X_train.shape[0] )\n",
    "    np.random.shuffle(s)\n",
    "    X_train = X_train[s, :]\n",
    "    Y_train = Y_train[s]\n",
    "#     # DEBUG\n",
    "#     X_train, Y_train, X_test, Y_test = \\\n",
    "#       X_train[::3, :], Y_train[::3], X_test[::3, :], Y_test[::3]\n",
    "    X_train, Y_train, X_test, Y_test = \\\n",
    "      X_train[::3, :], Y_train[::3], X_test[::3, :], Y_test[::3]\n",
    "    return X_train, X_test, Y_train, Y_test"
   ]
  },
  {
   "cell_type": "code",
   "execution_count": 4,
   "metadata": {
    "collapsed": false
   },
   "outputs": [],
   "source": [
    "data_path = \"../../../data/census/\""
   ]
  },
  {
   "cell_type": "code",
   "execution_count": 5,
   "metadata": {
    "collapsed": false
   },
   "outputs": [],
   "source": [
    "def get_spectrum(args):\n",
    "    X_train, X_test, Y_train, Y_test = load_census_data(args.data_path)\n",
    "    kernel = GaussianKernel(sigma=args.sigma)\n",
    "    kernel_mat_exact_train = kernel.get_kernel_matrix(X_train, X_train)\n",
    "    kernel_mat_exact_test = kernel.get_kernel_matrix(X_test, X_train)\n",
    "    n_input_feat = X_train.shape[1]\n",
    "    assert X_train.shape[1] == X_test.shape[1]\n",
    "    if args.exact_kernel:\n",
    "        print \"exact kernel\"\n",
    "        kernel = kernel\n",
    "        quantizer_train = None\n",
    "        quantizer_test = None\n",
    "        config_name = \"exact_kernel_lambda_\" + str(args.reg_lambda) + \"_sigma_\" + str(args.sigma)\n",
    "    elif args.do_fp:\n",
    "        print \"full precision rff\"\n",
    "        kernel = RFF(args.n_fp_rff, n_input_feat, kernel, rand_seed=args.random_seed)\n",
    "        quantizer_train = None\n",
    "        quantizer_test = None\n",
    "        config_name = \"fp_rff_lambda_\" + str(args.reg_lambda) + \"_sigma_\" \\\n",
    "          + str(args.sigma) + \"_n_fp_rff_\" + str(args.n_fp_rff)\n",
    "    else:\n",
    "        print \"low precsion rff with nbit = \", args.n_bit\n",
    "        n_quantized_rff = int(np.floor(args.n_fp_rff / float(args.n_bit) * 32.0) )\n",
    "        min_val = -np.sqrt(2.0/float(n_quantized_rff) )\n",
    "        max_val = np.sqrt(2.0/float(n_quantized_rff) )\n",
    "        quantizer_train = Quantizer(args.n_bit, min_val, max_val, rand_seed=args.random_seed)\n",
    "        if not args.test_var_reduce:\n",
    "            quantizer_test = quantizer_train\n",
    "        else:\n",
    "            quantizer_test = None\n",
    "        kernel = RFF(n_quantized_rff, n_input_feat, kernel, rand_seed=args.random_seed)\n",
    "        config_name = \"lp_rff_lambda_\" + str(args.reg_lambda) + \"_sigma_\" \\\n",
    "          + str(args.sigma) + \"_n_fp_rff_\" + str(args.n_fp_rff) + \"_nbit_\" + str(args.n_bit) \n",
    "\n",
    "    regressor = KernelRidgeRegression(kernel, reg_lambda=args.reg_lambda)\n",
    "    print(\"start to do regression!\")\n",
    "    # print(\"test quantizer\", quantizer)\n",
    "    regressor.fit(X_train, Y_train, quantizer=quantizer_train)\n",
    "    print(\"finish regression!\")\n",
    "    \n",
    "    kernel_mat = regressor.kernel_mat\n",
    "    _, s, _ = np.linalg.svd(kernel_mat.cpu().numpy().astype(np.float64), full_matrices=True)\n",
    "    return s"
   ]
  },
  {
   "cell_type": "markdown",
   "metadata": {},
   "source": [
    "### exact kernel"
   ]
  },
  {
   "cell_type": "code",
   "execution_count": 6,
   "metadata": {
    "collapsed": false
   },
   "outputs": [
    {
     "name": "stdout",
     "output_type": "stream",
     "text": [
      "('using sigma ', 30.0)\n",
      "('using sigma ', 30.0)\n",
      "exact kernel\n",
      "start to do regression!\n",
      "('using sigma ', 30.0)\n"
     ]
    },
    {
     "ename": "KeyboardInterrupt",
     "evalue": "",
     "output_type": "error",
     "traceback": [
      "\u001b[0;31m---------------------------------------------------------------------------\u001b[0m",
      "\u001b[0;31mKeyboardInterrupt\u001b[0m                         Traceback (most recent call last)",
      "\u001b[0;32m<ipython-input-6-2f319e385061>\u001b[0m in \u001b[0;36m<module>\u001b[0;34m()\u001b[0m\n\u001b[1;32m      3\u001b[0m             \u001b[0msigma\u001b[0m\u001b[0;34m=\u001b[0m\u001b[0;36m30.0\u001b[0m\u001b[0;34m,\u001b[0m \u001b[0mrandom_seed\u001b[0m\u001b[0;34m=\u001b[0m\u001b[0;36m1\u001b[0m\u001b[0;34m,\u001b[0m\u001b[0;34m\u001b[0m\u001b[0m\n\u001b[1;32m      4\u001b[0m             data_path=data_path, do_fp=False)\n\u001b[0;32m----> 5\u001b[0;31m \u001b[0ms_exact\u001b[0m \u001b[0;34m=\u001b[0m \u001b[0mget_spectrum\u001b[0m\u001b[0;34m(\u001b[0m\u001b[0margs\u001b[0m\u001b[0;34m)\u001b[0m\u001b[0;34m\u001b[0m\u001b[0m\n\u001b[0m\u001b[1;32m      6\u001b[0m \u001b[0;32mwith\u001b[0m \u001b[0mopen\u001b[0m\u001b[0;34m(\u001b[0m\u001b[0;34m\"../multi_seed_results/spectrum/s_exact_64b_svd.npy\"\u001b[0m\u001b[0;34m,\u001b[0m \u001b[0;34m\"wb\"\u001b[0m\u001b[0;34m)\u001b[0m \u001b[0;32mas\u001b[0m \u001b[0mf\u001b[0m\u001b[0;34m:\u001b[0m\u001b[0;34m\u001b[0m\u001b[0m\n\u001b[1;32m      7\u001b[0m     \u001b[0mnp\u001b[0m\u001b[0;34m.\u001b[0m\u001b[0msave\u001b[0m\u001b[0;34m(\u001b[0m\u001b[0mf\u001b[0m\u001b[0;34m,\u001b[0m \u001b[0ms_exact\u001b[0m\u001b[0;34m)\u001b[0m\u001b[0;34m\u001b[0m\u001b[0m\n",
      "\u001b[0;32m<ipython-input-5-c9c01123ccbc>\u001b[0m in \u001b[0;36mget_spectrum\u001b[0;34m(args)\u001b[0m\n\u001b[1;32m     34\u001b[0m     \u001b[0;32mprint\u001b[0m\u001b[0;34m(\u001b[0m\u001b[0;34m\"start to do regression!\"\u001b[0m\u001b[0;34m)\u001b[0m\u001b[0;34m\u001b[0m\u001b[0m\n\u001b[1;32m     35\u001b[0m     \u001b[0;31m# print(\"test quantizer\", quantizer)\u001b[0m\u001b[0;34m\u001b[0m\u001b[0;34m\u001b[0m\u001b[0m\n\u001b[0;32m---> 36\u001b[0;31m     \u001b[0mregressor\u001b[0m\u001b[0;34m.\u001b[0m\u001b[0mfit\u001b[0m\u001b[0;34m(\u001b[0m\u001b[0mX_train\u001b[0m\u001b[0;34m,\u001b[0m \u001b[0mY_train\u001b[0m\u001b[0;34m,\u001b[0m \u001b[0mquantizer\u001b[0m\u001b[0;34m=\u001b[0m\u001b[0mquantizer_train\u001b[0m\u001b[0;34m)\u001b[0m\u001b[0;34m\u001b[0m\u001b[0m\n\u001b[0m\u001b[1;32m     37\u001b[0m     \u001b[0;32mprint\u001b[0m\u001b[0;34m(\u001b[0m\u001b[0;34m\"finish regression!\"\u001b[0m\u001b[0;34m)\u001b[0m\u001b[0;34m\u001b[0m\u001b[0m\n\u001b[1;32m     38\u001b[0m \u001b[0;34m\u001b[0m\u001b[0m\n",
      "\u001b[0;32m/Users/Jian/Data/research/lp_kernel/lp_kernel/kernel_reg/kernel_regressor.pyc\u001b[0m in \u001b[0;36mfit\u001b[0;34m(self, X_train, Y_train, kernel_mat, quantizer)\u001b[0m\n\u001b[1;32m     50\u001b[0m   \u001b[0;32mdef\u001b[0m \u001b[0mfit\u001b[0m\u001b[0;34m(\u001b[0m\u001b[0mself\u001b[0m\u001b[0;34m,\u001b[0m \u001b[0mX_train\u001b[0m\u001b[0;34m=\u001b[0m\u001b[0mNone\u001b[0m\u001b[0;34m,\u001b[0m \u001b[0mY_train\u001b[0m\u001b[0;34m=\u001b[0m\u001b[0mNone\u001b[0m\u001b[0;34m,\u001b[0m \u001b[0mkernel_mat\u001b[0m\u001b[0;34m=\u001b[0m\u001b[0mNone\u001b[0m\u001b[0;34m,\u001b[0m \u001b[0mquantizer\u001b[0m\u001b[0;34m=\u001b[0m\u001b[0mNone\u001b[0m\u001b[0;34m)\u001b[0m\u001b[0;34m:\u001b[0m\u001b[0;34m\u001b[0m\u001b[0m\n\u001b[1;32m     51\u001b[0m     \u001b[0mself\u001b[0m\u001b[0;34m.\u001b[0m\u001b[0mX_train\u001b[0m\u001b[0;34m,\u001b[0m \u001b[0mself\u001b[0m\u001b[0;34m.\u001b[0m\u001b[0mY_train\u001b[0m \u001b[0;34m=\u001b[0m \u001b[0mX_train\u001b[0m\u001b[0;34m,\u001b[0m \u001b[0mY_train\u001b[0m\u001b[0;34m\u001b[0m\u001b[0m\n\u001b[0;32m---> 52\u001b[0;31m     \u001b[0mself\u001b[0m\u001b[0;34m.\u001b[0m\u001b[0mkernel_mat\u001b[0m \u001b[0;34m=\u001b[0m \u001b[0mself\u001b[0m\u001b[0;34m.\u001b[0m\u001b[0mkernel\u001b[0m\u001b[0;34m.\u001b[0m\u001b[0mget_kernel_matrix\u001b[0m\u001b[0;34m(\u001b[0m\u001b[0mX_train\u001b[0m\u001b[0;34m,\u001b[0m \u001b[0mX_train\u001b[0m\u001b[0;34m,\u001b[0m \u001b[0mquantizer\u001b[0m\u001b[0;34m,\u001b[0m \u001b[0mquantizer\u001b[0m\u001b[0;34m)\u001b[0m\u001b[0;34m\u001b[0m\u001b[0m\n\u001b[0m\u001b[1;32m     53\u001b[0m     \u001b[0mn_sample\u001b[0m \u001b[0;34m=\u001b[0m \u001b[0mself\u001b[0m\u001b[0;34m.\u001b[0m\u001b[0mkernel_mat\u001b[0m\u001b[0;34m.\u001b[0m\u001b[0msize\u001b[0m\u001b[0;34m(\u001b[0m\u001b[0;36m0\u001b[0m\u001b[0;34m)\u001b[0m\u001b[0;34m\u001b[0m\u001b[0m\n\u001b[1;32m     54\u001b[0m \u001b[0;34m\u001b[0m\u001b[0m\n",
      "\u001b[0;32m/Users/Jian/Data/research/lp_kernel/lp_kernel/kernel_reg/rff.pyc\u001b[0m in \u001b[0;36mget_kernel_matrix\u001b[0;34m(self, X1, X2, quantizer1, quantizer2)\u001b[0m\n\u001b[1;32m     23\u001b[0m     kernel = np.exp(-0.5 / float(self.sigma)**2 \\\n\u001b[1;32m     24\u001b[0m       * (np.tile(norms_X1**2, (1, n_sample_X2) ) + np.tile( (norms_X2.T)**2, (n_sample_X1, 1) ) \\\n\u001b[0;32m---> 25\u001b[0;31m       -2 * cross) )\n\u001b[0m\u001b[1;32m     26\u001b[0m     \u001b[0;32mreturn\u001b[0m \u001b[0mtorch\u001b[0m\u001b[0;34m.\u001b[0m\u001b[0mDoubleTensor\u001b[0m\u001b[0;34m(\u001b[0m\u001b[0mkernel\u001b[0m\u001b[0;34m)\u001b[0m\u001b[0;34m\u001b[0m\u001b[0m\n\u001b[1;32m     27\u001b[0m \u001b[0;34m\u001b[0m\u001b[0m\n",
      "\u001b[0;31mKeyboardInterrupt\u001b[0m: "
     ]
    }
   ],
   "source": [
    "args = Args(n_fp_rff=4096, n_bit=8, \n",
    "            exact_kernel=True, reg_lambda=1e-3, \n",
    "            sigma=30.0, random_seed=1, \n",
    "            data_path=data_path, do_fp=False)\n",
    "s_exact = get_spectrum(args)\n",
    "with open(\"../multi_seed_results/spectrum/s_exact_64b_svd.npy\", \"wb\") as f:\n",
    "    np.save(f, s_exact)\n",
    "# print s_exact"
   ]
  },
  {
   "cell_type": "markdown",
   "metadata": {},
   "source": [
    "### 1024 feature full precision"
   ]
  },
  {
   "cell_type": "code",
   "execution_count": 7,
   "metadata": {
    "collapsed": false
   },
   "outputs": [
    {
     "name": "stdout",
     "output_type": "stream",
     "text": [
      "('using sigma ', 30.0)\n",
      "('using sigma ', 30.0)\n",
      "full precision rff\n",
      "('using sigma ', 0.03333333333333333, 'using rand seed ', 1)\n",
      "('using n rff features ', 4096)\n",
      "start to do regression!\n",
      "('using regularior strength ', 0.001)\n",
      "finish regression!\n",
      "0.0\n"
     ]
    }
   ],
   "source": [
    "args = Args(n_fp_rff=4096, n_bit=8, \n",
    "            exact_kernel=False, reg_lambda=1e-3, \n",
    "            sigma=30.0, random_seed=1, \n",
    "            data_path=data_path, do_fp=True)\n",
    "s_fp = get_spectrum(args)\n",
    "with open(\"../multi_seed_results/spectrum/s_4096_feat_fp_64b_svd.npy\", \"wb\") as f:\n",
    "    np.save(f, s_fp)\n",
    "with open(\"../multi_seed_results/spectrum/s_4096_feat_fp_64b_svd.npy\", \"rb\") as f:\n",
    "    test = np.load(f)\n",
    "print np.sum(s_fp - test)"
   ]
  },
  {
   "cell_type": "markdown",
   "metadata": {},
   "source": [
    "### 1024 feature 8 --> 1 bit"
   ]
  },
  {
   "cell_type": "code",
   "execution_count": null,
   "metadata": {
    "collapsed": false
   },
   "outputs": [
    {
     "name": "stdout",
     "output_type": "stream",
     "text": [
      "('using sigma ', 30.0)\n",
      "('using sigma ', 30.0)\n",
      "low precsion rff with nbit =  8\n",
      "('using sigma ', 0.03333333333333333, 'using rand seed ', 1)\n",
      "('using n rff features ', 16384)\n",
      "start to do regression!\n",
      "('quantization 1 activated ', (5456, 119))\n",
      "('quantizer 1 bits', 8)\n",
      "('quantizer 1 scale', 8.6655242792469062e-05)\n",
      "('quantizer using random seed', 1)\n",
      "('quantization 2 activated ', (5456, 119))\n",
      "('quantizer 2 bits', 8)\n",
      "('quantizer 2 scale', 8.6655242792469062e-05)\n",
      "('quantizer using random seed', 1)\n",
      "('using regularior strength ', 0.001)\n",
      "finish regression!\n"
     ]
    }
   ],
   "source": [
    "args = Args(n_fp_rff=4096, n_bit=8, \n",
    "            exact_kernel=False, reg_lambda=1e-3, \n",
    "            sigma=30.0, random_seed=1, \n",
    "            data_path=data_path, do_fp=False)\n",
    "s_8 = get_spectrum(args)\n",
    "with open(\"../multi_seed_results/spectrum/s_4096_feat_8_bit_64b_svd.npy\", \"wb\") as f:\n",
    "    np.save(f, s_8)\n",
    "# print s_fp"
   ]
  },
  {
   "cell_type": "code",
   "execution_count": 7,
   "metadata": {
    "collapsed": false
   },
   "outputs": [
    {
     "name": "stdout",
     "output_type": "stream",
     "text": [
      "('using sigma ', 30.0)\n",
      "('using sigma ', 30.0)\n",
      "low precsion rff with nbit =  4\n",
      "('using sigma ', 0.03333333333333333, 'using rand seed ', 1)\n",
      "('using n rff features ', 32768)\n",
      "start to do regression!\n",
      "('quantization 1 activated ', (5456, 119))\n",
      "('quantizer 1 bits', 4)\n",
      "('quantizer 1 scale', 0.0010416666666666667)\n",
      "('quantizer using random seed', 1)\n",
      "('quantization 2 activated ', (5456, 119))\n",
      "('quantizer 2 bits', 4)\n",
      "('quantizer 2 scale', 0.0010416666666666667)\n",
      "('quantizer using random seed', 1)\n",
      "('using regularior strength ', 0.001)\n",
      "finish regression!\n"
     ]
    }
   ],
   "source": [
    "args = Args(n_fp_rff=4096, n_bit=4, \n",
    "            exact_kernel=False, reg_lambda=1e-3, \n",
    "            sigma=30.0, random_seed=1, \n",
    "            data_path=data_path, do_fp=False)\n",
    "s_4 = get_spectrum(args)\n",
    "with open(\"../multi_seed_results/spectrum/s_4096_feat_4_bit_64b_svd.npy\", \"wb\") as f:\n",
    "    np.save(f, s_4)\n",
    "# print s_fp"
   ]
  },
  {
   "cell_type": "code",
   "execution_count": null,
   "metadata": {
    "collapsed": false
   },
   "outputs": [
    {
     "name": "stdout",
     "output_type": "stream",
     "text": [
      "('using sigma ', 30.0)\n",
      "('using sigma ', 30.0)\n",
      "low precsion rff with nbit =  2\n",
      "('using sigma ', 0.03333333333333333, 'using rand seed ', 1)\n",
      "('using n rff features ', 65536)\n",
      "start to do regression!\n",
      "('quantization 1 activated ', (5456, 119))\n",
      "('quantizer 1 bits', 2)\n",
      "('quantizer 1 scale', 0.0036828478186799354)\n"
     ]
    }
   ],
   "source": [
    "args = Args(n_fp_rff=4096, n_bit=2, \n",
    "            exact_kernel=False, reg_lambda=1e-3, \n",
    "            sigma=30.0, random_seed=1, \n",
    "            data_path=data_path, do_fp=False)\n",
    "s_2 = get_spectrum(args)\n",
    "with open(\"../multi_seed_results/spectrum/s_4096_feat_2_bit_64b_svd.npy\", \"wb\") as f:\n",
    "    np.save(f, s_2)\n",
    "# print s_fp"
   ]
  },
  {
   "cell_type": "code",
   "execution_count": null,
   "metadata": {
    "collapsed": false
   },
   "outputs": [],
   "source": [
    "args = Args(n_fp_rff=4096, n_bit=1, \n",
    "            exact_kernel=False, reg_lambda=1e-3, \n",
    "            sigma=30.0, random_seed=1, \n",
    "            data_path=data_path, do_fp=False)\n",
    "s_1 = get_spectrum(args)\n",
    "with open(\"../multi_seed_results/spectrum/s_4096_feat_1_bit_64b_svd.npy\", \"wb\") as f:\n",
    "    np.save(f, s_1)\n",
    "# print s_fp"
   ]
  },
  {
   "cell_type": "code",
   "execution_count": 6,
   "metadata": {
    "collapsed": false
   },
   "outputs": [
    {
     "name": "stdout",
     "output_type": "stream",
     "text": [
      "('using sigma ', 30.0)\n",
      "('using sigma ', 30.0)\n",
      "low precsion rff with nbit =  16\n",
      "('using sigma ', 0.03333333333333333, 'using rand seed ', 1)\n",
      "('using n rff features ', 8192)\n",
      "start to do regression!\n",
      "('quantization 1 activated ', (5456, 119))\n",
      "('quantizer 1 bits', 16)\n",
      "('quantizer 1 scale', 4.7684443427176318e-07)\n",
      "('quantizer using random seed', 1)\n",
      "('quantization 2 activated ', (5456, 119))\n",
      "('quantizer 2 bits', 16)\n",
      "('quantizer 2 scale', 4.7684443427176318e-07)\n",
      "('quantizer using random seed', 1)\n",
      "('using regularior strength ', 0.001)\n",
      "finish regression!\n"
     ]
    }
   ],
   "source": [
    "args = Args(n_fp_rff=4096, n_bit=16, \n",
    "            exact_kernel=False, reg_lambda=1e-3, \n",
    "            sigma=30.0, random_seed=1, \n",
    "            data_path=data_path, do_fp=False)\n",
    "s_16 = get_spectrum(args)\n",
    "with open(\"../multi_seed_results/spectrum/s_4096_feat_16_bit_64b_svd.npy\", \"wb\") as f:\n",
    "    np.save(f, s_16)\n",
    "# print s_fp"
   ]
  },
  {
   "cell_type": "code",
   "execution_count": 7,
   "metadata": {
    "collapsed": false
   },
   "outputs": [
    {
     "name": "stdout",
     "output_type": "stream",
     "text": [
      "('using sigma ', 30.0)\n",
      "('using sigma ', 30.0)\n",
      "low precsion rff with nbit =  32\n",
      "('using sigma ', 0.03333333333333333, 'using rand seed ', 1)\n",
      "('using n rff features ', 4096)\n",
      "start to do regression!\n",
      "('quantization 1 activated ', (5456, 119))\n",
      "('quantizer 1 bits', 32)\n",
      "('quantizer 1 scale', 1.0289757939625759e-11)\n",
      "('quantizer using random seed', 1)\n",
      "('quantization 2 activated ', (5456, 119))\n",
      "('quantizer 2 bits', 32)\n",
      "('quantizer 2 scale', 1.0289757939625759e-11)\n",
      "('quantizer using random seed', 1)\n",
      "('using regularior strength ', 0.001)\n",
      "finish regression!\n"
     ]
    }
   ],
   "source": [
    "args = Args(n_fp_rff=4096, n_bit=32, \n",
    "            exact_kernel=False, reg_lambda=1e-3, \n",
    "            sigma=30.0, random_seed=1, \n",
    "            data_path=data_path, do_fp=False)\n",
    "s_32 = get_spectrum(args)\n",
    "with open(\"../multi_seed_results/spectrum/s_4096_feat_32_bit_64b_svd.npy\", \"wb\") as f:\n",
    "    np.save(f, s_32)\n",
    "# print s_fp"
   ]
  },
  {
   "cell_type": "code",
   "execution_count": 8,
   "metadata": {
    "collapsed": false
   },
   "outputs": [],
   "source": [
    "with open(\"../multi_seed_results/spectrum/s_4096_feat_32_bit_64b_svd.npy\", \"rb\") as f:\n",
    "    s_32 = np.load(f)\n",
    "with open(\"../multi_seed_results/spectrum/s_4096_feat_16_bit_64b_svd.npy\", \"rb\") as f:\n",
    "    s_16 = np.load(f)\n",
    "with open(\"../multi_seed_results/spectrum/s_4096_feat_8_bit_64b_svd.npy\", \"rb\") as f:\n",
    "    s_8 = np.load(f)\n",
    "with open(\"../multi_seed_results/spectrum/s_4096_feat_4_bit_64b_svd.npy\", \"rb\") as f:\n",
    "    s_4 = np.load(f)\n",
    "# with open(\"../multi_seed_results/spectrum/s_4096_feat_2_bit_64b_svd.npy\", \"rb\") as f:\n",
    "#     s_2 = np.load(f)\n",
    "# with open(\"../multi_seed_results/spectrum/s_4096_feat_1_bit_64b_svd.npy\", \"rb\") as f:\n",
    "#     s_1 = np.load(f)\n",
    "with open(\"../multi_seed_results/spectrum/s_4096_feat_fp_64b_svd.npy\", \"rb\") as f:\n",
    "    s_fp = np.load(f)\n",
    "with open(\"../multi_seed_results/spectrum/s_exact_64b_svd.npy\", \"rb\") as f:\n",
    "    s_exact = np.load(f)"
   ]
  },
  {
   "cell_type": "code",
   "execution_count": 10,
   "metadata": {
    "collapsed": false
   },
   "outputs": [
    {
     "data": {
      "image/png": "[encoded data removed]",
      "text/plain": [
       "<matplotlib.figure.Figure at 0x11851d750>"
      ]
     },
     "metadata": {},
     "output_type": "display_data"
    }
   ],
   "source": [
    "plt.figure()\n",
    "plt.semilogy(s_exact, label=\"exact\")\n",
    "plt.semilogy(s_fp, label=\"fp\")\n",
    "plt.semilogy(s_32, label=\"32 bit\")\n",
    "plt.semilogy(s_16, label=\"16 bit\")\n",
    "plt.semilogy(s_8, label=\"8 bit\")\n",
    "plt.semilogy(s_4, label=\"4 bit\")\n",
    "# plt.semilogy(s_2, label=\"2 bit\")\n",
    "# plt.semilogy(s_1, label=\"1 bit\")\n",
    "plt.grid()\n",
    "plt.ylim([1e-13, 1e2])\n",
    "plt.legend()\n",
    "plt.show()"
   ]
  },
  {
   "cell_type": "code",
   "execution_count": 11,
   "metadata": {
    "collapsed": false
   },
   "outputs": [
    {
     "data": {
      "image/png": "[encoded data removed]",
      "text/plain": [
       "<matplotlib.figure.Figure at 0x118736710>"
      ]
     },
     "metadata": {},
     "output_type": "display_data"
    }
   ],
   "source": [
    "plt.figure()\n",
    "plt.semilogy(s_exact, label=\"exact\")\n",
    "plt.semilogy(s_fp, label=\"fp\")\n",
    "plt.semilogy(s_32 - 2.0 * (1/ float(2**32 - 1) )**2, label=\"32 bit\")\n",
    "plt.semilogy(s_16 - 2.0 * (1/ float(2**16 - 1) )**2, label=\"16 bit\")\n",
    "plt.semilogy(s_8 - 2.0 * (1/ float(2**8 - 1) )**2, label=\"8 bit\")\n",
    "plt.semilogy(s_4 - 2.0 * (1/ float(2**4 - 1) )**2, label=\"4 bit\")\n",
    "# plt.semilogy(s_2 - 2.0 * (1/ float(2**2 - 1) )**2, label=\"2 bit\")\n",
    "# plt.semilogy(s_1 - 2.0 * (1/ float(2**1 - 1) )**2, label=\"1 bit\")\n",
    "plt.grid()\n",
    "plt.ylim([1e-13, 1e2])\n",
    "plt.legend()\n",
    "plt.show()"
   ]
  },
  {
   "cell_type": "code",
   "execution_count": null,
   "metadata": {
    "collapsed": true
   },
   "outputs": [],
   "source": []
  },
  {
   "cell_type": "code",
   "execution_count": null,
   "metadata": {
    "collapsed": true
   },
   "outputs": [],
   "source": []
  },
  {
   "cell_type": "code",
   "execution_count": null,
   "metadata": {
    "collapsed": true
   },
   "outputs": [],
   "source": []
  },
  {
   "cell_type": "code",
   "execution_count": null,
   "metadata": {
    "collapsed": true
   },
   "outputs": [],
   "source": []
  },
  {
   "cell_type": "code",
   "execution_count": null,
   "metadata": {
    "collapsed": true
   },
   "outputs": [],
   "source": []
  },
  {
   "cell_type": "code",
   "execution_count": 63,
   "metadata": {
    "collapsed": false
   },
   "outputs": [
    {
     "name": "stdout",
     "output_type": "stream",
     "text": [
      "[  4.87422412e+03   9.92007523e+01   7.62955627e+01 ...,   6.18245899e-09\n",
      "   4.54027393e-09   9.55269891e-11]\n"
     ]
    },
    {
     "data": {
      "image/png": "[encoded data removed]",
      "text/plain": [
       "<matplotlib.figure.Figure at 0x116caa050>"
      ]
     },
     "metadata": {},
     "output_type": "display_data"
    }
   ],
   "source": [
    "print s_exact\n",
    "plt.figure()\n",
    "_ = plt.hist(np.log(s_exact),bins=100)\n",
    "plt.show()"
   ]
  },
  {
   "cell_type": "code",
   "execution_count": 64,
   "metadata": {
    "collapsed": false
   },
   "outputs": [
    {
     "name": "stdout",
     "output_type": "stream",
     "text": [
      "[  4.91943018e+03   9.44061584e+01   7.50994568e+01 ...,   5.08956521e-09\n",
      "   1.77728610e-09   6.45129228e-10]\n"
     ]
    },
    {
     "data": {
      "image/png": "[encoded data removed]",
      "text/plain": [
       "<matplotlib.figure.Figure at 0x116e1c810>"
      ]
     },
     "metadata": {},
     "output_type": "display_data"
    }
   ],
   "source": [
    "print s_fp\n",
    "plt.figure()\n",
    "_ = plt.hist(np.log(s_fp),bins=100)\n",
    "plt.show()"
   ]
  },
  {
   "cell_type": "code",
   "execution_count": 65,
   "metadata": {
    "collapsed": false
   },
   "outputs": [
    {
     "name": "stdout",
     "output_type": "stream",
     "text": [
      "[  4.91645361e+03   9.36679001e+01   7.49424515e+01 ...,   7.11879355e-09\n",
      "   4.05118605e-09   1.58812061e-10]\n"
     ]
    },
    {
     "data": {
      "image/png": "[encoded data removed]",
      "text/plain": [
       "<matplotlib.figure.Figure at 0x116b0b2d0>"
      ]
     },
     "metadata": {},
     "output_type": "display_data"
    }
   ],
   "source": [
    "print s_32\n",
    "plt.figure()\n",
    "_ = plt.hist(np.log(s_32),bins=100)\n",
    "plt.show()"
   ]
  },
  {
   "cell_type": "code",
   "execution_count": 66,
   "metadata": {
    "collapsed": false
   },
   "outputs": [
    {
     "name": "stdout",
     "output_type": "stream",
     "text": [
      "[  4.92021826e+03   1.01921707e+02   7.65205460e+01 ...,   5.46681189e-09\n",
      "   2.72107203e-09   2.38553488e-09]\n"
     ]
    },
    {
     "data": {
      "image/png": "[encoded data removed]",
      "text/plain": [
       "<matplotlib.figure.Figure at 0x116e860d0>"
      ]
     },
     "metadata": {},
     "output_type": "display_data"
    }
   ],
   "source": [
    "print s_16\n",
    "plt.figure()\n",
    "_ = plt.hist(np.log(s_16),bins=100)\n",
    "plt.show()"
   ]
  },
  {
   "cell_type": "code",
   "execution_count": 67,
   "metadata": {
    "collapsed": false
   },
   "outputs": [
    {
     "name": "stdout",
     "output_type": "stream",
     "text": [
      "[  4.79986670e+03   1.01274628e+02   8.09237747e+01 ...,   8.57396820e-09\n",
      "   4.08398204e-09   2.19324470e-09]\n"
     ]
    },
    {
     "data": {
      "image/png": "[encoded data removed]",
      "text/plain": [
       "<matplotlib.figure.Figure at 0x116a76450>"
      ]
     },
     "metadata": {},
     "output_type": "display_data"
    }
   ],
   "source": [
    "print s_8\n",
    "plt.figure()\n",
    "_ = plt.hist(np.log(s_8),bins=100)\n",
    "plt.show()"
   ]
  },
  {
   "cell_type": "code",
   "execution_count": 68,
   "metadata": {
    "collapsed": false
   },
   "outputs": [
    {
     "name": "stdout",
     "output_type": "stream",
     "text": [
      "[  4.85707031e+03   1.03042534e+02   7.59866028e+01 ...,   2.21095950e-04\n",
      "   2.13861917e-04   2.10738741e-04]\n"
     ]
    },
    {
     "data": {
      "image/png": "[encoded data removed]",
      "text/plain": [
       "<matplotlib.figure.Figure at 0x116c4ec50>"
      ]
     },
     "metadata": {},
     "output_type": "display_data"
    }
   ],
   "source": [
    "print s_4\n",
    "plt.figure()\n",
    "_ = plt.hist(np.log(s_4),bins=100)\n",
    "plt.show()"
   ]
  },
  {
   "cell_type": "code",
   "execution_count": 69,
   "metadata": {
    "collapsed": false
   },
   "outputs": [
    {
     "name": "stdout",
     "output_type": "stream",
     "text": [
      "[  4.87785352e+03   1.00451416e+02   8.06810913e+01 ...,   2.18081549e-02\n",
      "   2.16992032e-02   2.16603465e-02]\n"
     ]
    },
    {
     "data": {
      "image/png": "[encoded data removed]",
      "text/plain": [
       "<matplotlib.figure.Figure at 0x116b4b850>"
      ]
     },
     "metadata": {},
     "output_type": "display_data"
    }
   ],
   "source": [
    "print s_2\n",
    "plt.figure()\n",
    "_ = plt.hist(np.log(s_2),bins=100)\n",
    "plt.show()"
   ]
  },
  {
   "cell_type": "code",
   "execution_count": 70,
   "metadata": {
    "collapsed": false
   },
   "outputs": [
    {
     "name": "stdout",
     "output_type": "stream",
     "text": [
      "[  4.87759912e+03   9.96477737e+01   7.62121658e+01 ...,   3.01866204e-01\n",
      "   3.01712364e-01   3.00460875e-01]\n"
     ]
    },
    {
     "data": {
      "image/png": "[encoded data removed]",
      "text/plain": [
       "<matplotlib.figure.Figure at 0x118b78550>"
      ]
     },
     "metadata": {},
     "output_type": "display_data"
    }
   ],
   "source": [
    "print s_1\n",
    "plt.figure()\n",
    "_ = plt.hist(np.log(s_1),bins=100)\n",
    "plt.show()"
   ]
  },
  {
   "cell_type": "markdown",
   "metadata": {},
   "source": [
    "# Below are old cold"
   ]
  },
  {
   "cell_type": "code",
   "execution_count": 56,
   "metadata": {
    "collapsed": false
   },
   "outputs": [
    {
     "data": {
      "text/plain": [
       "(array([ 18.,   0.,   0.,   0.,   0.,   0.,   0.,   0.,   0.,   1.]),\n",
       " array([  7.01975496e-03,   1.65006816e+00,   3.29311657e+00,\n",
       "          4.93616497e+00,   6.57921338e+00,   8.22226178e+00,\n",
       "          9.86531019e+00,   1.15083586e+01,   1.31514070e+01,\n",
       "          1.47944554e+01,   1.64375038e+01]),\n",
       " <a list of 10 Patch objects>)"
      ]
     },
     "execution_count": 56,
     "metadata": {},
     "output_type": "execute_result"
    },
    {
     "data": {
      "image/png": "[encoded data removed]",
      "text/plain": [
       "<matplotlib.figure.Figure at 0x114e31fd0>"
      ]
     },
     "metadata": {},
     "output_type": "display_data"
    }
   ],
   "source": [
    "plt.hist(s)"
   ]
  },
  {
   "cell_type": "code",
   "execution_count": null,
   "metadata": {
    "collapsed": true
   },
   "outputs": [],
   "source": []
  },
  {
   "cell_type": "code",
   "execution_count": null,
   "metadata": {
    "collapsed": true
   },
   "outputs": [],
   "source": []
  }
 ],
 "metadata": {
  "anaconda-cloud": {},
  "kernelspec": {
   "display_name": "Python [conda env:pytorch_2.0]",
   "language": "python",
   "name": "conda-env-pytorch_2.0-py"
  },
  "language_info": {
   "codemirror_mode": {
    "name": "ipython",
    "version": 2
   },
   "file_extension": ".py",
   "mimetype": "text/x-python",
   "name": "python",
   "nbconvert_exporter": "python",
   "pygments_lexer": "ipython2",
   "version": "2.7.13"
  }
 },
 "nbformat": 4,
 "nbformat_minor": 1
}
