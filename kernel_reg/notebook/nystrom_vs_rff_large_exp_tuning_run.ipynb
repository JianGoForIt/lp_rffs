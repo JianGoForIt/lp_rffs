{
 "cells": [
  {
   "cell_type": "code",
   "execution_count": 15,
   "metadata": {
    "collapsed": true
   },
   "outputs": [],
   "source": [
    "%matplotlib inline\n",
    "import numpy as np\n",
    "import matplotlib.pyplot as plt\n",
    "import cPickle as cp\n",
    "import sys\n",
    "import os\n",
    "from plotting_performance_vs_metric import get_performance_metric\n",
    "import math"
   ]
  },
  {
   "cell_type": "code",
   "execution_count": 16,
   "metadata": {
    "collapsed": true
   },
   "outputs": [],
   "source": [
    "def get_top_level_subfolder_list(folder):\n",
    "    if (sys.version_info > (3, 0) ) :\n",
    "        subfolders = os.walk(folder).next()[1]        \n",
    "    else:\n",
    "        subfolders = os.walk(folder).next()[1]\n",
    "    return subfolders"
   ]
  },
  {
   "cell_type": "code",
   "execution_count": 17,
   "metadata": {
    "collapsed": true
   },
   "outputs": [],
   "source": [
    "general_folder = \"/dfs/scratch0/zjian/lp_kernel/nystrom_vs_rff_large_exp/lr_tuning_run\"\n",
    "subfolders = get_top_level_subfolder_list(general_folder)"
   ]
  },
  {
   "cell_type": "code",
   "execution_count": 18,
   "metadata": {
    "collapsed": true
   },
   "outputs": [],
   "source": [
    "def get_performance_metric(folder_name, file_name, min_best=True):\n",
    "#     print folder_name\n",
    "    if os.path.isfile(folder_name + \"/\" + file_name):\n",
    "        with open(folder_name + \"/\" + file_name, \"r\") as f:\n",
    "            metrics = np.loadtxt(f)\n",
    "        if min_best:\n",
    "            metric = np.nanmin(metrics)\n",
    "        else:\n",
    "            metric = np.nanmax(metrics)\n",
    "    else:\n",
    "        print folder_name, file_name, \" is not found.\"\n",
    "        metric = None\n",
    "    return metric"
   ]
  },
  {
   "cell_type": "code",
   "execution_count": 19,
   "metadata": {
    "scrolled": false
   },
   "outputs": [
    {
     "name": "stdout",
     "output_type": "stream",
     "text": [
      "[('census_type_nystrom_l2_reg_0_n_fp_feat_20000_opt_sgd_lr_0.1_seed_1', 14130.535201963025), ('census_type_nystrom_l2_reg_0_n_fp_feat_20000_opt_sgd_lr_0.05_seed_1', 19005.5635034229), ('census_type_nystrom_l2_reg_0_n_fp_feat_20000_opt_sgd_lr_0.5_seed_1', 9242.77364605289), ('census_type_nystrom_l2_reg_0_n_fp_feat_20000_opt_sgd_lr_0.01_seed_1', 27663.970660099476), ('census_type_nystrom_l2_reg_0_n_fp_feat_20000_opt_sgd_lr_1.0_seed_1', 1.7703024485487738e+29)]\n",
      "('census_type_nystrom_l2_reg_0_n_fp_feat_20000_opt_sgd_lr_0.5_seed_1', 9242.77364605289)\n"
     ]
    }
   ],
   "source": [
    "pattern = \"census\"\n",
    "perf_list = []\n",
    "for subfolder in subfolders:\n",
    "    if pattern in subfolder:\n",
    "        file_name = \"eval_metric.txt\"\n",
    "        perf = get_performance_metric(general_folder + \"/\" + subfolder, file_name, min_best=True)\n",
    "        perf_list.append( (subfolder, math.sqrt(perf) ) )\n",
    "        \n",
    "print perf_list\n",
    "perf_list = sorted(perf_list, key=lambda x: x[1])\n",
    "print perf_list[0]"
   ]
  },
  {
   "cell_type": "code",
   "execution_count": 21,
   "metadata": {},
   "outputs": [
    {
     "name": "stdout",
     "output_type": "stream",
     "text": [
      "[('yearpred_type_nystrom_l2_reg_0_n_fp_feat_20000_opt_sgd_lr_1.0_seed_1', nan), ('yearpred_type_nystrom_l2_reg_0_n_fp_feat_20000_opt_sgd_lr_0.5_seed_1', 9.020056428118844), ('yearpred_type_nystrom_l2_reg_0_n_fp_feat_20000_opt_sgd_lr_0.1_seed_1', 9.15495392395074), ('yearpred_type_nystrom_l2_reg_0_n_fp_feat_20000_opt_sgd_lr_0.05_seed_1', 9.229911083378386), ('yearpred_type_nystrom_l2_reg_0_n_fp_feat_20000_opt_sgd_lr_10.0_seed_1', nan), ('yearpred_type_nystrom_l2_reg_0_n_fp_feat_20000_opt_sgd_lr_5.0_seed_1', nan), ('yearpred_type_nystrom_l2_reg_0_n_fp_feat_20000_opt_sgd_lr_50.0_seed_1', nan)]\n",
      "('yearpred_type_nystrom_l2_reg_0_n_fp_feat_20000_opt_sgd_lr_1.0_seed_1', nan)\n"
     ]
    },
    {
     "name": "stderr",
     "output_type": "stream",
     "text": [
      "/lfs/1/zjian/anaconda2/lib/python2.7/site-packages/ipykernel_launcher.py:7: RuntimeWarning: All-NaN axis encountered\n",
      "  import sys\n"
     ]
    }
   ],
   "source": [
    "pattern = \"yearpred\"\n",
    "perf_list = []\n",
    "for subfolder in subfolders:\n",
    "    if pattern in subfolder:\n",
    "        file_name = \"eval_metric.txt\"\n",
    "        perf = get_performance_metric(general_folder + \"/\" + subfolder, file_name, min_best=True)\n",
    "        perf_list.append( (subfolder, math.sqrt(perf) ) )\n",
    "        \n",
    "perf_list = sorted(perf_list, key=lambda x: x[1])\n",
    "print perf_list\n",
    "print perf_list[0]"
   ]
  },
  {
   "cell_type": "code",
   "execution_count": 27,
   "metadata": {},
   "outputs": [
    {
     "name": "stdout",
     "output_type": "stream",
     "text": [
      "[('covtype_type_nystrom_l2_reg_0_n_fp_feat_20000_opt_sgd_lr_100.0_seed_1', 0.90639185903917729), ('covtype_type_nystrom_l2_reg_0_n_fp_feat_20000_opt_sgd_lr_50.0_seed_1', 0.90393924399216885), ('covtype_type_nystrom_l2_reg_0_n_fp_feat_20000_opt_sgd_lr_500.0_seed_1', 0.90294959230653382), ('covtype_type_nystrom_l2_reg_0_n_fp_feat_20000_opt_sgd_lr_5.0_seed_1', 0.89004109205912096), ('covtype_type_nystrom_l2_reg_0_n_fp_feat_20000_opt_sgd_lr_10.0_seed_1', 0.88926658204427611), ('covtype_type_nystrom_l2_reg_0_n_fp_feat_20000_opt_sgd_lr_1.0_seed_1', 0.86441771906800624), ('covtype_type_nystrom_l2_reg_0_n_fp_feat_20000_opt_sgd_lr_0.5_seed_1', 0.84909963210774297)]\n",
      "('covtype_type_nystrom_l2_reg_0_n_fp_feat_20000_opt_sgd_lr_100.0_seed_1', 0.90639185903917729)\n"
     ]
    }
   ],
   "source": [
    "pattern = \"covtype\"\n",
    "perf_list = []\n",
    "for subfolder in subfolders:\n",
    "    if pattern in subfolder:\n",
    "        file_name = \"eval_metric.txt\"\n",
    "        perf = get_performance_metric(general_folder + \"/\" + subfolder, file_name, min_best=False)\n",
    "        perf_list.append( (subfolder, perf) )\n",
    "        \n",
    "perf_list = sorted(perf_list, key=lambda x: -x[1])\n",
    "print perf_list\n",
    "print perf_list[0]"
   ]
  },
  {
   "cell_type": "code",
   "execution_count": 28,
   "metadata": {},
   "outputs": [
    {
     "name": "stdout",
     "output_type": "stream",
     "text": [
      "[('timit_type_nystrom_l2_reg_0_n_fp_feat_20000_opt_sgd_lr_100.0_seed_1', 0.6773965925823201), ('timit_type_nystrom_l2_reg_0_n_fp_feat_20000_opt_sgd_lr_50.0_seed_1', 0.67643399912713986), ('timit_type_nystrom_l2_reg_0_n_fp_feat_20000_opt_sgd_lr_10.0_seed_1', 0.6610569765592178), ('timit_type_nystrom_l2_reg_0_n_fp_feat_20000_opt_sgd_lr_5.0_seed_1', 0.65217338102793565), ('timit_type_nystrom_l2_reg_0_n_fp_feat_20000_opt_sgd_lr_1.0_seed_1', 0.61990202756443458)]\n",
      "('timit_type_nystrom_l2_reg_0_n_fp_feat_20000_opt_sgd_lr_100.0_seed_1', 0.6773965925823201)\n"
     ]
    }
   ],
   "source": [
    "pattern = \"timit\"\n",
    "perf_list = []\n",
    "for subfolder in subfolders:\n",
    "    if pattern in subfolder:\n",
    "        file_name = \"eval_metric.txt\"\n",
    "        perf = get_performance_metric(general_folder + \"/\" + subfolder, file_name, min_best=False)\n",
    "        perf_list.append( (subfolder, perf) )\n",
    "        \n",
    "\n",
    "perf_list = sorted(perf_list, key=lambda x: -x[1])\n",
    "print perf_list\n",
    "print perf_list[0]"
   ]
  },
  {
   "cell_type": "code",
   "execution_count": null,
   "metadata": {
    "collapsed": true
   },
   "outputs": [],
   "source": []
  }
 ],
 "metadata": {
  "kernelspec": {
   "display_name": "Python 2",
   "language": "python",
   "name": "python2"
  },
  "language_info": {
   "codemirror_mode": {
    "name": "ipython",
    "version": 2
   },
   "file_extension": ".py",
   "mimetype": "text/x-python",
   "name": "python",
   "nbconvert_exporter": "python",
   "pygments_lexer": "ipython2",
   "version": "2.7.13"
  }
 },
 "nbformat": 4,
 "nbformat_minor": 2
}
