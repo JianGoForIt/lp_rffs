{
 "cells": [
  {
   "cell_type": "code",
   "execution_count": 1,
   "metadata": {
    "collapsed": true
   },
   "outputs": [],
   "source": [
    "%matplotlib inline\n",
    "import matplotlib.pyplot as plt\n",
    "import argparse\n",
    "import numpy as np\n",
    "import torch\n",
    "import cPickle as cp\n",
    "import sys, os\n",
    "sys.path.append(\"../../utils\")\n",
    "sys.path.append(\"../\")\n",
    "\n",
    "from data_loader import load_census_data\n",
    "import rff\n",
    "from rff import GaussianKernel, RFF\n",
    "from kernel_regressor import Quantizer, KernelRidgeRegression"
   ]
  },
  {
   "cell_type": "code",
   "execution_count": 2,
   "metadata": {
    "collapsed": true
   },
   "outputs": [],
   "source": [
    "class Args(object):\n",
    "    def __init__(self, n_fp_rff, n_bit, \n",
    "                 exact_kernel, reg_lambda, \n",
    "                 sigma, random_seed, data_path,\n",
    "                 do_fp, test_var_reduce=False):\n",
    "        self.n_fp_rff = n_fp_rff\n",
    "        self.n_bit = n_bit\n",
    "        self.exact_kernel = exact_kernel\n",
    "        self.reg_lambda = reg_lambda\n",
    "        self.sigma = sigma\n",
    "        self.random_seed = random_seed\n",
    "        self.data_path = data_path\n",
    "        self.do_fp = do_fp\n",
    "        self.test_var_reduce = test_var_reduce"
   ]
  },
  {
   "cell_type": "code",
   "execution_count": 3,
   "metadata": {
    "collapsed": true
   },
   "outputs": [],
   "source": [
    "def load_census_data(path):\n",
    "    X_test = np.load(path + \"X_ho.npy\")\n",
    "    X_train = np.load(path + \"X_tr.npy\")\n",
    "    Y_test = np.load(path + \"Y_ho.npy\")\n",
    "    Y_train = np.load(path + \"Y_tr.npy\")\n",
    "    X_test = X_test.item()['X_ho']\n",
    "    X_train = X_train.item()['X_tr']\n",
    "    Y_test = Y_test.item()['Y_ho']\n",
    "    Y_train = Y_train.item()['Y_tr']\n",
    "#     s = np.arange(X_train.shape[0] )\n",
    "#     np.random.shuffle(s)\n",
    "#     X_train = X_train[s, :]\n",
    "#     Y_train = Y_train[s]\n",
    "#     X_train, Y_train, X_test, Y_test = \\\n",
    "#       X_train[:(s.size * 2 / 3), :], Y_train[:(s.size * 2 / 3)], X_test[:(s.size * 2 / 3), :], Y_test[:(s.size * 2 / 3)]\n",
    "    return X_train, X_test, Y_train, Y_test"
   ]
  },
  {
   "cell_type": "code",
   "execution_count": 4,
   "metadata": {
    "collapsed": false
   },
   "outputs": [],
   "source": [
    "data_path = \"../../../data/census/\""
   ]
  },
  {
   "cell_type": "code",
   "execution_count": 5,
   "metadata": {
    "collapsed": false
   },
   "outputs": [],
   "source": [
    "def get_spectrum(args):\n",
    "    X_train, X_test, Y_train, Y_test = load_census_data(args.data_path)\n",
    "    kernel = GaussianKernel(sigma=args.sigma)\n",
    "    kernel_mat_exact_train = kernel.get_kernel_matrix(X_train, X_train)\n",
    "    kernel_mat_exact_test = kernel.get_kernel_matrix(X_test, X_train)\n",
    "    n_input_feat = X_train.shape[1]\n",
    "    assert X_train.shape[1] == X_test.shape[1]\n",
    "    if args.exact_kernel:\n",
    "        print \"exact kernel\"\n",
    "        kernel = kernel\n",
    "        quantizer_train = None\n",
    "        quantizer_test = None\n",
    "        config_name = \"exact_kernel_lambda_\" + str(args.reg_lambda) + \"_sigma_\" + str(args.sigma)\n",
    "    elif args.do_fp:\n",
    "        print \"full precision rff\"\n",
    "        kernel = RFF(args.n_fp_rff, n_input_feat, kernel, rand_seed=args.random_seed)\n",
    "        quantizer_train = None\n",
    "        quantizer_test = None\n",
    "        config_name = \"fp_rff_lambda_\" + str(args.reg_lambda) + \"_sigma_\" \\\n",
    "          + str(args.sigma) + \"_n_fp_rff_\" + str(args.n_fp_rff)\n",
    "    else:\n",
    "        print \"low precsion rff with nbit = \", args.n_bit\n",
    "        n_quantized_rff = int(np.floor(args.n_fp_rff / float(args.n_bit) * 32.0) )\n",
    "        min_val = -np.sqrt(2.0/float(n_quantized_rff) )\n",
    "        max_val = np.sqrt(2.0/float(n_quantized_rff) )\n",
    "        quantizer_train = Quantizer(args.n_bit, min_val, max_val, rand_seed=args.random_seed)\n",
    "        if not args.test_var_reduce:\n",
    "            quantizer_test = quantizer_train\n",
    "        else:\n",
    "            quantizer_test = None\n",
    "        kernel = RFF(n_quantized_rff, n_input_feat, kernel, rand_seed=args.random_seed)\n",
    "        config_name = \"lp_rff_lambda_\" + str(args.reg_lambda) + \"_sigma_\" \\\n",
    "          + str(args.sigma) + \"_n_fp_rff_\" + str(args.n_fp_rff) + \"_nbit_\" + str(args.n_bit) \n",
    "\n",
    "    regressor = KernelRidgeRegression(kernel, reg_lambda=args.reg_lambda)\n",
    "    print(\"start to do regression!\")\n",
    "    # print(\"test quantizer\", quantizer)\n",
    "    regressor.fit(X_train, Y_train, quantizer=quantizer_train)\n",
    "    print(\"finish regression!\")\n",
    "    \n",
    "    kernel_mat = regressor.kernel_mat\n",
    "    _, s, _ = np.linalg.svd(kernel_mat.cpu().numpy().astype(np.float64), full_matrices=True)\n",
    "    return s"
   ]
  },
  {
   "cell_type": "markdown",
   "metadata": {},
   "source": [
    "### exact kernel"
   ]
  },
  {
   "cell_type": "code",
   "execution_count": 11,
   "metadata": {
    "collapsed": false
   },
   "outputs": [
    {
     "name": "stdout",
     "output_type": "stream",
     "text": [
      "('using sigma ', 30.0)\n",
      "('using sigma ', 30.0)\n",
      "exact kernel\n",
      "start to do regression!\n",
      "('using sigma ', 30.0)\n",
      "('using regularior strength ', 0.001)\n",
      "finish regression!\n"
     ]
    }
   ],
   "source": [
    "args = Args(n_fp_rff=1024, n_bit=8, \n",
    "            exact_kernel=True, reg_lambda=1e-3, \n",
    "            sigma=30.0, random_seed=1, \n",
    "            data_path=data_path, do_fp=False)\n",
    "s_exact = get_spectrum(args)\n",
    "with open(\"../multi_seed_results/spectrum/s_exact_64b_svd_full_dataset.npy\", \"wb\") as f:\n",
    "    np.save(f, s_exact)\n",
    "# print s_exact"
   ]
  },
  {
   "cell_type": "markdown",
   "metadata": {},
   "source": [
    "### 1024 feature full precision"
   ]
  },
  {
   "cell_type": "code",
   "execution_count": 12,
   "metadata": {
    "collapsed": false
   },
   "outputs": [
    {
     "name": "stdout",
     "output_type": "stream",
     "text": [
      "('using sigma ', 30.0)\n",
      "('using sigma ', 30.0)\n",
      "full precision rff\n",
      "('using sigma ', 0.03333333333333333, 'using rand seed ', 1)\n",
      "('using n rff features ', 1024)\n",
      "start to do regression!\n",
      "('using regularior strength ', 0.001)\n",
      "finish regression!\n",
      "0.0\n"
     ]
    }
   ],
   "source": [
    "args = Args(n_fp_rff=1024, n_bit=8, \n",
    "            exact_kernel=False, reg_lambda=1e-3, \n",
    "            sigma=30.0, random_seed=1, \n",
    "            data_path=data_path, do_fp=True)\n",
    "s_fp = get_spectrum(args)\n",
    "with open(\"../multi_seed_results/spectrum/s_1024_feat_fp_64b_svd.npy\", \"wb\") as f:\n",
    "    np.save(f, s_fp)\n",
    "with open(\"../multi_seed_results/spectrum/s_1024_feat_fp_64b_svd.npy\", \"rb\") as f:\n",
    "    test = np.load(f)\n",
    "print np.sum(s_fp - test)"
   ]
  },
  {
   "cell_type": "markdown",
   "metadata": {},
   "source": [
    "### 1024 feature 8 --> 1 bit"
   ]
  },
  {
   "cell_type": "code",
   "execution_count": 8,
   "metadata": {
    "collapsed": false
   },
   "outputs": [
    {
     "name": "stdout",
     "output_type": "stream",
     "text": [
      "('using sigma ', 30.0)\n",
      "('using sigma ', 30.0)\n",
      "low precsion rff with nbit =  8\n",
      "('using sigma ', 0.03333333333333333, 'using rand seed ', 1)\n",
      "('using n rff features ', 4096)\n",
      "start to do regression!\n",
      "('quantization 1 activated ', (5456, 119))\n",
      "('quantizer 1 bits', 8)\n",
      "('quantizer 1 scale', 0.00017331048558493812)\n",
      "('quantizer using random seed', 1)\n",
      "('quantization 2 activated ', (5456, 119))\n",
      "('quantizer 2 bits', 8)\n",
      "('quantizer 2 scale', 0.00017331048558493812)\n",
      "('quantizer using random seed', 1)\n",
      "('using regularior strength ', 0.001)\n",
      "finish regression!\n"
     ]
    }
   ],
   "source": [
    "args = Args(n_fp_rff=1024, n_bit=8, \n",
    "            exact_kernel=False, reg_lambda=1e-3, \n",
    "            sigma=30.0, random_seed=1, \n",
    "            data_path=data_path, do_fp=False)\n",
    "s_8 = get_spectrum(args)\n",
    "with open(\"../multi_seed_results/spectrum/s_1024_feat_8_bit_64b_svd.npy\", \"wb\") as f:\n",
    "    np.save(f, s_8)\n",
    "# print s_fp"
   ]
  },
  {
   "cell_type": "code",
   "execution_count": 7,
   "metadata": {
    "collapsed": false
   },
   "outputs": [
    {
     "name": "stdout",
     "output_type": "stream",
     "text": [
      "('using sigma ', 30.0)\n",
      "('using sigma ', 30.0)\n",
      "low precsion rff with nbit =  4\n",
      "('using sigma ', 0.03333333333333333, 'using rand seed ', 1)\n",
      "('using n rff features ', 8192)\n",
      "start to do regression!\n",
      "('quantization 1 activated ', (16367, 119))\n",
      "('quantizer 1 bits', 4)\n",
      "('quantizer 1 scale', 0.0020833333333333333)\n",
      "('quantizer using random seed', 1)\n",
      "('quantization 2 activated ', (16367, 119))\n",
      "('quantizer 2 bits', 4)\n",
      "('quantizer 2 scale', 0.0020833333333333333)\n",
      "('quantizer using random seed', 1)\n",
      "('using regularior strength ', 0.001)\n",
      "finish regression!\n"
     ]
    }
   ],
   "source": [
    "args = Args(n_fp_rff=1024, n_bit=4, \n",
    "            exact_kernel=False, reg_lambda=1e-3, \n",
    "            sigma=30.0, random_seed=1, \n",
    "            data_path=data_path, do_fp=False)\n",
    "s_4 = get_spectrum(args)\n",
    "with open(\"../multi_seed_results/spectrum/s_1024_feat_4_bit_64b_svd_full_dataset.npy\", \"wb\") as f:\n",
    "    np.save(f, s_4)\n",
    "# print s_fp"
   ]
  },
  {
   "cell_type": "code",
   "execution_count": 6,
   "metadata": {
    "collapsed": false
   },
   "outputs": [
    {
     "name": "stdout",
     "output_type": "stream",
     "text": [
      "('using sigma ', 30.0)\n",
      "('using sigma ', 30.0)\n",
      "low precsion rff with nbit =  2\n",
      "('using sigma ', 0.03333333333333333, 'using rand seed ', 1)\n",
      "('using n rff features ', 16384)\n",
      "start to do regression!\n",
      "('quantization 1 activated ', (16367, 119))\n",
      "('quantizer 1 bits', 2)\n",
      "('quantizer 1 scale', 0.0073656956373598708)\n",
      "('quantizer using random seed', 1)\n",
      "('quantization 2 activated ', (16367, 119))\n",
      "('quantizer 2 bits', 2)\n",
      "('quantizer 2 scale', 0.0073656956373598708)\n",
      "('quantizer using random seed', 1)\n",
      "('using regularior strength ', 0.001)\n",
      "finish regression!\n"
     ]
    }
   ],
   "source": [
    "args = Args(n_fp_rff=1024, n_bit=2, \n",
    "            exact_kernel=False, reg_lambda=1e-3, \n",
    "            sigma=30.0, random_seed=1, \n",
    "            data_path=data_path, do_fp=False)\n",
    "s_2 = get_spectrum(args)\n",
    "with open(\"../multi_seed_results/spectrum/s_1024_feat_2_bit_64b_svd_full_dataset.npy\", \"wb\") as f:\n",
    "    np.save(f, s_2)\n",
    "# print s_fp"
   ]
  },
  {
   "cell_type": "code",
   "execution_count": 25,
   "metadata": {
    "collapsed": false
   },
   "outputs": [
    {
     "name": "stdout",
     "output_type": "stream",
     "text": [
      "('using sigma ', 30.0)\n",
      "('using sigma ', 30.0)\n",
      "low precsion rff with nbit =  1\n",
      "('using sigma ', 0.03333333333333333, 'using rand seed ', 1)\n",
      "('using n rff features ', 32768)\n",
      "start to do regression!\n",
      "('quantization 1 activated ', (10911, 119))\n",
      "('quantizer 1 bits', 1)\n",
      "('quantizer 1 scale', 0.015625)\n",
      "('quantizer using random seed', 1)\n"
     ]
    },
    {
     "ename": "KeyboardInterrupt",
     "evalue": "",
     "output_type": "error",
     "traceback": [
      "\u001b[0;31m---------------------------------------------------------------------------\u001b[0m",
      "\u001b[0;31mKeyboardInterrupt\u001b[0m                         Traceback (most recent call last)",
      "\u001b[0;32m/Users/Jian/anaconda/envs/pytorch_2.0/lib/python2.7/site-packages/IPython/core/interactiveshell.pyc\u001b[0m in \u001b[0;36mrun_code\u001b[0;34m(self, code_obj, result)\u001b[0m\n\u001b[1;32m   2880\u001b[0m                 \u001b[0mself\u001b[0m\u001b[0;34m.\u001b[0m\u001b[0mhooks\u001b[0m\u001b[0;34m.\u001b[0m\u001b[0mpre_run_code_hook\u001b[0m\u001b[0;34m(\u001b[0m\u001b[0;34m)\u001b[0m\u001b[0;34m\u001b[0m\u001b[0m\n\u001b[1;32m   2881\u001b[0m                 \u001b[0;31m#rprint('Running code', repr(code_obj)) # dbg\u001b[0m\u001b[0;34m\u001b[0m\u001b[0;34m\u001b[0m\u001b[0m\n\u001b[0;32m-> 2882\u001b[0;31m                 \u001b[0;32mexec\u001b[0m\u001b[0;34m(\u001b[0m\u001b[0mcode_obj\u001b[0m\u001b[0;34m,\u001b[0m \u001b[0mself\u001b[0m\u001b[0;34m.\u001b[0m\u001b[0muser_global_ns\u001b[0m\u001b[0;34m,\u001b[0m \u001b[0mself\u001b[0m\u001b[0;34m.\u001b[0m\u001b[0muser_ns\u001b[0m\u001b[0;34m)\u001b[0m\u001b[0;34m\u001b[0m\u001b[0m\n\u001b[0m\u001b[1;32m   2883\u001b[0m             \u001b[0;32mfinally\u001b[0m\u001b[0;34m:\u001b[0m\u001b[0;34m\u001b[0m\u001b[0m\n\u001b[1;32m   2884\u001b[0m                 \u001b[0;31m# Reset our crash handler in place\u001b[0m\u001b[0;34m\u001b[0m\u001b[0;34m\u001b[0m\u001b[0m\n",
      "\u001b[0;31mKeyboardInterrupt\u001b[0m: "
     ]
    }
   ],
   "source": [
    "args = Args(n_fp_rff=1024, n_bit=1, \n",
    "            exact_kernel=False, reg_lambda=1e-3, \n",
    "            sigma=30.0, random_seed=1, \n",
    "            data_path=data_path, do_fp=False)\n",
    "s_1 = get_spectrum(args)\n",
    "with open(\"../multi_seed_results/spectrum/s_1024_feat_1_bit_64b_svd_full_dataset.npy\", \"wb\") as f:\n",
    "    np.save(f, s_1)\n",
    "# print s_fp"
   ]
  },
  {
   "cell_type": "code",
   "execution_count": 7,
   "metadata": {
    "collapsed": false
   },
   "outputs": [
    {
     "name": "stdout",
     "output_type": "stream",
     "text": [
      "('using sigma ', 30.0)\n",
      "('using sigma ', 30.0)\n",
      "low precsion rff with nbit =  16\n",
      "('using sigma ', 0.03333333333333333, 'using rand seed ', 1)\n",
      "('using n rff features ', 2048)\n",
      "start to do regression!\n",
      "('quantization 1 activated ', (5456, 119))\n",
      "('quantizer 1 bits', 16)\n",
      "('quantizer 1 scale', 9.5368886854352636e-07)\n",
      "('quantizer using random seed', 1)\n",
      "('quantization 2 activated ', (5456, 119))\n",
      "('quantizer 2 bits', 16)\n",
      "('quantizer 2 scale', 9.5368886854352636e-07)\n",
      "('quantizer using random seed', 1)\n",
      "('using regularior strength ', 0.001)\n",
      "finish regression!\n"
     ]
    }
   ],
   "source": [
    "args = Args(n_fp_rff=1024, n_bit=16, \n",
    "            exact_kernel=False, reg_lambda=1e-3, \n",
    "            sigma=30.0, random_seed=1, \n",
    "            data_path=data_path, do_fp=False)\n",
    "s_16 = get_spectrum(args)\n",
    "with open(\"../multi_seed_results/spectrum/s_1024_feat_16_bit_64b_svd.npy\", \"wb\") as f:\n",
    "    np.save(f, s_16)\n",
    "# print s_fp"
   ]
  },
  {
   "cell_type": "code",
   "execution_count": 8,
   "metadata": {
    "collapsed": false
   },
   "outputs": [
    {
     "name": "stdout",
     "output_type": "stream",
     "text": [
      "('using sigma ', 30.0)\n",
      "('using sigma ', 30.0)\n",
      "low precsion rff with nbit =  32\n",
      "('using sigma ', 0.03333333333333333, 'using rand seed ', 1)\n",
      "('using n rff features ', 1024)\n",
      "start to do regression!\n",
      "('quantization 1 activated ', (5456, 119))\n",
      "('quantizer 1 bits', 32)\n",
      "('quantizer 1 scale', 2.0579515879251518e-11)\n",
      "('quantizer using random seed', 1)\n",
      "('quantization 2 activated ', (5456, 119))\n",
      "('quantizer 2 bits', 32)\n",
      "('quantizer 2 scale', 2.0579515879251518e-11)\n",
      "('quantizer using random seed', 1)\n",
      "('using regularior strength ', 0.001)\n",
      "finish regression!\n"
     ]
    }
   ],
   "source": [
    "args = Args(n_fp_rff=1024, n_bit=32, \n",
    "            exact_kernel=False, reg_lambda=1e-3, \n",
    "            sigma=30.0, random_seed=1, \n",
    "            data_path=data_path, do_fp=False)\n",
    "s_32 = get_spectrum(args)\n",
    "with open(\"../multi_seed_results/spectrum/s_1024_feat_32_bit_64b_svd.npy\", \"wb\") as f:\n",
    "    np.save(f, s_32)\n",
    "# print s_fp"
   ]
  },
  {
   "cell_type": "code",
   "execution_count": 6,
   "metadata": {
    "collapsed": false
   },
   "outputs": [
    {
     "name": "stdout",
     "output_type": "stream",
     "text": [
      "('using sigma ', 30.0)\n",
      "('using sigma ', 30.0)\n",
      "low precsion rff with nbit =  4\n",
      "('using sigma ', 0.03333333333333333, 'using rand seed ', 1)\n",
      "('using n rff features ', 16384)\n",
      "start to do regression!\n",
      "('quantization 1 activated ', (16367, 119))\n",
      "('quantizer 1 bits', 4)\n",
      "('quantizer 1 scale', 0.0014731391274719742)\n",
      "('quantizer using random seed', 1)\n",
      "('quantization 2 activated ', (16367, 119))\n",
      "('quantizer 2 bits', 4)\n",
      "('quantizer 2 scale', 0.0014731391274719742)\n",
      "('quantizer using random seed', 1)\n",
      "('using regularior strength ', 0.001)\n",
      "finish regression!\n"
     ]
    }
   ],
   "source": [
    "args = Args(n_fp_rff=2048, n_bit=4, \n",
    "            exact_kernel=False, reg_lambda=1e-3, \n",
    "            sigma=30.0, random_seed=1, \n",
    "            data_path=data_path, do_fp=False)\n",
    "s_1 = get_spectrum(args)\n",
    "with open(\"../multi_seed_results/spectrum/s_2048_feat_4_bit_64b_svd_full_dataset.npy\", \"wb\") as f:\n",
    "    np.save(f, s_1)\n",
    "# print s_fp"
   ]
  },
  {
   "cell_type": "code",
   "execution_count": 7,
   "metadata": {
    "collapsed": false
   },
   "outputs": [
    {
     "name": "stdout",
     "output_type": "stream",
     "text": [
      "('using sigma ', 30.0)\n",
      "('using sigma ', 30.0)\n",
      "low precsion rff with nbit =  2\n",
      "('using sigma ', 0.03333333333333333, 'using rand seed ', 1)\n",
      "('using n rff features ', 32768)\n",
      "start to do regression!\n",
      "('quantization 1 activated ', (16367, 119))\n",
      "('quantizer 1 bits', 2)\n",
      "('quantizer 1 scale', 0.005208333333333333)\n",
      "('quantizer using random seed', 1)\n",
      "('quantization 2 activated ', (16367, 119))\n",
      "('quantizer 2 bits', 2)\n",
      "('quantizer 2 scale', 0.005208333333333333)\n",
      "('quantizer using random seed', 1)\n",
      "('using regularior strength ', 0.001)\n",
      "finish regression!\n"
     ]
    }
   ],
   "source": [
    "args = Args(n_fp_rff=2048, n_bit=2, \n",
    "            exact_kernel=False, reg_lambda=1e-3, \n",
    "            sigma=30.0, random_seed=1, \n",
    "            data_path=data_path, do_fp=False)\n",
    "s_1 = get_spectrum(args)\n",
    "with open(\"../multi_seed_results/spectrum/s_2048_feat_2_bit_64b_svd_full_dataset.npy\", \"wb\") as f:\n",
    "    np.save(f, s_1)\n",
    "# print s_fp"
   ]
  },
  {
   "cell_type": "code",
   "execution_count": 8,
   "metadata": {
    "collapsed": false
   },
   "outputs": [
    {
     "name": "stdout",
     "output_type": "stream",
     "text": [
      "('using sigma ', 30.0)\n",
      "('using sigma ', 30.0)\n",
      "low precsion rff with nbit =  1\n",
      "('using sigma ', 0.03333333333333333, 'using rand seed ', 1)\n",
      "('using n rff features ', 65536)\n",
      "start to do regression!\n",
      "('quantization 1 activated ', (16367, 119))\n",
      "('quantizer 1 bits', 1)\n",
      "('quantizer 1 scale', 0.011048543456039806)\n",
      "('quantizer using random seed', 1)\n",
      "('quantization 2 activated ', (16367, 119))\n",
      "('quantizer 2 bits', 1)\n",
      "('quantizer 2 scale', 0.011048543456039806)\n",
      "('quantizer using random seed', 1)\n",
      "('using regularior strength ', 0.001)\n",
      "finish regression!\n"
     ]
    }
   ],
   "source": [
    "args = Args(n_fp_rff=2048, n_bit=1, \n",
    "            exact_kernel=False, reg_lambda=1e-3, \n",
    "            sigma=30.0, random_seed=1, \n",
    "            data_path=data_path, do_fp=False)\n",
    "s_1 = get_spectrum(args)\n",
    "with open(\"../multi_seed_results/spectrum/s_2048_feat_1_bit_64b_svd_full_dataset.npy\", \"wb\") as f:\n",
    "    np.save(f, s_1)\n",
    "# print s_fp"
   ]
  },
  {
   "cell_type": "code",
   "execution_count": 9,
   "metadata": {
    "collapsed": false
   },
   "outputs": [
    {
     "name": "stdout",
     "output_type": "stream",
     "text": [
      "('using sigma ', 30.0)\n",
      "('using sigma ', 30.0)\n",
      "low precsion rff with nbit =  4\n",
      "('using sigma ', 0.03333333333333333, 'using rand seed ', 1)\n",
      "('using n rff features ', 32768)\n",
      "start to do regression!\n",
      "('quantization 1 activated ', (16367, 119))\n",
      "('quantizer 1 bits', 4)\n",
      "('quantizer 1 scale', 0.0010416666666666667)\n",
      "('quantizer using random seed', 1)\n",
      "('quantization 2 activated ', (16367, 119))\n",
      "('quantizer 2 bits', 4)\n",
      "('quantizer 2 scale', 0.0010416666666666667)\n",
      "('quantizer using random seed', 1)\n",
      "('using regularior strength ', 0.001)\n",
      "finish regression!\n"
     ]
    }
   ],
   "source": [
    "args = Args(n_fp_rff=4096, n_bit=4, \n",
    "            exact_kernel=False, reg_lambda=1e-3, \n",
    "            sigma=30.0, random_seed=1, \n",
    "            data_path=data_path, do_fp=False)\n",
    "s_1 = get_spectrum(args)\n",
    "with open(\"../multi_seed_results/spectrum/s_4096_feat_4_bit_64b_svd_full_dataset.npy\", \"wb\") as f:\n",
    "    np.save(f, s_1)\n",
    "# print s_fp"
   ]
  },
  {
   "cell_type": "code",
   "execution_count": 10,
   "metadata": {
    "collapsed": false
   },
   "outputs": [
    {
     "name": "stdout",
     "output_type": "stream",
     "text": [
      "('using sigma ', 30.0)\n",
      "('using sigma ', 30.0)\n",
      "low precsion rff with nbit =  2\n",
      "('using sigma ', 0.03333333333333333, 'using rand seed ', 1)\n",
      "('using n rff features ', 65536)\n",
      "start to do regression!\n",
      "('quantization 1 activated ', (16367, 119))\n",
      "('quantizer 1 bits', 2)\n",
      "('quantizer 1 scale', 0.0036828478186799354)\n",
      "('quantizer using random seed', 1)\n",
      "('quantization 2 activated ', (16367, 119))\n",
      "('quantizer 2 bits', 2)\n",
      "('quantizer 2 scale', 0.0036828478186799354)\n",
      "('quantizer using random seed', 1)\n",
      "('using regularior strength ', 0.001)\n",
      "finish regression!\n"
     ]
    }
   ],
   "source": [
    "args = Args(n_fp_rff=4096, n_bit=2, \n",
    "            exact_kernel=False, reg_lambda=1e-3, \n",
    "            sigma=30.0, random_seed=1, \n",
    "            data_path=data_path, do_fp=False)\n",
    "s_1 = get_spectrum(args)\n",
    "with open(\"../multi_seed_results/spectrum/s_4096_feat_2_bit_64b_svd_full_dataset.npy\", \"wb\") as f:\n",
    "    np.save(f, s_1)\n",
    "# print s_fp"
   ]
  },
  {
   "cell_type": "code",
   "execution_count": 11,
   "metadata": {
    "collapsed": false
   },
   "outputs": [
    {
     "name": "stdout",
     "output_type": "stream",
     "text": [
      "('using sigma ', 30.0)\n",
      "('using sigma ', 30.0)\n",
      "low precsion rff with nbit =  1\n",
      "('using sigma ', 0.03333333333333333, 'using rand seed ', 1)\n",
      "('using n rff features ', 131072)\n",
      "start to do regression!\n",
      "('quantization 1 activated ', (16367, 119))\n",
      "('quantizer 1 bits', 1)\n",
      "('quantizer 1 scale', 0.0078125)\n",
      "('quantizer using random seed', 1)\n",
      "('quantization 2 activated ', (16367, 119))\n",
      "('quantizer 2 bits', 1)\n",
      "('quantizer 2 scale', 0.0078125)\n",
      "('quantizer using random seed', 1)\n",
      "('using regularior strength ', 0.001)\n",
      "finish regression!\n"
     ]
    }
   ],
   "source": [
    "args = Args(n_fp_rff=4096, n_bit=1, \n",
    "            exact_kernel=False, reg_lambda=1e-3, \n",
    "            sigma=30.0, random_seed=1, \n",
    "            data_path=data_path, do_fp=False)\n",
    "s_1 = get_spectrum(args)\n",
    "with open(\"../multi_seed_results/spectrum/s_4096_feat_1_bit_64b_svd_full_dataset.npy\", \"wb\") as f:\n",
    "    np.save(f, s_1)\n",
    "# print s_fp"
   ]
  },
  {
   "cell_type": "code",
   "execution_count": 17,
   "metadata": {
    "collapsed": false
   },
   "outputs": [
    {
     "name": "stdout",
     "output_type": "stream",
     "text": [
      "('using sigma ', 30.0)\n",
      "('using sigma ', 30.0)\n",
      "low precsion rff with nbit =  4\n",
      "('using sigma ', 0.03333333333333333, 'using rand seed ', 1)\n",
      "('using n rff features ', 65536)\n",
      "start to do regression!\n",
      "('quantization 1 activated ', (16367, 119))\n",
      "('quantizer 1 bits', 4)\n",
      "('quantizer 1 scale', 0.00073656956373598711)\n",
      "('quantizer using random seed', 1)\n",
      "('quantization 2 activated ', (16367, 119))\n",
      "('quantizer 2 bits', 4)\n",
      "('quantizer 2 scale', 0.00073656956373598711)\n",
      "('quantizer using random seed', 1)\n",
      "('using regularior strength ', 0.001)\n",
      "finish regression!\n"
     ]
    }
   ],
   "source": [
    "args = Args(n_fp_rff=8192, n_bit=4, \n",
    "            exact_kernel=False, reg_lambda=1e-3, \n",
    "            sigma=30.0, random_seed=1, \n",
    "            data_path=data_path, do_fp=False)\n",
    "s_1 = get_spectrum(args)\n",
    "with open(\"../multi_seed_results/spectrum/s_8192_feat_4_bit_64b_svd_full_dataset.npy\", \"wb\") as f:\n",
    "    np.save(f, s_1)\n",
    "# print s_fp"
   ]
  },
  {
   "cell_type": "code",
   "execution_count": 18,
   "metadata": {
    "collapsed": false
   },
   "outputs": [
    {
     "name": "stdout",
     "output_type": "stream",
     "text": [
      "('using sigma ', 30.0)\n",
      "('using sigma ', 30.0)\n",
      "low precsion rff with nbit =  2\n",
      "('using sigma ', 0.03333333333333333, 'using rand seed ', 1)\n",
      "('using n rff features ', 131072)\n",
      "start to do regression!\n",
      "('quantization 1 activated ', (16367, 119))\n",
      "('quantizer 1 bits', 2)\n",
      "('quantizer 1 scale', 0.0026041666666666665)\n",
      "('quantizer using random seed', 1)\n",
      "('quantization 2 activated ', (16367, 119))\n",
      "('quantizer 2 bits', 2)\n",
      "('quantizer 2 scale', 0.0026041666666666665)\n",
      "('quantizer using random seed', 1)\n",
      "('using regularior strength ', 0.001)\n",
      "finish regression!\n"
     ]
    }
   ],
   "source": [
    "args = Args(n_fp_rff=8192, n_bit=2, \n",
    "            exact_kernel=False, reg_lambda=1e-3, \n",
    "            sigma=30.0, random_seed=1, \n",
    "            data_path=data_path, do_fp=False)\n",
    "s_1 = get_spectrum(args)\n",
    "with open(\"../multi_seed_results/spectrum/s_8192_feat_2_bit_64b_svd_full_dataset.npy\", \"wb\") as f:\n",
    "    np.save(f, s_1)\n",
    "# print s_fp"
   ]
  },
  {
   "cell_type": "code",
   "execution_count": 19,
   "metadata": {
    "collapsed": false
   },
   "outputs": [
    {
     "name": "stdout",
     "output_type": "stream",
     "text": [
      "('using sigma ', 30.0)\n",
      "('using sigma ', 30.0)\n",
      "low precsion rff with nbit =  1\n",
      "('using sigma ', 0.03333333333333333, 'using rand seed ', 1)\n",
      "('using n rff features ', 262144)\n",
      "start to do regression!\n",
      "('quantization 1 activated ', (16367, 119))\n",
      "('quantizer 1 bits', 1)\n",
      "('quantizer 1 scale', 0.0055242717280199029)\n",
      "('quantizer using random seed', 1)\n",
      "('quantization 2 activated ', (16367, 119))\n",
      "('quantizer 2 bits', 1)\n",
      "('quantizer 2 scale', 0.0055242717280199029)\n",
      "('quantizer using random seed', 1)\n",
      "('using regularior strength ', 0.001)\n",
      "finish regression!\n"
     ]
    }
   ],
   "source": [
    "args = Args(n_fp_rff=8192, n_bit=1, \n",
    "            exact_kernel=False, reg_lambda=1e-3, \n",
    "            sigma=30.0, random_seed=1, \n",
    "            data_path=data_path, do_fp=False)\n",
    "s_1 = get_spectrum(args)\n",
    "with open(\"../multi_seed_results/spectrum/s_8192_feat_1_bit_64b_svd_full_dataset.npy\", \"wb\") as f:\n",
    "    np.save(f, s_1)\n",
    "# print s_fp"
   ]
  },
  {
   "cell_type": "code",
   "execution_count": null,
   "metadata": {
    "collapsed": true
   },
   "outputs": [],
   "source": []
  },
  {
   "cell_type": "code",
   "execution_count": null,
   "metadata": {
    "collapsed": true
   },
   "outputs": [],
   "source": []
  },
  {
   "cell_type": "markdown",
   "metadata": {
    "collapsed": true
   },
   "source": [
    "### Plot results"
   ]
  },
  {
   "cell_type": "code",
   "execution_count": 22,
   "metadata": {
    "collapsed": false
   },
   "outputs": [],
   "source": [
    "# with open(\"../multi_seed_results/spectrum/s_1024_feat_4_bit_64b_svd.npy\", \"rb\") as f:\n",
    "#     s_4_small = np.load(f)\n",
    "# with open(\"../multi_seed_results/spectrum/s_1024_feat_2_bit_64b_svd.npy\", \"rb\") as f:\n",
    "#     s_2_small = np.load(f)\n",
    "# with open(\"../multi_seed_results/spectrum/s_exact_64b_svd.npy\", \"rb\") as f:\n",
    "#     s_exact_small = np.load(f)\n",
    "with open(\"../multi_seed_results/spectrum/s_1024_feat_32_bit_64b_svd_full_dataset.npy\", \"rb\") as f:\n",
    "    s_32 = np.load(f)\n",
    "with open(\"../multi_seed_results/spectrum/s_1024_feat_16_bit_64b_svd_full_dataset.npy\", \"rb\") as f:\n",
    "    s_16 = np.load(f)\n",
    "with open(\"../multi_seed_results/spectrum/s_1024_feat_8_bit_64b_svd_full_dataset.npy\", \"rb\") as f:\n",
    "    s_8 = np.load(f)\n",
    "with open(\"../multi_seed_results/spectrum/s_1024_feat_4_bit_64b_svd_full_dataset.npy\", \"rb\") as f:\n",
    "    s_4 = np.load(f)\n",
    "with open(\"../multi_seed_results/spectrum/s_1024_feat_2_bit_64b_svd_full_dataset.npy\", \"rb\") as f:\n",
    "    s_2 = np.load(f)\n",
    "with open(\"../multi_seed_results/spectrum/s_1024_feat_1_bit_64b_svd_full_dataset.npy\", \"rb\") as f:\n",
    "    s_1 = np.load(f)\n",
    "with open(\"../multi_seed_results/spectrum/s_1024_feat_fp_64b_svd_full_dataset.npy\", \"rb\") as f:\n",
    "    s_fp = np.load(f)\n",
    "with open(\"../multi_seed_results/spectrum/s_exact_64b_svd_full_dataset.npy\", \"rb\") as f:\n",
    "    s_exact = np.load(f)"
   ]
  },
  {
   "cell_type": "code",
   "execution_count": 23,
   "metadata": {
    "collapsed": false
   },
   "outputs": [
    {
     "data": {
      "image/png": "[encoded data removed]",
      "text/plain": [
       "<matplotlib.figure.Figure at 0x120117750>"
      ]
     },
     "metadata": {},
     "output_type": "display_data"
    }
   ],
   "source": [
    "plt.figure()\n",
    "plt.semilogy(s_32, label=\"32 bit\")\n",
    "plt.semilogy(s_16, label=\"16 bit\")\n",
    "plt.semilogy(s_8, label=\"8 bit\")\n",
    "plt.semilogy(s_4, label=\"4 bit\")\n",
    "plt.semilogy(s_2, label=\"2 bit\")\n",
    "plt.semilogy(s_1, label=\"1 bit\")\n",
    "plt.semilogy(s_exact, label=\"exact\")\n",
    "plt.semilogy(s_fp, label=\"full precision\")\n",
    "# plt.semilogy(s_4_small, label=\"4 bit partial\")\n",
    "# plt.semilogy(s_2_small, label=\"2 bit partial\")\n",
    "# plt.semilogy(s_exact_small, label=\"exact partial\")\n",
    "plt.grid()\n",
    "plt.ylim([1e-13, 1e2])\n",
    "plt.legend(framealpha=0.3, fontsize=12)\n",
    "plt.ylabel(\"Squared singular value of rff matrix\", fontsize=12)\n",
    "plt.xlabel(\"Singular value idx ordered by value\", fontsize=12)\n",
    "plt.savefig(\"../../notes/figures/spectrum_1024.pdf\")\n",
    "plt.show()"
   ]
  },
  {
   "cell_type": "code",
   "execution_count": null,
   "metadata": {
    "collapsed": true
   },
   "outputs": [],
   "source": []
  },
  {
   "cell_type": "code",
   "execution_count": 24,
   "metadata": {
    "collapsed": false
   },
   "outputs": [],
   "source": [
    "# with open(\"../multi_seed_results/spectrum/s_1024_feat_4_bit_64b_svd.npy\", \"rb\") as f:\n",
    "#     s_4_small = np.load(f)\n",
    "# with open(\"../multi_seed_results/spectrum/s_1024_feat_2_bit_64b_svd.npy\", \"rb\") as f:\n",
    "#     s_2_small = np.load(f)\n",
    "# with open(\"../multi_seed_results/spectrum/s_exact_64b_svd.npy\", \"rb\") as f:\n",
    "#     s_exact_small = np.load(f)\n",
    "# with open(\"../multi_seed_results/spectrum/s_8192_feat_32_bit_64b_svd_full_dataset.npy\", \"rb\") as f:\n",
    "#     s_32 = np.load(f)\n",
    "# with open(\"../multi_seed_results/spectrum/s_8192_feat_16_bit_64b_svd_full_dataset.npy\", \"rb\") as f:\n",
    "#     s_16 = np.load(f)\n",
    "# with open(\"../multi_seed_results/spectrum/s_8192_feat_8_bit_64b_svd_full_dataset.npy\", \"rb\") as f:\n",
    "#     s_8 = np.load(f)\n",
    "with open(\"../multi_seed_results/spectrum/s_8192_feat_4_bit_64b_svd_full_dataset.npy\", \"rb\") as f:\n",
    "    s_4 = np.load(f)\n",
    "with open(\"../multi_seed_results/spectrum/s_8192_feat_2_bit_64b_svd_full_dataset.npy\", \"rb\") as f:\n",
    "    s_2 = np.load(f)\n",
    "with open(\"../multi_seed_results/spectrum/s_8192_feat_1_bit_64b_svd_full_dataset.npy\", \"rb\") as f:\n",
    "    s_1 = np.load(f)\n",
    "with open(\"../multi_seed_results/spectrum/s_8192_feat_fp_64b_svd_ind_full_dataset.npy\", \"rb\") as f:\n",
    "    s_fp = np.load(f)\n",
    "with open(\"../multi_seed_results/spectrum/s_exact_64b_svd_full_dataset.npy\", \"rb\") as f:\n",
    "    s_exact = np.load(f)"
   ]
  },
  {
   "cell_type": "code",
   "execution_count": 25,
   "metadata": {
    "collapsed": false
   },
   "outputs": [
    {
     "data": {
      "image/png": "[encoded data removed]",
      "text/plain": [
       "<matplotlib.figure.Figure at 0x11facdd50>"
      ]
     },
     "metadata": {},
     "output_type": "display_data"
    }
   ],
   "source": [
    "plt.figure()\n",
    "# plt.semilogy(s_32, label=\"32 bit\")\n",
    "# plt.semilogy(s_16, label=\"16 bit\")\n",
    "# plt.semilogy(s_8, label=\"8 bit\")\n",
    "plt.semilogy(s_4, label=\"4 bit\")\n",
    "plt.semilogy(s_2, label=\"2 bit\")\n",
    "plt.semilogy(s_1, label=\"1 bit\")\n",
    "plt.semilogy(s_exact, label=\"exact\")\n",
    "plt.semilogy(s_fp, label=\"full precision\")\n",
    "# plt.semilogy(s_4_small, label=\"4 bit partial\")\n",
    "# plt.semilogy(s_2_small, label=\"2 bit partial\")\n",
    "# plt.semilogy(s_exact_small, label=\"exact partial\")\n",
    "plt.grid()\n",
    "plt.ylim([1e-13, 1e2])\n",
    "plt.legend(framealpha=0.3, fontsize=12)\n",
    "plt.ylabel(\"Squared singular value of rff matrix\", fontsize=12)\n",
    "plt.xlabel(\"Singular value idx ordered by value\", fontsize=12)\n",
    "plt.savefig(\"../../notes/figures/spectrum_8192.pdf\")\n",
    "plt.show()"
   ]
  },
  {
   "cell_type": "code",
   "execution_count": null,
   "metadata": {
    "collapsed": true
   },
   "outputs": [],
   "source": []
  },
  {
   "cell_type": "markdown",
   "metadata": {},
   "source": [
    "### same number of features"
   ]
  },
  {
   "cell_type": "code",
   "execution_count": 26,
   "metadata": {
    "collapsed": false
   },
   "outputs": [],
   "source": [
    "# with open(\"../multi_seed_results/spectrum/s_1024_feat_4_bit_64b_svd.npy\", \"rb\") as f:\n",
    "#     s_4_small = np.load(f)\n",
    "# with open(\"../multi_seed_results/spectrum/s_1024_feat_2_bit_64b_svd.npy\", \"rb\") as f:\n",
    "#     s_2_small = np.load(f)\n",
    "# with open(\"../multi_seed_results/spectrum/s_exact_64b_svd.npy\", \"rb\") as f:\n",
    "#     s_exact_small = np.load(f)\n",
    "# with open(\"../multi_seed_results/spectrum/s_8192_feat_32_bit_64b_svd_full_dataset.npy\", \"rb\") as f:\n",
    "#     s_32 = np.load(f)\n",
    "# with open(\"../multi_seed_results/spectrum/s_8192_feat_16_bit_64b_svd_full_dataset.npy\", \"rb\") as f:\n",
    "#     s_16 = np.load(f)\n",
    "# with open(\"../multi_seed_results/spectrum/s_8192_feat_8_bit_64b_svd_full_dataset.npy\", \"rb\") as f:\n",
    "#     s_8 = np.load(f)\n",
    "with open(\"../multi_seed_results/spectrum/s_8192_feat_4_bit_64b_svd_full_dataset.npy\", \"rb\") as f:\n",
    "    s_4 = np.load(f)\n",
    "with open(\"../multi_seed_results/spectrum/s_4096_feat_2_bit_64b_svd_full_dataset.npy\", \"rb\") as f:\n",
    "    s_2 = np.load(f)\n",
    "with open(\"../multi_seed_results/spectrum/s_2048_feat_1_bit_64b_svd_full_dataset.npy\", \"rb\") as f:\n",
    "    s_1 = np.load(f)\n",
    "# with open(\"../multi_seed_results/spectrum/s_1024_feat_fp_64b_svd_ind_full_dataset.npy\", \"rb\") as f:\n",
    "#     s_fp = np.load(f)\n",
    "with open(\"../multi_seed_results/spectrum/s_exact_64b_svd_full_dataset.npy\", \"rb\") as f:\n",
    "    s_exact = np.load(f)"
   ]
  },
  {
   "cell_type": "code",
   "execution_count": 27,
   "metadata": {
    "collapsed": false
   },
   "outputs": [
    {
     "data": {
      "image/png": "[encoded data removed]",
      "text/plain": [
       "<matplotlib.figure.Figure at 0x120085f90>"
      ]
     },
     "metadata": {},
     "output_type": "display_data"
    }
   ],
   "source": [
    "plt.figure()\n",
    "# plt.semilogy(s_32, label=\"32 bit\")\n",
    "# plt.semilogy(s_16, label=\"16 bit\")\n",
    "# plt.semilogy(s_8, label=\"8 bit\")\n",
    "plt.semilogy(s_4, label=\"4 bit\")\n",
    "plt.semilogy(s_2, label=\"2 bit\")\n",
    "plt.semilogy(s_1, label=\"1 bit\")\n",
    "plt.semilogy(s_exact, label=\"exact\")\n",
    "plt.semilogy(s_fp, label=\"full precision\")\n",
    "# plt.semilogy(s_4_small, label=\"4 bit partial\")\n",
    "# plt.semilogy(s_2_small, label=\"2 bit partial\")\n",
    "# plt.semilogy(s_exact_small, label=\"exact partial\")\n",
    "plt.grid()\n",
    "plt.ylim([1e-13, 1e2])\n",
    "plt.legend(framealpha=0.3, fontsize=12)\n",
    "plt.ylabel(\"Squared singular value of rff matrix\", fontsize=12)\n",
    "plt.xlabel(\"Singular value idx ordered by value\", fontsize=12)\n",
    "# plt.savefig(\"../../notes/figures/spectrum_8192.pdf\")\n",
    "plt.show()"
   ]
  },
  {
   "cell_type": "code",
   "execution_count": null,
   "metadata": {
    "collapsed": true
   },
   "outputs": [],
   "source": []
  },
  {
   "cell_type": "markdown",
   "metadata": {
    "collapsed": true
   },
   "source": [
    "### plot spectrum with similar kernel approximation error"
   ]
  },
  {
   "cell_type": "code",
   "execution_count": 28,
   "metadata": {
    "collapsed": true
   },
   "outputs": [],
   "source": [
    "# with open(\"../multi_seed_results/spectrum/s_1024_feat_4_bit_64b_svd.npy\", \"rb\") as f:\n",
    "#     s_4_small = np.load(f)\n",
    "# with open(\"../multi_seed_results/spectrum/s_1024_feat_2_bit_64b_svd.npy\", \"rb\") as f:\n",
    "#     s_2_small = np.load(f)\n",
    "# with open(\"../multi_seed_results/spectrum/s_exact_64b_svd.npy\", \"rb\") as f:\n",
    "#     s_exact_small = np.load(f)\n",
    "# with open(\"../multi_seed_results/spectrum/s_8192_feat_32_bit_64b_svd_full_dataset.npy\", \"rb\") as f:\n",
    "#     s_32 = np.load(f)\n",
    "# with open(\"../multi_seed_results/spectrum/s_8192_feat_16_bit_64b_svd_full_dataset.npy\", \"rb\") as f:\n",
    "#     s_16 = np.load(f)\n",
    "# with open(\"../multi_seed_results/spectrum/s_8192_feat_8_bit_64b_svd_full_dataset.npy\", \"rb\") as f:\n",
    "#     s_8 = np.load(f)\n",
    "# with open(\"../multi_seed_results/spectrum/s_8192_feat_4_bit_64b_svd_full_dataset.npy\", \"rb\") as f:\n",
    "#     s_4 = np.load(f)\n",
    "# with open(\"../multi_seed_results/spectrum/s_4096_feat_2_bit_64b_svd_full_dataset.npy\", \"rb\") as f:\n",
    "#     s_2 = np.load(f)\n",
    "with open(\"../multi_seed_results/spectrum/s_4096_feat_1_bit_64b_svd_full_dataset.npy\", \"rb\") as f:\n",
    "    s_1 = np.load(f)\n",
    "with open(\"../multi_seed_results/spectrum/s_4096_feat_fp_64b_svd_ind_full_dataset.npy\", \"rb\") as f:\n",
    "    s_fp_upper = np.load(f)\n",
    "with open(\"../multi_seed_results/spectrum/s_8192_feat_fp_64b_svd_ind_full_dataset.npy\", \"rb\") as f:\n",
    "    s_fp_lower = np.load(f)\n",
    "with open(\"../multi_seed_results/spectrum/s_exact_64b_svd_full_dataset.npy\", \"rb\") as f:\n",
    "    s_exact = np.load(f)"
   ]
  },
  {
   "cell_type": "code",
   "execution_count": 32,
   "metadata": {
    "collapsed": false
   },
   "outputs": [
    {
     "data": {
      "image/png": "[encoded data removed]",
      "text/plain": [
       "<matplotlib.figure.Figure at 0x11f6e8410>"
      ]
     },
     "metadata": {},
     "output_type": "display_data"
    }
   ],
   "source": [
    "plt.figure()\n",
    "plt.semilogy(s_1, label=\"1 bit\")\n",
    "plt.semilogy(s_fp_upper, label=\"fp upper bounded\")\n",
    "plt.semilogy(s_fp_lower, label=\"fp lower bounded\")\n",
    "# plt.semilogy(s_4_small, label=\"4 bit partial\")\n",
    "# plt.semilogy(s_2_small, label=\"2 bit partial\")\n",
    "plt.semilogy(s_exact, label=\"exact\")\n",
    "plt.grid()\n",
    "plt.ylim([1e-13, 1e2])\n",
    "plt.legend(framealpha=0.3, fontsize=12)\n",
    "plt.ylabel(\"Squared singular value of rff matrix\", fontsize=12)\n",
    "plt.xlabel(\"Singular value idx ordered by value\", fontsize=12)\n",
    "plt.savefig(\"../../notes/figures/different_spectrum_with_same_kernel_approx_error.pdf\")\n",
    "plt.show()"
   ]
  },
  {
   "cell_type": "markdown",
   "metadata": {},
   "source": [
    "# old code below"
   ]
  },
  {
   "cell_type": "code",
   "execution_count": 14,
   "metadata": {
    "collapsed": false
   },
   "outputs": [
    {
     "data": {
      "image/png": "[encoded data removed]",
      "text/plain": [
       "<matplotlib.figure.Figure at 0x11810ab90>"
      ]
     },
     "metadata": {},
     "output_type": "display_data"
    }
   ],
   "source": [
    "plt.figure()\n",
    "# plt.semilogy(s_exact, label=\"exact\")\n",
    "# plt.semilogy(s_fp, label=\"fp\")\n",
    "# plt.semilogy(s_32, label=\"32 bit\")\n",
    "# plt.semilogy(s_16, label=\"16 bit\")\n",
    "# plt.semilogy(s_8, label=\"8 bit\")\n",
    "plt.semilogy(s_4, label=\"4 bit full\")\n",
    "plt.semilogy(s_2, label=\"2 bit full\")\n",
    "plt.semilogy(s_exact, label=\"exact full\")\n",
    "plt.semilogy(s_4_small, label=\"4 bit partial\")\n",
    "plt.semilogy(s_2_small, label=\"2 bit partial\")\n",
    "plt.semilogy(s_exact_small, label=\"exact partial\")\n",
    "# plt.semilogy(s_1, label=\"1 bit\")\n",
    "plt.grid()\n",
    "plt.ylim([1e-13, 1e2])\n",
    "plt.legend()\n",
    "plt.show()"
   ]
  },
  {
   "cell_type": "markdown",
   "metadata": {},
   "source": [
    "### plot full spectrum"
   ]
  },
  {
   "cell_type": "code",
   "execution_count": 3,
   "metadata": {
    "collapsed": false
   },
   "outputs": [],
   "source": [
    "with open(\"../multi_seed_results/spectrum/s_1024_feat_32_bit_64b_svd.npy\", \"rb\") as f:\n",
    "    s_32 = np.load(f)\n",
    "with open(\"../multi_seed_results/spectrum/s_1024_feat_16_bit_64b_svd.npy\", \"rb\") as f:\n",
    "    s_16 = np.load(f)\n",
    "with open(\"../multi_seed_results/spectrum/s_1024_feat_8_bit_64b_svd.npy\", \"rb\") as f:\n",
    "    s_8 = np.load(f)\n",
    "with open(\"../multi_seed_results/spectrum/s_1024_feat_4_bit_64b_svd.npy\", \"rb\") as f:\n",
    "    s_4 = np.load(f)\n",
    "with open(\"../multi_seed_results/spectrum/s_1024_feat_2_bit_64b_svd.npy\", \"rb\") as f:\n",
    "    s_2 = np.load(f)\n",
    "with open(\"../multi_seed_results/spectrum/s_1024_feat_1_bit_64b_svd.npy\", \"rb\") as f:\n",
    "    s_1 = np.load(f)\n",
    "with open(\"../multi_seed_results/spectrum/s_1024_feat_fp_64b_svd.npy\", \"rb\") as f:\n",
    "    s_fp = np.load(f)\n",
    "with open(\"../multi_seed_results/spectrum/s_exact.npy\", \"rb\") as f:\n",
    "    s_exact = np.load(f)"
   ]
  },
  {
   "cell_type": "code",
   "execution_count": 4,
   "metadata": {
    "collapsed": false
   },
   "outputs": [
    {
     "data": {
      "image/png": "[encoded data removed]",
      "text/plain": [
       "<matplotlib.figure.Figure at 0x11cead3d0>"
      ]
     },
     "metadata": {},
     "output_type": "display_data"
    }
   ],
   "source": [
    "plt.figure()\n",
    "plt.semilogy(s_exact, label=\"exact\")\n",
    "plt.semilogy(s_fp, label=\"fp\")\n",
    "plt.semilogy(s_32, label=\"32 bit\")\n",
    "plt.semilogy(s_16, label=\"16 bit\")\n",
    "plt.semilogy(s_8, label=\"8 bit\")\n",
    "plt.semilogy(s_4, label=\"4 bit\")\n",
    "plt.semilogy(s_2, label=\"2 bit\")\n",
    "plt.semilogy(s_1, label=\"1 bit\")\n",
    "plt.grid()\n",
    "plt.ylim([1e-13, 1e2])\n",
    "plt.legend()\n",
    "plt.show()"
   ]
  },
  {
   "cell_type": "code",
   "execution_count": 5,
   "metadata": {
    "collapsed": false
   },
   "outputs": [
    {
     "data": {
      "image/png": "[encoded data removed]",
      "text/plain": [
       "<matplotlib.figure.Figure at 0x11f0a2510>"
      ]
     },
     "metadata": {},
     "output_type": "display_data"
    }
   ],
   "source": [
    "plt.figure()\n",
    "plt.semilogy(s_exact, label=\"exact\")\n",
    "plt.semilogy(s_fp, label=\"fp\")\n",
    "plt.semilogy(s_32 - 2.0 * (1/ float(2**32 - 1) )**2, label=\"32 bit\")\n",
    "plt.semilogy(s_16 - 2.0 * (1/ float(2**16 - 1) )**2, label=\"16 bit\")\n",
    "plt.semilogy(s_8 - 2.0 * (1/ float(2**8 - 1) )**2, label=\"8 bit\")\n",
    "plt.semilogy(s_4 - 2.0 * (1/ float(2**4 - 1) )**2, label=\"4 bit\")\n",
    "plt.semilogy(s_2 - 2.0 * (1/ float(2**2 - 1) )**2, label=\"2 bit\")\n",
    "plt.semilogy(s_1 - 2.0 * (1/ float(2**1 - 1) )**2, label=\"1 bit\")\n",
    "plt.grid()\n",
    "plt.ylim([1e-13, 1e2])\n",
    "plt.legend()\n",
    "plt.show()"
   ]
  },
  {
   "cell_type": "code",
   "execution_count": 6,
   "metadata": {
    "collapsed": false
   },
   "outputs": [
    {
     "data": {
      "image/png": "[encoded data removed]",
      "text/plain": [
       "<matplotlib.figure.Figure at 0x11f136310>"
      ]
     },
     "metadata": {},
     "output_type": "display_data"
    }
   ],
   "source": [
    "plt.figure()\n",
    "plt.semilogy(s_exact, label=\"exact\")\n",
    "plt.semilogy(s_fp, label=\"fp\")\n",
    "plt.semilogy(s_32 - 2.0 / 3.0 * 2.0 * (1/ float(2**32 - 1) )**2, label=\"32 bit\")\n",
    "plt.semilogy(s_16 - 2.0 / 3.0 * 2.0 * (1/ float(2**16 - 1) )**2, label=\"16 bit\")\n",
    "plt.semilogy(s_8 - 2.0 / 3.0 * 2.0 * (1/ float(2**8 - 1) )**2, label=\"8 bit\")\n",
    "plt.semilogy(s_4 - 2.0 / 3.0 * 2.0 * (1/ float(2**4 - 1) )**2, label=\"4 bit\")\n",
    "plt.semilogy(s_2 - 2.0 / 3.0 * 2.0 * (1/ float(2**2 - 1) )**2, label=\"2 bit\")\n",
    "plt.semilogy(s_1 - 2.0 / 3.0 * 2.0 * (1/ float(2**1 - 1) )**2, label=\"1 bit\")\n",
    "plt.grid()\n",
    "plt.ylim([1e-13, 1e2])\n",
    "plt.legend()\n",
    "plt.show()"
   ]
  },
  {
   "cell_type": "markdown",
   "metadata": {
    "collapsed": true
   },
   "source": [
    "### exploration on spectrum"
   ]
  },
  {
   "cell_type": "code",
   "execution_count": 37,
   "metadata": {
    "collapsed": true
   },
   "outputs": [],
   "source": [
    "def get_spectrum_test(args):\n",
    "    X_train, X_test, Y_train, Y_test = load_census_data(args.data_path)\n",
    "    kernel = GaussianKernel(sigma=args.sigma)\n",
    "    kernel_mat_exact_train = kernel.get_kernel_matrix(X_train, X_train)\n",
    "    kernel_mat_exact_test = kernel.get_kernel_matrix(X_test, X_train)\n",
    "    n_input_feat = X_train.shape[1]\n",
    "    assert X_train.shape[1] == X_test.shape[1]\n",
    "    if args.exact_kernel:\n",
    "        print \"exact kernel\"\n",
    "        kernel = kernel\n",
    "        quantizer_train = None\n",
    "        quantizer_test = None\n",
    "        config_name = \"exact_kernel_lambda_\" + str(args.reg_lambda) + \"_sigma_\" + str(args.sigma)\n",
    "    elif args.do_fp:\n",
    "        print \"full precision rff\"\n",
    "        kernel = RFF(args.n_fp_rff, n_input_feat, kernel, rand_seed=args.random_seed)\n",
    "        quantizer_train = None\n",
    "        quantizer_test = None\n",
    "        config_name = \"fp_rff_lambda_\" + str(args.reg_lambda) + \"_sigma_\" \\\n",
    "          + str(args.sigma) + \"_n_fp_rff_\" + str(args.n_fp_rff)\n",
    "    else:\n",
    "        print \"low precsion rff with nbit = \", args.n_bit\n",
    "        n_quantized_rff = int(np.floor(args.n_fp_rff / float(args.n_bit) * 32.0) )\n",
    "        min_val = -np.sqrt(2.0/float(n_quantized_rff) )\n",
    "        max_val = np.sqrt(2.0/float(n_quantized_rff) )\n",
    "        quantizer_train = Quantizer(args.n_bit, min_val, max_val, rand_seed=args.random_seed)\n",
    "        if not args.test_var_reduce:\n",
    "            quantizer_test = quantizer_train\n",
    "        else:\n",
    "            quantizer_test = None\n",
    "        kernel = RFF(n_quantized_rff, n_input_feat, kernel, rand_seed=args.random_seed)\n",
    "        config_name = \"lp_rff_lambda_\" + str(args.reg_lambda) + \"_sigma_\" \\\n",
    "          + str(args.sigma) + \"_n_fp_rff_\" + str(args.n_fp_rff) + \"_nbit_\" + str(args.n_bit) \n",
    "\n",
    "    regressor = KernelRidgeRegression(kernel, reg_lambda=args.reg_lambda)\n",
    "    print(\"start to do regression!\")\n",
    "    # print(\"test quantizer\", quantizer)\n",
    "    regressor.fit(X_train, Y_train, quantizer=quantizer_train)\n",
    "    print(\"finish regression!\")\n",
    "    \n",
    "    print \"test rff1 \", regressor.kernel.rff_x1\n",
    "    print \"test rff2 \", regressor.kernel.rff_x2\n",
    "    \n",
    "    \n",
    "    kernel_mat = regressor.kernel_mat\n",
    "    _, s, _ = np.linalg.svd(kernel_mat.cpu().numpy().astype(np.float64), full_matrices=True)\n",
    "    return s, kernel_mat.cpu().numpy().astype(np.float64)"
   ]
  },
  {
   "cell_type": "code",
   "execution_count": 38,
   "metadata": {
    "collapsed": false
   },
   "outputs": [
    {
     "name": "stdout",
     "output_type": "stream",
     "text": [
      "('using sigma ', 30.0)\n",
      "('using sigma ', 30.0)\n",
      "low precsion rff with nbit =  1\n",
      "('using sigma ', 0.03333333333333333, 'using rand seed ', 1)\n",
      "('using n rff features ', 32768)\n",
      "start to do regression!\n"
     ]
    },
    {
     "ename": "KeyboardInterrupt",
     "evalue": "",
     "output_type": "error",
     "traceback": [
      "\u001b[0;31m---------------------------------------------------------------------------\u001b[0m",
      "\u001b[0;31mKeyboardInterrupt\u001b[0m                         Traceback (most recent call last)",
      "\u001b[0;31mKeyboardInterrupt\u001b[0m: "
     ]
    }
   ],
   "source": [
    "args = Args(n_fp_rff=1024, n_bit=1, \n",
    "            exact_kernel=False, reg_lambda=1e-3, \n",
    "            sigma=30.0, random_seed=1, \n",
    "            data_path=data_path, do_fp=False)\n",
    "s_1_test, kernel_1_test = get_spectrum_test(args)"
   ]
  },
  {
   "cell_type": "code",
   "execution_count": 39,
   "metadata": {
    "collapsed": false
   },
   "outputs": [
    {
     "name": "stdout",
     "output_type": "stream",
     "text": [
      "[ 2.  2.  2. ...,  2.  2.  2.]\n",
      "[[ 2.          0.92578125  0.8515625  ...,  0.84863281  0.84277344\n",
      "   0.91308594]\n",
      " [ 0.92578125  2.          0.94335938 ...,  0.88378906  0.87011719\n",
      "   0.93457031]\n",
      " [ 0.8515625   0.94335938  2.         ...,  0.86230469  0.87597656\n",
      "   0.91894531]]\n"
     ]
    },
    {
     "data": {
      "image/png": "[encoded data removed]",
      "text/plain": [
       "<matplotlib.figure.Figure at 0x11e5589d0>"
      ]
     },
     "metadata": {},
     "output_type": "display_data"
    }
   ],
   "source": [
    "print np.diag(kernel_1_test)\n",
    "print kernel_1_test[0:3,:]\n",
    "plt.figure()\n",
    "_ = plt.hist(np.diag(kernel_1_test),bins=100)\n",
    "plt.show()"
   ]
  },
  {
   "cell_type": "code",
   "execution_count": 42,
   "metadata": {
    "collapsed": false,
    "scrolled": false
   },
   "outputs": [
    {
     "name": "stdout",
     "output_type": "stream",
     "text": [
      "('using sigma ', 30.0)\n",
      "('using sigma ', 30.0)\n",
      "low precsion rff with nbit =  2\n",
      "('using sigma ', 0.03333333333333333, 'using rand seed ', 1)\n",
      "('using n rff features ', 16384)\n",
      "start to do regression!\n",
      "('quantization 1 activated ', (5456, 119))\n",
      "('quantizer 1 bits', 2)\n",
      "('quantizer 1 scale', 0.0073656956373598708)\n",
      "('quantizer using random seed', 1)\n",
      "('quantization 2 activated ', (5456, 119))\n",
      "('quantizer 2 bits', 2)\n",
      "('quantizer 2 scale', 0.0073656956373598708)\n",
      "('quantizer using random seed', 1)\n",
      "('using regularior strength ', 0.001)\n",
      "finish regression!\n",
      "test rff1  \n",
      "1.00000e-02 *\n",
      "-1.1049  0.3683  0.3683  ...  -0.3683  0.3683  1.1049\n",
      "-1.1049 -0.3683  1.1049  ...  -1.1049  1.1049  0.3683\n",
      "-0.3683 -1.1049  1.1049  ...  -0.3683  1.1049  1.1049\n",
      "          ...             ⋱             ...          \n",
      "-1.1049 -0.3683  1.1049  ...  -1.1049  0.3683  1.1049\n",
      "-1.1049 -0.3683  1.1049  ...  -1.1049  1.1049  1.1049\n",
      "-0.3683 -1.1049  1.1049  ...  -0.3683  1.1049  0.3683\n",
      "[torch.DoubleTensor of size 5456x16384]\n",
      "\n",
      "test rff2  \n",
      "1.00000e-02 *\n",
      "-1.1049  0.3683  0.3683  ...  -0.3683  0.3683  1.1049\n",
      "-1.1049 -0.3683  1.1049  ...  -1.1049  1.1049  0.3683\n",
      "-0.3683 -1.1049  1.1049  ...  -0.3683  1.1049  1.1049\n",
      "          ...             ⋱             ...          \n",
      "-1.1049 -0.3683  1.1049  ...  -1.1049  0.3683  1.1049\n",
      "-1.1049 -0.3683  1.1049  ...  -1.1049  1.1049  1.1049\n",
      "-0.3683 -1.1049  1.1049  ...  -0.3683  1.1049  0.3683\n",
      "[torch.DoubleTensor of size 5456x16384]\n",
      "\n"
     ]
    }
   ],
   "source": [
    "args = Args(n_fp_rff=1024, n_bit=2, \n",
    "            exact_kernel=False, reg_lambda=1e-3, \n",
    "            sigma=30.0, random_seed=1, \n",
    "            data_path=data_path, do_fp=False)\n",
    "s_1_test, kernel_1_test = get_spectrum_test(args)"
   ]
  },
  {
   "cell_type": "code",
   "execution_count": 43,
   "metadata": {
    "collapsed": false
   },
   "outputs": [
    {
     "name": "stdout",
     "output_type": "stream",
     "text": [
      "[ 1.09895833  1.12087674  1.12717014 ...,  1.1265191   1.12836372\n",
      "  1.12250434]\n",
      "[[ 1.09895833  0.84337023  0.8390842  ...,  0.85161675  0.7464464\n",
      "   0.83037652]\n",
      " [ 0.84337023  1.12087674  0.95876736 ...,  0.94986979  0.92938911\n",
      "   0.91414388]\n",
      " [ 0.8390842   0.95876736  1.12717014 ...,  0.9570855   0.90725369\n",
      "   0.9121365 ]]\n"
     ]
    },
    {
     "data": {
      "image/png": "[encoded data removed]",
      "text/plain": [
       "<matplotlib.figure.Figure at 0x11db44a90>"
      ]
     },
     "metadata": {},
     "output_type": "display_data"
    }
   ],
   "source": [
    "print np.diag(kernel_1_test)\n",
    "print kernel_1_test[0:3,:]\n",
    "plt.figure()\n",
    "_ = plt.hist(np.diag(kernel_1_test),bins=100)\n",
    "plt.show()"
   ]
  },
  {
   "cell_type": "code",
   "execution_count": null,
   "metadata": {
    "collapsed": true
   },
   "outputs": [],
   "source": []
  },
  {
   "cell_type": "code",
   "execution_count": null,
   "metadata": {
    "collapsed": true
   },
   "outputs": [],
   "source": []
  },
  {
   "cell_type": "code",
   "execution_count": 6,
   "metadata": {
    "collapsed": false
   },
   "outputs": [
    {
     "name": "stdout",
     "output_type": "stream",
     "text": [
      "[  4.87422412e+03   9.92007523e+01   7.62955627e+01 ...,   6.18245899e-09\n",
      "   4.54027393e-09   9.55269891e-11]\n"
     ]
    },
    {
     "data": {
      "image/png": "[encoded data removed]",
      "text/plain": [
       "<matplotlib.figure.Figure at 0x11df2b610>"
      ]
     },
     "metadata": {},
     "output_type": "display_data"
    }
   ],
   "source": [
    "print s_exact\n",
    "plt.figure()\n",
    "_ = plt.hist(np.log(s_exact),bins=100)\n",
    "plt.show()"
   ]
  },
  {
   "cell_type": "code",
   "execution_count": 7,
   "metadata": {
    "collapsed": false
   },
   "outputs": [
    {
     "name": "stdout",
     "output_type": "stream",
     "text": [
      "[  4.91588923e+03   9.76161314e+01   7.45011299e+01 ...,   4.80692726e-13\n",
      "   1.01362488e-13   4.13374761e-14]\n"
     ]
    },
    {
     "data": {
      "image/png": "[encoded data removed]",
      "text/plain": [
       "<matplotlib.figure.Figure at 0x11dc69850>"
      ]
     },
     "metadata": {},
     "output_type": "display_data"
    }
   ],
   "source": [
    "print s_fp\n",
    "plt.figure()\n",
    "_ = plt.hist(np.log(s_fp),bins=100)\n",
    "plt.show()"
   ]
  },
  {
   "cell_type": "code",
   "execution_count": 8,
   "metadata": {
    "collapsed": false
   },
   "outputs": [
    {
     "name": "stdout",
     "output_type": "stream",
     "text": [
      "[  4.91645370e+03   9.36678968e+01   7.49424546e+01 ...,   4.90781849e-13\n",
      "   1.30537380e-13   3.44960307e-14]\n"
     ]
    },
    {
     "data": {
      "image/png": "[encoded data removed]",
      "text/plain": [
       "<matplotlib.figure.Figure at 0x11e369090>"
      ]
     },
     "metadata": {},
     "output_type": "display_data"
    }
   ],
   "source": [
    "print s_32\n",
    "plt.figure()\n",
    "_ = plt.hist(np.log(s_32),bins=100)\n",
    "plt.show()"
   ]
  },
  {
   "cell_type": "code",
   "execution_count": 9,
   "metadata": {
    "collapsed": false
   },
   "outputs": [
    {
     "name": "stdout",
     "output_type": "stream",
     "text": [
      "[  4.92772646e+03   9.92845382e+01   7.16227742e+01 ...,   1.30972131e-13\n",
      "   5.50731281e-14   5.32621153e-14]\n"
     ]
    },
    {
     "data": {
      "image/png": "[encoded data removed]",
      "text/plain": [
       "<matplotlib.figure.Figure at 0x11e6b1f90>"
      ]
     },
     "metadata": {},
     "output_type": "display_data"
    }
   ],
   "source": [
    "print s_16\n",
    "plt.figure()\n",
    "_ = plt.hist(np.log(s_16),bins=100)\n",
    "plt.show()"
   ]
  },
  {
   "cell_type": "code",
   "execution_count": 10,
   "metadata": {
    "collapsed": false
   },
   "outputs": [
    {
     "name": "stdout",
     "output_type": "stream",
     "text": [
      "[  4.79986673e+03   1.01274638e+02   8.09237702e+01 ...,   2.91166374e-14\n",
      "   2.01892143e-14   6.35161380e-15]\n"
     ]
    },
    {
     "data": {
      "image/png": "[encoded data removed]",
      "text/plain": [
       "<matplotlib.figure.Figure at 0x11dc8dc90>"
      ]
     },
     "metadata": {},
     "output_type": "display_data"
    }
   ],
   "source": [
    "print s_8\n",
    "plt.figure()\n",
    "_ = plt.hist(np.log(s_8),bins=100)\n",
    "plt.show()"
   ]
  },
  {
   "cell_type": "code",
   "execution_count": 11,
   "metadata": {
    "collapsed": false
   },
   "outputs": [
    {
     "name": "stdout",
     "output_type": "stream",
     "text": [
      "[  4.85706958e+03   1.03042343e+02   7.59865365e+01 ...,   2.20834156e-04\n",
      "   2.13297390e-04   2.10150551e-04]\n"
     ]
    },
    {
     "data": {
      "image/png": "[encoded data removed]",
      "text/plain": [
       "<matplotlib.figure.Figure at 0x11e157190>"
      ]
     },
     "metadata": {},
     "output_type": "display_data"
    }
   ],
   "source": [
    "print s_4\n",
    "plt.figure()\n",
    "_ = plt.hist(np.log(s_4),bins=100)\n",
    "plt.show()"
   ]
  },
  {
   "cell_type": "code",
   "execution_count": 12,
   "metadata": {
    "collapsed": false
   },
   "outputs": [
    {
     "name": "stdout",
     "output_type": "stream",
     "text": [
      "[  4.87785233e+03   1.00451189e+02   8.06809640e+01 ...,   2.18074883e-02\n",
      "   2.16997374e-02   2.16595938e-02]\n"
     ]
    },
    {
     "data": {
      "image/png": "[encoded data removed]",
      "text/plain": [
       "<matplotlib.figure.Figure at 0x11e8912d0>"
      ]
     },
     "metadata": {},
     "output_type": "display_data"
    }
   ],
   "source": [
    "print s_2\n",
    "plt.figure()\n",
    "_ = plt.hist(np.log(s_2),bins=100)\n",
    "plt.show()"
   ]
  },
  {
   "cell_type": "code",
   "execution_count": 13,
   "metadata": {
    "collapsed": false
   },
   "outputs": [
    {
     "name": "stdout",
     "output_type": "stream",
     "text": [
      "[  4.87050873e+03   9.96647985e+01   8.00128565e+01 ...,   3.02800135e-01\n",
      "   3.01387460e-01   3.00918557e-01]\n"
     ]
    },
    {
     "data": {
      "image/png": "[encoded data removed]",
      "text/plain": [
       "<matplotlib.figure.Figure at 0x11da36050>"
      ]
     },
     "metadata": {},
     "output_type": "display_data"
    }
   ],
   "source": [
    "print s_1\n",
    "plt.figure()\n",
    "_ = plt.hist(np.log(s_1),bins=100)\n",
    "plt.show()"
   ]
  },
  {
   "cell_type": "markdown",
   "metadata": {},
   "source": [
    "# Below are old cold"
   ]
  },
  {
   "cell_type": "code",
   "execution_count": 56,
   "metadata": {
    "collapsed": false
   },
   "outputs": [
    {
     "data": {
      "text/plain": [
       "(array([ 18.,   0.,   0.,   0.,   0.,   0.,   0.,   0.,   0.,   1.]),\n",
       " array([  7.01975496e-03,   1.65006816e+00,   3.29311657e+00,\n",
       "          4.93616497e+00,   6.57921338e+00,   8.22226178e+00,\n",
       "          9.86531019e+00,   1.15083586e+01,   1.31514070e+01,\n",
       "          1.47944554e+01,   1.64375038e+01]),\n",
       " <a list of 10 Patch objects>)"
      ]
     },
     "execution_count": 56,
     "metadata": {},
     "output_type": "execute_result"
    },
    {
     "data": {
      "image/png": "[encoded data removed]",
      "text/plain": [
       "<matplotlib.figure.Figure at 0x114e31fd0>"
      ]
     },
     "metadata": {},
     "output_type": "display_data"
    }
   ],
   "source": [
    "plt.hist(s)"
   ]
  },
  {
   "cell_type": "code",
   "execution_count": null,
   "metadata": {
    "collapsed": true
   },
   "outputs": [],
   "source": []
  },
  {
   "cell_type": "code",
   "execution_count": null,
   "metadata": {
    "collapsed": true
   },
   "outputs": [],
   "source": []
  }
 ],
 "metadata": {
  "anaconda-cloud": {},
  "kernelspec": {
   "display_name": "Python [conda env:pytorch_2.0]",
   "language": "python",
   "name": "conda-env-pytorch_2.0-py"
  },
  "language_info": {
   "codemirror_mode": {
    "name": "ipython",
    "version": 2
   },
   "file_extension": ".py",
   "mimetype": "text/x-python",
   "name": "python",
   "nbconvert_exporter": "python",
   "pygments_lexer": "ipython2",
   "version": "2.7.13"
  }
 },
 "nbformat": 4,
 "nbformat_minor": 1
}
